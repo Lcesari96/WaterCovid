{
 "cells": [
  {
   "cell_type": "markdown",
   "id": "b330bae2",
   "metadata": {},
   "source": [
    "<a id = 'contents'></a>\n",
    "# Analysis of the Impact of COVID-19 on Water consumptions Patterns exploiting  Machine Learning techniques\n",
    "\n",
    "## Table of contents\n",
    "\n",
    "1. [Introduction and purposes](#intro)\n",
    "\n",
    "\n",
    "2. [Working dataframe](#df)\n",
    "\n",
    "\n",
    "3. [Exploratory analysis](#exp)\n",
    "\n",
    "    - [Overall behaviour](#over)\n",
    "       \n",
    "    - [Monthly behaviour](#month)\n",
    "    \n",
    "    - [Daily water consuption patterns](#day)\n",
    "    \n",
    "    - [Fixtures analysis](#fix)\n",
    "    \n",
    "    \n",
    "4. [A supervised learning problem: classification](#class)\n",
    "\n",
    "    -  [Preprocessing](#pre)\n",
    "    \n",
    "        - [New working dataframe](#new)\n",
    "        \n",
    "        - [Pipeline](#pip)\n",
    "        \n",
    "    - [SVM Classifier](#svm)\n",
    "    \n",
    "        - [Why SVM?](#why)\n",
    "        \n",
    "        - [Tuning](#tun)\n",
    "        \n",
    "        - [Ensemble learning: bagging](#bag)\n",
    "        \n",
    "    - [Real case application](#real)\n",
    "    \n",
    "    \n",
    "5. [Conclusions](#end)"
   ]
  },
  {
   "cell_type": "markdown",
   "id": "54740ca0",
   "metadata": {},
   "source": [
    "<a id = 'intro'></a>\n",
    "# Introduction and purposes\n",
    "\n",
    "The goal, firstly, is to **Explore** the data for capture and analyse the Impact of COVID-19 on water consumptions Patterns.\n",
    "\n",
    "Then, by also exploiting exploratory results, develop **Machine learning techinques** for solve different tasks.\n",
    "\n",
    "**WEUSEDTO** dataset contains data about **water consumption** gathered in a residential apartment with one inhabitant sited in Naples, Italy.\n",
    "\n",
    "Includes **17 months** of water consumption measurements before and within COVID-19: **8 months** from **March** to **October 2019** and **9 months** from **July 2020** and **May 2021**.\n",
    " \n",
    "The introducion of smart working allowed to compare two different profiles: **worker** and **smart worker** user. I will use this profiles as benchmarks for the analysis.\n",
    "    \n",
    "Due to the different water consumption impact of the apartment fixtures, I decide to consider only the 4 with greater impact on behavioral routine: **bidet**, **washbasin**, **kitchen faucet** and **shower**."
   ]
  },
  {
   "cell_type": "markdown",
   "id": "4724eb57",
   "metadata": {},
   "source": [
    "\n",
    "[Return to contents](#contents)"
   ]
  },
  {
   "cell_type": "markdown",
   "id": "583ad893",
   "metadata": {},
   "source": [
    "<a id = 'df'></a>\n",
    "# Working dataframe \n",
    "    \n",
    "All about on how I import data, libraries and folder path definitions are in the following two notebooks. \n",
    "    \n",
    "[Setup notebook](Setup.ipynb)\n",
    "\n",
    "[Import notebook](Import.ipynb)\n",
    "\n",
    "Raw data from github: [Raw data WEUSEDTO](https://github.com/AnnaDiMauro/WEUSEDTO-Data/tree/main/Dataset)\n"
   ]
  },
  {
   "cell_type": "code",
   "execution_count": 1,
   "id": "5191f961",
   "metadata": {},
   "outputs": [],
   "source": [
    "%run setup.ipynb \n",
    "%run import.ipynb"
   ]
  },
  {
   "cell_type": "code",
   "execution_count": 2,
   "id": "14c93c6a",
   "metadata": {},
   "outputs": [
    {
     "data": {
      "text/html": [
       "<div>\n",
       "<style scoped>\n",
       "    .dataframe tbody tr th:only-of-type {\n",
       "        vertical-align: middle;\n",
       "    }\n",
       "\n",
       "    .dataframe tbody tr th {\n",
       "        vertical-align: top;\n",
       "    }\n",
       "\n",
       "    .dataframe thead th {\n",
       "        text-align: right;\n",
       "    }\n",
       "</style>\n",
       "<table border=\"1\" class=\"dataframe\">\n",
       "  <thead>\n",
       "    <tr style=\"text-align: right;\">\n",
       "      <th></th>\n",
       "      <th>Flow</th>\n",
       "      <th>Fixture</th>\n",
       "    </tr>\n",
       "    <tr>\n",
       "      <th>Time</th>\n",
       "      <th></th>\n",
       "      <th></th>\n",
       "    </tr>\n",
       "  </thead>\n",
       "  <tbody>\n",
       "    <tr>\n",
       "      <th>2019-02-16 16:36:19</th>\n",
       "      <td>92.0</td>\n",
       "      <td>Bidet</td>\n",
       "    </tr>\n",
       "    <tr>\n",
       "      <th>2019-02-16 16:36:20</th>\n",
       "      <td>6.0</td>\n",
       "      <td>Bidet</td>\n",
       "    </tr>\n",
       "    <tr>\n",
       "      <th>2019-02-16 16:51:52</th>\n",
       "      <td>38.0</td>\n",
       "      <td>Bidet</td>\n",
       "    </tr>\n",
       "    <tr>\n",
       "      <th>2019-02-16 16:51:54</th>\n",
       "      <td>58.0</td>\n",
       "      <td>Bidet</td>\n",
       "    </tr>\n",
       "    <tr>\n",
       "      <th>2019-02-16 16:51:55</th>\n",
       "      <td>56.0</td>\n",
       "      <td>Bidet</td>\n",
       "    </tr>\n",
       "  </tbody>\n",
       "</table>\n",
       "</div>"
      ],
      "text/plain": [
       "                     Flow Fixture\n",
       "Time                             \n",
       "2019-02-16 16:36:19  92.0   Bidet\n",
       "2019-02-16 16:36:20   6.0   Bidet\n",
       "2019-02-16 16:51:52  38.0   Bidet\n",
       "2019-02-16 16:51:54  58.0   Bidet\n",
       "2019-02-16 16:51:55  56.0   Bidet"
      ]
     },
     "execution_count": 2,
     "metadata": {},
     "output_type": "execute_result"
    }
   ],
   "source": [
    "df.head()"
   ]
  },
  {
   "cell_type": "markdown",
   "id": "3384e02d",
   "metadata": {},
   "source": [
    "Each row corresponds to a **water consuption measuraments**.\n",
    "\n",
    "The index **Time** contains `datetime` i.e., **YYYY-MM-DD HH:MM:SS** of each measurement.\n",
    "\n",
    "**Flow** (ml/s) of the water measurament.\n",
    "\n",
    "**Fixture** that characterizes each measurament.\n",
    "\n",
    "The `dataframe` does not cover all the months of the years thus I take two reference periods for my analysis:\n",
    "\n",
    "- **Pre-covid**: july to october 2019.\n",
    "\n",
    "\n",
    "- **Intra-covid**: july to october 2020.\n",
    "\n",
    "\n",
    "# PLESE NOTE :\n",
    "I associate the profiles: **worker** to the **Pre-covid measurements 2019** while **smart worker** to the **Intra-covid measurements 2020**."
   ]
  },
  {
   "cell_type": "code",
   "execution_count": 3,
   "id": "106e30e3",
   "metadata": {},
   "outputs": [
    {
     "name": "stdout",
     "output_type": "stream",
     "text": [
      "<class 'pandas.core.frame.DataFrame'>\n",
      "DatetimeIndex: 417421 entries, 2019-07-01 00:01:11 to 2020-10-31 23:59:54\n",
      "Data columns (total 2 columns):\n",
      " #   Column   Non-Null Count   Dtype  \n",
      "---  ------   --------------   -----  \n",
      " 0   Flow     417421 non-null  float64\n",
      " 1   Fixture  417421 non-null  object \n",
      "dtypes: float64(1), object(1)\n",
      "memory usage: 9.6+ MB\n"
     ]
    }
   ],
   "source": [
    "df = pd.concat([df.loc['2019-07':'2019-10'], df.loc['2020-07':'2020-10']]) # Working Dataframe \n",
    "df.info()"
   ]
  },
  {
   "cell_type": "markdown",
   "id": "624b1065",
   "metadata": {},
   "source": [
    "No missing values are present."
   ]
  },
  {
   "cell_type": "markdown",
   "id": "0379d8e2",
   "metadata": {},
   "source": [
    "[Return to contents](#contents)"
   ]
  },
  {
   "cell_type": "markdown",
   "id": "b4aa447f",
   "metadata": {},
   "source": [
    "<a id = 'exp'></a>\n",
    "# Exploratory analysis "
   ]
  },
  {
   "cell_type": "markdown",
   "id": "eab0bcec",
   "metadata": {},
   "source": [
    "<a id = 'over'></a>\n",
    "# Overall behaviour of the water consumption before and intra the pandemic"
   ]
  },
  {
   "cell_type": "code",
   "execution_count": 4,
   "id": "9ad59b00",
   "metadata": {
    "scrolled": true
   },
   "outputs": [
    {
     "data": {
      "text/html": [
       "<th style=\"text-align:center\"><td style=\"vertical-align:top\"><h2>1 Global overall behaviour</h2><table style=\"display:inline\" border=\"1\" class=\"dataframe\">\n",
       "  <thead>\n",
       "    <tr style=\"text-align: right;\">\n",
       "      <th></th>\n",
       "      <th>Flow</th>\n",
       "    </tr>\n",
       "    <tr>\n",
       "      <th>Time</th>\n",
       "      <th></th>\n",
       "    </tr>\n",
       "  </thead>\n",
       "  <tbody>\n",
       "    <tr>\n",
       "      <th>2019</th>\n",
       "      <td>3869439.0</td>\n",
       "    </tr>\n",
       "    <tr>\n",
       "      <th>2020</th>\n",
       "      <td>5896802.0</td>\n",
       "    </tr>\n",
       "  </tbody>\n",
       "</table style=\"display:inline\"></td></th><th style=\"text-align:center\"><td style=\"vertical-align:top\"><h2>2 By day overall behaviour</h2><table style=\"display:inline\" border=\"1\" class=\"dataframe\">\n",
       "  <thead>\n",
       "    <tr style=\"text-align: right;\">\n",
       "      <th></th>\n",
       "      <th></th>\n",
       "      <th>Flow</th>\n",
       "    </tr>\n",
       "    <tr>\n",
       "      <th>Time</th>\n",
       "      <th>Time</th>\n",
       "      <th></th>\n",
       "    </tr>\n",
       "  </thead>\n",
       "  <tbody>\n",
       "    <tr>\n",
       "      <th rowspan=\"5\" valign=\"top\">2019</th>\n",
       "      <th>07/01/2019</th>\n",
       "      <td>20690.0</td>\n",
       "    </tr>\n",
       "    <tr>\n",
       "      <th>07/02/2019</th>\n",
       "      <td>7152.0</td>\n",
       "    </tr>\n",
       "    <tr>\n",
       "      <th>07/03/2019</th>\n",
       "      <td>81401.0</td>\n",
       "    </tr>\n",
       "    <tr>\n",
       "      <th>07/04/2019</th>\n",
       "      <td>23660.0</td>\n",
       "    </tr>\n",
       "    <tr>\n",
       "      <th>07/05/2019</th>\n",
       "      <td>1232.0</td>\n",
       "    </tr>\n",
       "  </tbody>\n",
       "</table style=\"display:inline\"></td></th>"
      ]
     },
     "metadata": {},
     "output_type": "display_data"
    }
   ],
   "source": [
    "# Data manipulation\n",
    "group = df.groupby([df.index.year, df.index.strftime('%m/%d/%Y')]).sum() # for line plot\n",
    "group1 = df.groupby([df.index.year]).sum() # for hist\n",
    "\n",
    "display_side_by_side(group1.head(), group.head(), titles=['1 Global overall behaviour', '2 By day overall behaviour']) "
   ]
  },
  {
   "cell_type": "markdown",
   "id": "0eff2fd2",
   "metadata": {},
   "source": [
    "Throught the `groupby` i create new `dataframes` for the visualizzation.\n",
    "\n",
    "Within `groupbys` i apply the `sum`, thus we are referring to **sum of flows**.\n",
    "\n",
    "The outputs of the `groupby` functions are already sorted and the non considered variables that not match with the chosen function(sum) are automatically dropped.\n",
    "\n",
    "I choose `Plotly` due to its interactive plots, very useful for our purpose since we can isolate visualizzation of different features."
   ]
  },
  {
   "cell_type": "markdown",
   "id": "24714f02",
   "metadata": {},
   "source": [
    "In our cases, the `groupby` objects have **multilevel index**.\n",
    "\n",
    "Throught the function `.get_level_values` we retrive the desidered index values.\n",
    "\n",
    "Starting from the left, the farthest level correspond to **0**, then **1**, and so on..."
   ]
  },
  {
   "cell_type": "code",
   "execution_count": 5,
   "id": "59cad48b",
   "metadata": {
    "scrolled": false
   },
   "outputs": [
    {
     "data": {
      "application/vnd.plotly.v1+json": {
       "config": {
        "plotlyServerURL": "https://plot.ly"
       },
       "data": [
        {
         "hovertemplate": "Years=2019<br>Days=%{x}<br>Sum of flows=%{y}<extra></extra>",
         "legendgroup": "2019",
         "line": {
          "color": "#636efa",
          "dash": "solid"
         },
         "marker": {
          "symbol": "circle"
         },
         "mode": "lines",
         "name": "2019",
         "orientation": "v",
         "showlegend": true,
         "type": "scatter",
         "x": [
          "07/01/2019",
          "07/02/2019",
          "07/03/2019",
          "07/04/2019",
          "07/05/2019",
          "07/06/2019",
          "07/07/2019",
          "07/08/2019",
          "07/09/2019",
          "07/10/2019",
          "07/11/2019",
          "07/12/2019",
          "07/13/2019",
          "07/14/2019",
          "07/15/2019",
          "07/16/2019",
          "07/17/2019",
          "07/18/2019",
          "07/19/2019",
          "07/20/2019",
          "07/21/2019",
          "07/22/2019",
          "07/23/2019",
          "07/24/2019",
          "07/25/2019",
          "07/26/2019",
          "07/27/2019",
          "07/28/2019",
          "07/29/2019",
          "07/30/2019",
          "07/31/2019",
          "08/01/2019",
          "08/02/2019",
          "08/03/2019",
          "08/04/2019",
          "08/05/2019",
          "08/06/2019",
          "08/07/2019",
          "08/08/2019",
          "08/09/2019",
          "08/10/2019",
          "08/11/2019",
          "08/13/2019",
          "08/14/2019",
          "08/15/2019",
          "08/16/2019",
          "08/17/2019",
          "08/18/2019",
          "08/19/2019",
          "08/20/2019",
          "08/21/2019",
          "08/22/2019",
          "08/23/2019",
          "08/24/2019",
          "08/25/2019",
          "08/29/2019",
          "08/30/2019",
          "08/31/2019",
          "09/01/2019",
          "09/02/2019",
          "09/03/2019",
          "09/04/2019",
          "09/05/2019",
          "09/06/2019",
          "09/07/2019",
          "09/08/2019",
          "09/09/2019",
          "09/10/2019",
          "09/11/2019",
          "09/12/2019",
          "09/13/2019",
          "09/14/2019",
          "09/15/2019",
          "09/16/2019",
          "09/17/2019",
          "09/18/2019",
          "09/19/2019",
          "09/20/2019",
          "09/21/2019",
          "09/22/2019",
          "09/23/2019",
          "09/24/2019",
          "09/25/2019",
          "09/26/2019",
          "09/27/2019",
          "09/28/2019",
          "09/29/2019",
          "09/30/2019",
          "10/01/2019",
          "10/02/2019",
          "10/03/2019",
          "10/04/2019",
          "10/05/2019",
          "10/06/2019",
          "10/07/2019",
          "10/08/2019",
          "10/09/2019",
          "10/10/2019",
          "10/11/2019",
          "10/12/2019",
          "10/13/2019",
          "10/14/2019",
          "10/15/2019",
          "10/16/2019",
          "10/17/2019",
          "10/18/2019",
          "10/19/2019",
          "10/20/2019",
          "10/21/2019",
          "10/22/2019",
          "10/23/2019",
          "10/24/2019",
          "10/25/2019",
          "10/26/2019",
          "10/27/2019",
          "10/28/2019"
         ],
         "xaxis": "x",
         "y": [
          20690,
          7152,
          81401,
          23660,
          1232,
          84573,
          28125,
          61135,
          13473,
          84220,
          28053,
          77449,
          8924,
          127152,
          8502,
          38861,
          13917,
          21833,
          8075,
          5343,
          15643,
          31467,
          30076,
          20615,
          6120,
          9236,
          15648,
          11701,
          28892,
          100552,
          26857,
          0,
          0,
          0,
          35130,
          81357,
          39175,
          2380,
          2633,
          7712,
          0,
          0,
          37317,
          992,
          29581,
          48328,
          14467,
          3281,
          29039,
          2,
          0,
          39164,
          0,
          0,
          15262,
          3378,
          32571,
          36333,
          10342,
          25030,
          21574,
          31048,
          28049,
          24034,
          46440,
          3885,
          20834,
          72133,
          3494,
          2,
          8266,
          31371,
          9640,
          36415,
          27180,
          77167,
          21451,
          9119,
          49737,
          32648,
          62442,
          37472,
          33202,
          59601,
          35353,
          42155,
          74933,
          24538,
          42823,
          87,
          55045,
          27896,
          31453,
          79024,
          6932,
          82508,
          63225,
          41888,
          40571,
          95736,
          86971,
          40755,
          61854,
          20237,
          78527,
          28351,
          115306,
          4883,
          15775,
          82475,
          12399,
          43420,
          40839,
          41780,
          58322,
          112123
         ],
         "yaxis": "y"
        },
        {
         "hovertemplate": "Years=2020<br>Days=%{x}<br>Sum of flows=%{y}<extra></extra>",
         "legendgroup": "2020",
         "line": {
          "color": "#EF553B",
          "dash": "solid"
         },
         "marker": {
          "symbol": "circle"
         },
         "mode": "lines",
         "name": "2020",
         "orientation": "v",
         "showlegend": true,
         "type": "scatter",
         "x": [
          "07/02/2020",
          "07/03/2020",
          "07/04/2020",
          "07/05/2020",
          "07/06/2020",
          "07/07/2020",
          "07/08/2020",
          "07/09/2020",
          "07/10/2020",
          "07/11/2020",
          "07/12/2020",
          "07/13/2020",
          "07/14/2020",
          "07/15/2020",
          "07/16/2020",
          "07/17/2020",
          "07/18/2020",
          "07/19/2020",
          "07/20/2020",
          "07/21/2020",
          "07/22/2020",
          "07/23/2020",
          "07/24/2020",
          "07/25/2020",
          "07/26/2020",
          "07/27/2020",
          "07/28/2020",
          "07/29/2020",
          "07/30/2020",
          "07/31/2020",
          "08/01/2020",
          "08/02/2020",
          "08/03/2020",
          "08/04/2020",
          "08/05/2020",
          "08/06/2020",
          "08/07/2020",
          "08/08/2020",
          "08/09/2020",
          "08/10/2020",
          "08/11/2020",
          "08/12/2020",
          "08/13/2020",
          "08/14/2020",
          "08/15/2020",
          "08/16/2020",
          "08/17/2020",
          "08/18/2020",
          "08/19/2020",
          "08/20/2020",
          "08/21/2020",
          "08/22/2020",
          "08/23/2020",
          "08/24/2020",
          "08/25/2020",
          "08/26/2020",
          "08/27/2020",
          "08/28/2020",
          "08/29/2020",
          "08/30/2020",
          "08/31/2020",
          "09/01/2020",
          "09/02/2020",
          "09/03/2020",
          "09/04/2020",
          "09/05/2020",
          "09/06/2020",
          "09/07/2020",
          "09/08/2020",
          "09/09/2020",
          "09/10/2020",
          "09/11/2020",
          "09/12/2020",
          "09/13/2020",
          "09/14/2020",
          "09/15/2020",
          "09/16/2020",
          "09/17/2020",
          "09/18/2020",
          "09/19/2020",
          "09/20/2020",
          "09/21/2020",
          "09/22/2020",
          "09/23/2020",
          "09/24/2020",
          "09/25/2020",
          "09/26/2020",
          "09/27/2020",
          "09/28/2020",
          "09/29/2020",
          "09/30/2020",
          "10/01/2020",
          "10/02/2020",
          "10/03/2020",
          "10/04/2020",
          "10/05/2020",
          "10/06/2020",
          "10/07/2020",
          "10/08/2020",
          "10/09/2020",
          "10/10/2020",
          "10/11/2020",
          "10/12/2020",
          "10/13/2020",
          "10/14/2020",
          "10/15/2020",
          "10/16/2020",
          "10/17/2020",
          "10/18/2020",
          "10/19/2020",
          "10/20/2020",
          "10/21/2020",
          "10/22/2020",
          "10/27/2020",
          "10/28/2020",
          "10/29/2020",
          "10/30/2020",
          "10/31/2020"
         ],
         "xaxis": "x",
         "y": [
          73091,
          52166,
          69897,
          125336,
          75486,
          35867,
          104133,
          18925,
          66734,
          64618,
          78925,
          81879,
          72524,
          23374,
          52762,
          40602,
          60252,
          37262,
          19746,
          36006,
          31169,
          38248,
          22840,
          30019,
          16357,
          46129,
          61623,
          70272,
          48294,
          28556,
          32078,
          59197,
          50274,
          88601,
          62517,
          69107,
          115521,
          160229,
          117038,
          8,
          6668,
          12519,
          5960,
          16,
          0,
          1718,
          0,
          33927,
          54341,
          45399,
          27229,
          29986,
          23115,
          18016,
          15957,
          74595,
          92035,
          36839,
          45618,
          68187,
          18674,
          45779,
          48646,
          61240,
          72246,
          47283,
          49639,
          0,
          49149,
          63714,
          81714,
          53968,
          84916,
          28532,
          3353,
          76173,
          66543,
          76129,
          47545,
          113843,
          52128,
          95861,
          94392,
          17167,
          74543,
          70386,
          68612,
          78786,
          27501,
          37593,
          109989,
          39667,
          80026,
          59277,
          113835,
          75141,
          59120,
          74825,
          64604,
          40326,
          66892,
          75480,
          26992,
          37193,
          45946,
          120510,
          23944,
          5729,
          7499,
          0,
          943,
          63008,
          4,
          53163,
          10145,
          0,
          6702,
          0
         ],
         "yaxis": "y"
        }
       ],
       "layout": {
        "legend": {
         "title": {
          "text": "Years"
         },
         "tracegroupgap": 0
        },
        "template": {
         "data": {
          "bar": [
           {
            "error_x": {
             "color": "#2a3f5f"
            },
            "error_y": {
             "color": "#2a3f5f"
            },
            "marker": {
             "line": {
              "color": "#E5ECF6",
              "width": 0.5
             },
             "pattern": {
              "fillmode": "overlay",
              "size": 10,
              "solidity": 0.2
             }
            },
            "type": "bar"
           }
          ],
          "barpolar": [
           {
            "marker": {
             "line": {
              "color": "#E5ECF6",
              "width": 0.5
             },
             "pattern": {
              "fillmode": "overlay",
              "size": 10,
              "solidity": 0.2
             }
            },
            "type": "barpolar"
           }
          ],
          "carpet": [
           {
            "aaxis": {
             "endlinecolor": "#2a3f5f",
             "gridcolor": "white",
             "linecolor": "white",
             "minorgridcolor": "white",
             "startlinecolor": "#2a3f5f"
            },
            "baxis": {
             "endlinecolor": "#2a3f5f",
             "gridcolor": "white",
             "linecolor": "white",
             "minorgridcolor": "white",
             "startlinecolor": "#2a3f5f"
            },
            "type": "carpet"
           }
          ],
          "choropleth": [
           {
            "colorbar": {
             "outlinewidth": 0,
             "ticks": ""
            },
            "type": "choropleth"
           }
          ],
          "contour": [
           {
            "colorbar": {
             "outlinewidth": 0,
             "ticks": ""
            },
            "colorscale": [
             [
              0,
              "#0d0887"
             ],
             [
              0.1111111111111111,
              "#46039f"
             ],
             [
              0.2222222222222222,
              "#7201a8"
             ],
             [
              0.3333333333333333,
              "#9c179e"
             ],
             [
              0.4444444444444444,
              "#bd3786"
             ],
             [
              0.5555555555555556,
              "#d8576b"
             ],
             [
              0.6666666666666666,
              "#ed7953"
             ],
             [
              0.7777777777777778,
              "#fb9f3a"
             ],
             [
              0.8888888888888888,
              "#fdca26"
             ],
             [
              1,
              "#f0f921"
             ]
            ],
            "type": "contour"
           }
          ],
          "contourcarpet": [
           {
            "colorbar": {
             "outlinewidth": 0,
             "ticks": ""
            },
            "type": "contourcarpet"
           }
          ],
          "heatmap": [
           {
            "colorbar": {
             "outlinewidth": 0,
             "ticks": ""
            },
            "colorscale": [
             [
              0,
              "#0d0887"
             ],
             [
              0.1111111111111111,
              "#46039f"
             ],
             [
              0.2222222222222222,
              "#7201a8"
             ],
             [
              0.3333333333333333,
              "#9c179e"
             ],
             [
              0.4444444444444444,
              "#bd3786"
             ],
             [
              0.5555555555555556,
              "#d8576b"
             ],
             [
              0.6666666666666666,
              "#ed7953"
             ],
             [
              0.7777777777777778,
              "#fb9f3a"
             ],
             [
              0.8888888888888888,
              "#fdca26"
             ],
             [
              1,
              "#f0f921"
             ]
            ],
            "type": "heatmap"
           }
          ],
          "heatmapgl": [
           {
            "colorbar": {
             "outlinewidth": 0,
             "ticks": ""
            },
            "colorscale": [
             [
              0,
              "#0d0887"
             ],
             [
              0.1111111111111111,
              "#46039f"
             ],
             [
              0.2222222222222222,
              "#7201a8"
             ],
             [
              0.3333333333333333,
              "#9c179e"
             ],
             [
              0.4444444444444444,
              "#bd3786"
             ],
             [
              0.5555555555555556,
              "#d8576b"
             ],
             [
              0.6666666666666666,
              "#ed7953"
             ],
             [
              0.7777777777777778,
              "#fb9f3a"
             ],
             [
              0.8888888888888888,
              "#fdca26"
             ],
             [
              1,
              "#f0f921"
             ]
            ],
            "type": "heatmapgl"
           }
          ],
          "histogram": [
           {
            "marker": {
             "pattern": {
              "fillmode": "overlay",
              "size": 10,
              "solidity": 0.2
             }
            },
            "type": "histogram"
           }
          ],
          "histogram2d": [
           {
            "colorbar": {
             "outlinewidth": 0,
             "ticks": ""
            },
            "colorscale": [
             [
              0,
              "#0d0887"
             ],
             [
              0.1111111111111111,
              "#46039f"
             ],
             [
              0.2222222222222222,
              "#7201a8"
             ],
             [
              0.3333333333333333,
              "#9c179e"
             ],
             [
              0.4444444444444444,
              "#bd3786"
             ],
             [
              0.5555555555555556,
              "#d8576b"
             ],
             [
              0.6666666666666666,
              "#ed7953"
             ],
             [
              0.7777777777777778,
              "#fb9f3a"
             ],
             [
              0.8888888888888888,
              "#fdca26"
             ],
             [
              1,
              "#f0f921"
             ]
            ],
            "type": "histogram2d"
           }
          ],
          "histogram2dcontour": [
           {
            "colorbar": {
             "outlinewidth": 0,
             "ticks": ""
            },
            "colorscale": [
             [
              0,
              "#0d0887"
             ],
             [
              0.1111111111111111,
              "#46039f"
             ],
             [
              0.2222222222222222,
              "#7201a8"
             ],
             [
              0.3333333333333333,
              "#9c179e"
             ],
             [
              0.4444444444444444,
              "#bd3786"
             ],
             [
              0.5555555555555556,
              "#d8576b"
             ],
             [
              0.6666666666666666,
              "#ed7953"
             ],
             [
              0.7777777777777778,
              "#fb9f3a"
             ],
             [
              0.8888888888888888,
              "#fdca26"
             ],
             [
              1,
              "#f0f921"
             ]
            ],
            "type": "histogram2dcontour"
           }
          ],
          "mesh3d": [
           {
            "colorbar": {
             "outlinewidth": 0,
             "ticks": ""
            },
            "type": "mesh3d"
           }
          ],
          "parcoords": [
           {
            "line": {
             "colorbar": {
              "outlinewidth": 0,
              "ticks": ""
             }
            },
            "type": "parcoords"
           }
          ],
          "pie": [
           {
            "automargin": true,
            "type": "pie"
           }
          ],
          "scatter": [
           {
            "marker": {
             "colorbar": {
              "outlinewidth": 0,
              "ticks": ""
             }
            },
            "type": "scatter"
           }
          ],
          "scatter3d": [
           {
            "line": {
             "colorbar": {
              "outlinewidth": 0,
              "ticks": ""
             }
            },
            "marker": {
             "colorbar": {
              "outlinewidth": 0,
              "ticks": ""
             }
            },
            "type": "scatter3d"
           }
          ],
          "scattercarpet": [
           {
            "marker": {
             "colorbar": {
              "outlinewidth": 0,
              "ticks": ""
             }
            },
            "type": "scattercarpet"
           }
          ],
          "scattergeo": [
           {
            "marker": {
             "colorbar": {
              "outlinewidth": 0,
              "ticks": ""
             }
            },
            "type": "scattergeo"
           }
          ],
          "scattergl": [
           {
            "marker": {
             "colorbar": {
              "outlinewidth": 0,
              "ticks": ""
             }
            },
            "type": "scattergl"
           }
          ],
          "scattermapbox": [
           {
            "marker": {
             "colorbar": {
              "outlinewidth": 0,
              "ticks": ""
             }
            },
            "type": "scattermapbox"
           }
          ],
          "scatterpolar": [
           {
            "marker": {
             "colorbar": {
              "outlinewidth": 0,
              "ticks": ""
             }
            },
            "type": "scatterpolar"
           }
          ],
          "scatterpolargl": [
           {
            "marker": {
             "colorbar": {
              "outlinewidth": 0,
              "ticks": ""
             }
            },
            "type": "scatterpolargl"
           }
          ],
          "scatterternary": [
           {
            "marker": {
             "colorbar": {
              "outlinewidth": 0,
              "ticks": ""
             }
            },
            "type": "scatterternary"
           }
          ],
          "surface": [
           {
            "colorbar": {
             "outlinewidth": 0,
             "ticks": ""
            },
            "colorscale": [
             [
              0,
              "#0d0887"
             ],
             [
              0.1111111111111111,
              "#46039f"
             ],
             [
              0.2222222222222222,
              "#7201a8"
             ],
             [
              0.3333333333333333,
              "#9c179e"
             ],
             [
              0.4444444444444444,
              "#bd3786"
             ],
             [
              0.5555555555555556,
              "#d8576b"
             ],
             [
              0.6666666666666666,
              "#ed7953"
             ],
             [
              0.7777777777777778,
              "#fb9f3a"
             ],
             [
              0.8888888888888888,
              "#fdca26"
             ],
             [
              1,
              "#f0f921"
             ]
            ],
            "type": "surface"
           }
          ],
          "table": [
           {
            "cells": {
             "fill": {
              "color": "#EBF0F8"
             },
             "line": {
              "color": "white"
             }
            },
            "header": {
             "fill": {
              "color": "#C8D4E3"
             },
             "line": {
              "color": "white"
             }
            },
            "type": "table"
           }
          ]
         },
         "layout": {
          "annotationdefaults": {
           "arrowcolor": "#2a3f5f",
           "arrowhead": 0,
           "arrowwidth": 1
          },
          "autotypenumbers": "strict",
          "coloraxis": {
           "colorbar": {
            "outlinewidth": 0,
            "ticks": ""
           }
          },
          "colorscale": {
           "diverging": [
            [
             0,
             "#8e0152"
            ],
            [
             0.1,
             "#c51b7d"
            ],
            [
             0.2,
             "#de77ae"
            ],
            [
             0.3,
             "#f1b6da"
            ],
            [
             0.4,
             "#fde0ef"
            ],
            [
             0.5,
             "#f7f7f7"
            ],
            [
             0.6,
             "#e6f5d0"
            ],
            [
             0.7,
             "#b8e186"
            ],
            [
             0.8,
             "#7fbc41"
            ],
            [
             0.9,
             "#4d9221"
            ],
            [
             1,
             "#276419"
            ]
           ],
           "sequential": [
            [
             0,
             "#0d0887"
            ],
            [
             0.1111111111111111,
             "#46039f"
            ],
            [
             0.2222222222222222,
             "#7201a8"
            ],
            [
             0.3333333333333333,
             "#9c179e"
            ],
            [
             0.4444444444444444,
             "#bd3786"
            ],
            [
             0.5555555555555556,
             "#d8576b"
            ],
            [
             0.6666666666666666,
             "#ed7953"
            ],
            [
             0.7777777777777778,
             "#fb9f3a"
            ],
            [
             0.8888888888888888,
             "#fdca26"
            ],
            [
             1,
             "#f0f921"
            ]
           ],
           "sequentialminus": [
            [
             0,
             "#0d0887"
            ],
            [
             0.1111111111111111,
             "#46039f"
            ],
            [
             0.2222222222222222,
             "#7201a8"
            ],
            [
             0.3333333333333333,
             "#9c179e"
            ],
            [
             0.4444444444444444,
             "#bd3786"
            ],
            [
             0.5555555555555556,
             "#d8576b"
            ],
            [
             0.6666666666666666,
             "#ed7953"
            ],
            [
             0.7777777777777778,
             "#fb9f3a"
            ],
            [
             0.8888888888888888,
             "#fdca26"
            ],
            [
             1,
             "#f0f921"
            ]
           ]
          },
          "colorway": [
           "#636efa",
           "#EF553B",
           "#00cc96",
           "#ab63fa",
           "#FFA15A",
           "#19d3f3",
           "#FF6692",
           "#B6E880",
           "#FF97FF",
           "#FECB52"
          ],
          "font": {
           "color": "#2a3f5f"
          },
          "geo": {
           "bgcolor": "white",
           "lakecolor": "white",
           "landcolor": "#E5ECF6",
           "showlakes": true,
           "showland": true,
           "subunitcolor": "white"
          },
          "hoverlabel": {
           "align": "left"
          },
          "hovermode": "closest",
          "mapbox": {
           "style": "light"
          },
          "paper_bgcolor": "white",
          "plot_bgcolor": "#E5ECF6",
          "polar": {
           "angularaxis": {
            "gridcolor": "white",
            "linecolor": "white",
            "ticks": ""
           },
           "bgcolor": "#E5ECF6",
           "radialaxis": {
            "gridcolor": "white",
            "linecolor": "white",
            "ticks": ""
           }
          },
          "scene": {
           "xaxis": {
            "backgroundcolor": "#E5ECF6",
            "gridcolor": "white",
            "gridwidth": 2,
            "linecolor": "white",
            "showbackground": true,
            "ticks": "",
            "zerolinecolor": "white"
           },
           "yaxis": {
            "backgroundcolor": "#E5ECF6",
            "gridcolor": "white",
            "gridwidth": 2,
            "linecolor": "white",
            "showbackground": true,
            "ticks": "",
            "zerolinecolor": "white"
           },
           "zaxis": {
            "backgroundcolor": "#E5ECF6",
            "gridcolor": "white",
            "gridwidth": 2,
            "linecolor": "white",
            "showbackground": true,
            "ticks": "",
            "zerolinecolor": "white"
           }
          },
          "shapedefaults": {
           "line": {
            "color": "#2a3f5f"
           }
          },
          "ternary": {
           "aaxis": {
            "gridcolor": "white",
            "linecolor": "white",
            "ticks": ""
           },
           "baxis": {
            "gridcolor": "white",
            "linecolor": "white",
            "ticks": ""
           },
           "bgcolor": "#E5ECF6",
           "caxis": {
            "gridcolor": "white",
            "linecolor": "white",
            "ticks": ""
           }
          },
          "title": {
           "x": 0.05
          },
          "xaxis": {
           "automargin": true,
           "gridcolor": "white",
           "linecolor": "white",
           "ticks": "",
           "title": {
            "standoff": 15
           },
           "zerolinecolor": "white",
           "zerolinewidth": 2
          },
          "yaxis": {
           "automargin": true,
           "gridcolor": "white",
           "linecolor": "white",
           "ticks": "",
           "title": {
            "standoff": 15
           },
           "zerolinecolor": "white",
           "zerolinewidth": 2
          }
         }
        },
        "title": {
         "text": "OVERALL BEHAVIOUR - Line plot"
        },
        "xaxis": {
         "anchor": "y",
         "domain": [
          0,
          1
         ],
         "title": {
          "text": "Days"
         }
        },
        "yaxis": {
         "anchor": "x",
         "domain": [
          0,
          1
         ],
         "title": {
          "text": "Sum of flows"
         }
        }
       }
      }
     },
     "metadata": {},
     "output_type": "display_data"
    },
    {
     "data": {
      "application/vnd.plotly.v1+json": {
       "config": {
        "plotlyServerURL": "https://plot.ly"
       },
       "data": [
        {
         "alignmentgroup": "True",
         "bingroup": "x",
         "histfunc": "sum",
         "hovertemplate": "Years=%{x}<br>sum of Flow=%{y}<extra></extra>",
         "legendgroup": "2019",
         "marker": {
          "color": "#636efa",
          "pattern": {
           "shape": ""
          }
         },
         "name": "2019",
         "offsetgroup": "2019",
         "orientation": "v",
         "showlegend": true,
         "type": "histogram",
         "x": [
          2019
         ],
         "xaxis": "x",
         "y": [
          3869439
         ],
         "yaxis": "y"
        },
        {
         "alignmentgroup": "True",
         "bingroup": "x",
         "histfunc": "sum",
         "hovertemplate": "Years=%{x}<br>sum of Flow=%{y}<extra></extra>",
         "legendgroup": "2020",
         "marker": {
          "color": "#EF553B",
          "pattern": {
           "shape": ""
          }
         },
         "name": "2020",
         "offsetgroup": "2020",
         "orientation": "v",
         "showlegend": true,
         "type": "histogram",
         "x": [
          2020
         ],
         "xaxis": "x",
         "y": [
          5896802
         ],
         "yaxis": "y"
        }
       ],
       "layout": {
        "barmode": "relative",
        "legend": {
         "title": {
          "text": "Years"
         },
         "tracegroupgap": 0
        },
        "template": {
         "data": {
          "bar": [
           {
            "error_x": {
             "color": "#2a3f5f"
            },
            "error_y": {
             "color": "#2a3f5f"
            },
            "marker": {
             "line": {
              "color": "#E5ECF6",
              "width": 0.5
             },
             "pattern": {
              "fillmode": "overlay",
              "size": 10,
              "solidity": 0.2
             }
            },
            "type": "bar"
           }
          ],
          "barpolar": [
           {
            "marker": {
             "line": {
              "color": "#E5ECF6",
              "width": 0.5
             },
             "pattern": {
              "fillmode": "overlay",
              "size": 10,
              "solidity": 0.2
             }
            },
            "type": "barpolar"
           }
          ],
          "carpet": [
           {
            "aaxis": {
             "endlinecolor": "#2a3f5f",
             "gridcolor": "white",
             "linecolor": "white",
             "minorgridcolor": "white",
             "startlinecolor": "#2a3f5f"
            },
            "baxis": {
             "endlinecolor": "#2a3f5f",
             "gridcolor": "white",
             "linecolor": "white",
             "minorgridcolor": "white",
             "startlinecolor": "#2a3f5f"
            },
            "type": "carpet"
           }
          ],
          "choropleth": [
           {
            "colorbar": {
             "outlinewidth": 0,
             "ticks": ""
            },
            "type": "choropleth"
           }
          ],
          "contour": [
           {
            "colorbar": {
             "outlinewidth": 0,
             "ticks": ""
            },
            "colorscale": [
             [
              0,
              "#0d0887"
             ],
             [
              0.1111111111111111,
              "#46039f"
             ],
             [
              0.2222222222222222,
              "#7201a8"
             ],
             [
              0.3333333333333333,
              "#9c179e"
             ],
             [
              0.4444444444444444,
              "#bd3786"
             ],
             [
              0.5555555555555556,
              "#d8576b"
             ],
             [
              0.6666666666666666,
              "#ed7953"
             ],
             [
              0.7777777777777778,
              "#fb9f3a"
             ],
             [
              0.8888888888888888,
              "#fdca26"
             ],
             [
              1,
              "#f0f921"
             ]
            ],
            "type": "contour"
           }
          ],
          "contourcarpet": [
           {
            "colorbar": {
             "outlinewidth": 0,
             "ticks": ""
            },
            "type": "contourcarpet"
           }
          ],
          "heatmap": [
           {
            "colorbar": {
             "outlinewidth": 0,
             "ticks": ""
            },
            "colorscale": [
             [
              0,
              "#0d0887"
             ],
             [
              0.1111111111111111,
              "#46039f"
             ],
             [
              0.2222222222222222,
              "#7201a8"
             ],
             [
              0.3333333333333333,
              "#9c179e"
             ],
             [
              0.4444444444444444,
              "#bd3786"
             ],
             [
              0.5555555555555556,
              "#d8576b"
             ],
             [
              0.6666666666666666,
              "#ed7953"
             ],
             [
              0.7777777777777778,
              "#fb9f3a"
             ],
             [
              0.8888888888888888,
              "#fdca26"
             ],
             [
              1,
              "#f0f921"
             ]
            ],
            "type": "heatmap"
           }
          ],
          "heatmapgl": [
           {
            "colorbar": {
             "outlinewidth": 0,
             "ticks": ""
            },
            "colorscale": [
             [
              0,
              "#0d0887"
             ],
             [
              0.1111111111111111,
              "#46039f"
             ],
             [
              0.2222222222222222,
              "#7201a8"
             ],
             [
              0.3333333333333333,
              "#9c179e"
             ],
             [
              0.4444444444444444,
              "#bd3786"
             ],
             [
              0.5555555555555556,
              "#d8576b"
             ],
             [
              0.6666666666666666,
              "#ed7953"
             ],
             [
              0.7777777777777778,
              "#fb9f3a"
             ],
             [
              0.8888888888888888,
              "#fdca26"
             ],
             [
              1,
              "#f0f921"
             ]
            ],
            "type": "heatmapgl"
           }
          ],
          "histogram": [
           {
            "marker": {
             "pattern": {
              "fillmode": "overlay",
              "size": 10,
              "solidity": 0.2
             }
            },
            "type": "histogram"
           }
          ],
          "histogram2d": [
           {
            "colorbar": {
             "outlinewidth": 0,
             "ticks": ""
            },
            "colorscale": [
             [
              0,
              "#0d0887"
             ],
             [
              0.1111111111111111,
              "#46039f"
             ],
             [
              0.2222222222222222,
              "#7201a8"
             ],
             [
              0.3333333333333333,
              "#9c179e"
             ],
             [
              0.4444444444444444,
              "#bd3786"
             ],
             [
              0.5555555555555556,
              "#d8576b"
             ],
             [
              0.6666666666666666,
              "#ed7953"
             ],
             [
              0.7777777777777778,
              "#fb9f3a"
             ],
             [
              0.8888888888888888,
              "#fdca26"
             ],
             [
              1,
              "#f0f921"
             ]
            ],
            "type": "histogram2d"
           }
          ],
          "histogram2dcontour": [
           {
            "colorbar": {
             "outlinewidth": 0,
             "ticks": ""
            },
            "colorscale": [
             [
              0,
              "#0d0887"
             ],
             [
              0.1111111111111111,
              "#46039f"
             ],
             [
              0.2222222222222222,
              "#7201a8"
             ],
             [
              0.3333333333333333,
              "#9c179e"
             ],
             [
              0.4444444444444444,
              "#bd3786"
             ],
             [
              0.5555555555555556,
              "#d8576b"
             ],
             [
              0.6666666666666666,
              "#ed7953"
             ],
             [
              0.7777777777777778,
              "#fb9f3a"
             ],
             [
              0.8888888888888888,
              "#fdca26"
             ],
             [
              1,
              "#f0f921"
             ]
            ],
            "type": "histogram2dcontour"
           }
          ],
          "mesh3d": [
           {
            "colorbar": {
             "outlinewidth": 0,
             "ticks": ""
            },
            "type": "mesh3d"
           }
          ],
          "parcoords": [
           {
            "line": {
             "colorbar": {
              "outlinewidth": 0,
              "ticks": ""
             }
            },
            "type": "parcoords"
           }
          ],
          "pie": [
           {
            "automargin": true,
            "type": "pie"
           }
          ],
          "scatter": [
           {
            "marker": {
             "colorbar": {
              "outlinewidth": 0,
              "ticks": ""
             }
            },
            "type": "scatter"
           }
          ],
          "scatter3d": [
           {
            "line": {
             "colorbar": {
              "outlinewidth": 0,
              "ticks": ""
             }
            },
            "marker": {
             "colorbar": {
              "outlinewidth": 0,
              "ticks": ""
             }
            },
            "type": "scatter3d"
           }
          ],
          "scattercarpet": [
           {
            "marker": {
             "colorbar": {
              "outlinewidth": 0,
              "ticks": ""
             }
            },
            "type": "scattercarpet"
           }
          ],
          "scattergeo": [
           {
            "marker": {
             "colorbar": {
              "outlinewidth": 0,
              "ticks": ""
             }
            },
            "type": "scattergeo"
           }
          ],
          "scattergl": [
           {
            "marker": {
             "colorbar": {
              "outlinewidth": 0,
              "ticks": ""
             }
            },
            "type": "scattergl"
           }
          ],
          "scattermapbox": [
           {
            "marker": {
             "colorbar": {
              "outlinewidth": 0,
              "ticks": ""
             }
            },
            "type": "scattermapbox"
           }
          ],
          "scatterpolar": [
           {
            "marker": {
             "colorbar": {
              "outlinewidth": 0,
              "ticks": ""
             }
            },
            "type": "scatterpolar"
           }
          ],
          "scatterpolargl": [
           {
            "marker": {
             "colorbar": {
              "outlinewidth": 0,
              "ticks": ""
             }
            },
            "type": "scatterpolargl"
           }
          ],
          "scatterternary": [
           {
            "marker": {
             "colorbar": {
              "outlinewidth": 0,
              "ticks": ""
             }
            },
            "type": "scatterternary"
           }
          ],
          "surface": [
           {
            "colorbar": {
             "outlinewidth": 0,
             "ticks": ""
            },
            "colorscale": [
             [
              0,
              "#0d0887"
             ],
             [
              0.1111111111111111,
              "#46039f"
             ],
             [
              0.2222222222222222,
              "#7201a8"
             ],
             [
              0.3333333333333333,
              "#9c179e"
             ],
             [
              0.4444444444444444,
              "#bd3786"
             ],
             [
              0.5555555555555556,
              "#d8576b"
             ],
             [
              0.6666666666666666,
              "#ed7953"
             ],
             [
              0.7777777777777778,
              "#fb9f3a"
             ],
             [
              0.8888888888888888,
              "#fdca26"
             ],
             [
              1,
              "#f0f921"
             ]
            ],
            "type": "surface"
           }
          ],
          "table": [
           {
            "cells": {
             "fill": {
              "color": "#EBF0F8"
             },
             "line": {
              "color": "white"
             }
            },
            "header": {
             "fill": {
              "color": "#C8D4E3"
             },
             "line": {
              "color": "white"
             }
            },
            "type": "table"
           }
          ]
         },
         "layout": {
          "annotationdefaults": {
           "arrowcolor": "#2a3f5f",
           "arrowhead": 0,
           "arrowwidth": 1
          },
          "autotypenumbers": "strict",
          "coloraxis": {
           "colorbar": {
            "outlinewidth": 0,
            "ticks": ""
           }
          },
          "colorscale": {
           "diverging": [
            [
             0,
             "#8e0152"
            ],
            [
             0.1,
             "#c51b7d"
            ],
            [
             0.2,
             "#de77ae"
            ],
            [
             0.3,
             "#f1b6da"
            ],
            [
             0.4,
             "#fde0ef"
            ],
            [
             0.5,
             "#f7f7f7"
            ],
            [
             0.6,
             "#e6f5d0"
            ],
            [
             0.7,
             "#b8e186"
            ],
            [
             0.8,
             "#7fbc41"
            ],
            [
             0.9,
             "#4d9221"
            ],
            [
             1,
             "#276419"
            ]
           ],
           "sequential": [
            [
             0,
             "#0d0887"
            ],
            [
             0.1111111111111111,
             "#46039f"
            ],
            [
             0.2222222222222222,
             "#7201a8"
            ],
            [
             0.3333333333333333,
             "#9c179e"
            ],
            [
             0.4444444444444444,
             "#bd3786"
            ],
            [
             0.5555555555555556,
             "#d8576b"
            ],
            [
             0.6666666666666666,
             "#ed7953"
            ],
            [
             0.7777777777777778,
             "#fb9f3a"
            ],
            [
             0.8888888888888888,
             "#fdca26"
            ],
            [
             1,
             "#f0f921"
            ]
           ],
           "sequentialminus": [
            [
             0,
             "#0d0887"
            ],
            [
             0.1111111111111111,
             "#46039f"
            ],
            [
             0.2222222222222222,
             "#7201a8"
            ],
            [
             0.3333333333333333,
             "#9c179e"
            ],
            [
             0.4444444444444444,
             "#bd3786"
            ],
            [
             0.5555555555555556,
             "#d8576b"
            ],
            [
             0.6666666666666666,
             "#ed7953"
            ],
            [
             0.7777777777777778,
             "#fb9f3a"
            ],
            [
             0.8888888888888888,
             "#fdca26"
            ],
            [
             1,
             "#f0f921"
            ]
           ]
          },
          "colorway": [
           "#636efa",
           "#EF553B",
           "#00cc96",
           "#ab63fa",
           "#FFA15A",
           "#19d3f3",
           "#FF6692",
           "#B6E880",
           "#FF97FF",
           "#FECB52"
          ],
          "font": {
           "color": "#2a3f5f"
          },
          "geo": {
           "bgcolor": "white",
           "lakecolor": "white",
           "landcolor": "#E5ECF6",
           "showlakes": true,
           "showland": true,
           "subunitcolor": "white"
          },
          "hoverlabel": {
           "align": "left"
          },
          "hovermode": "closest",
          "mapbox": {
           "style": "light"
          },
          "paper_bgcolor": "white",
          "plot_bgcolor": "#E5ECF6",
          "polar": {
           "angularaxis": {
            "gridcolor": "white",
            "linecolor": "white",
            "ticks": ""
           },
           "bgcolor": "#E5ECF6",
           "radialaxis": {
            "gridcolor": "white",
            "linecolor": "white",
            "ticks": ""
           }
          },
          "scene": {
           "xaxis": {
            "backgroundcolor": "#E5ECF6",
            "gridcolor": "white",
            "gridwidth": 2,
            "linecolor": "white",
            "showbackground": true,
            "ticks": "",
            "zerolinecolor": "white"
           },
           "yaxis": {
            "backgroundcolor": "#E5ECF6",
            "gridcolor": "white",
            "gridwidth": 2,
            "linecolor": "white",
            "showbackground": true,
            "ticks": "",
            "zerolinecolor": "white"
           },
           "zaxis": {
            "backgroundcolor": "#E5ECF6",
            "gridcolor": "white",
            "gridwidth": 2,
            "linecolor": "white",
            "showbackground": true,
            "ticks": "",
            "zerolinecolor": "white"
           }
          },
          "shapedefaults": {
           "line": {
            "color": "#2a3f5f"
           }
          },
          "ternary": {
           "aaxis": {
            "gridcolor": "white",
            "linecolor": "white",
            "ticks": ""
           },
           "baxis": {
            "gridcolor": "white",
            "linecolor": "white",
            "ticks": ""
           },
           "bgcolor": "#E5ECF6",
           "caxis": {
            "gridcolor": "white",
            "linecolor": "white",
            "ticks": ""
           }
          },
          "title": {
           "x": 0.05
          },
          "xaxis": {
           "automargin": true,
           "gridcolor": "white",
           "linecolor": "white",
           "ticks": "",
           "title": {
            "standoff": 15
           },
           "zerolinecolor": "white",
           "zerolinewidth": 2
          },
          "yaxis": {
           "automargin": true,
           "gridcolor": "white",
           "linecolor": "white",
           "ticks": "",
           "title": {
            "standoff": 15
           },
           "zerolinecolor": "white",
           "zerolinewidth": 2
          }
         }
        },
        "title": {
         "text": "OVERALL BEHAVIOUR - Histogram"
        },
        "xaxis": {
         "anchor": "y",
         "categoryarray": [
          2019,
          2020
         ],
         "categoryorder": "array",
         "domain": [
          0,
          1
         ],
         "title": {
          "text": "Years"
         }
        },
        "yaxis": {
         "anchor": "x",
         "domain": [
          0,
          1
         ],
         "title": {
          "text": "sum of Flow"
         }
        }
       }
      }
     },
     "metadata": {},
     "output_type": "display_data"
    }
   ],
   "source": [
    "# Visualizzation\n",
    "fig = px.line(group, x = group.index.get_level_values(1), y = group['Flow'], \n",
    "              color = group.index.get_level_values(0),\n",
    "              title = 'OVERALL BEHAVIOUR - Line plot',\n",
    "              labels = {'Flow' : 'Sum of flows', 'x' : 'Days', 'color' : 'Years'} # dict for labels \n",
    "             ) # Line plot\n",
    "\n",
    "fig1 = px.histogram(group1, \n",
    "                    x =  group1.index.get_level_values(0), \n",
    "                    y =  group1['Flow'], \n",
    "                    color = group1.index.get_level_values(0), \n",
    "                    title = 'OVERALL BEHAVIOUR - Histogram',\n",
    "                    labels = {'Time' : 'Years'},\n",
    "                   ) # Hist\n",
    "\n",
    "fig.show()\n",
    "fig1.show()"
   ]
  },
  {
   "cell_type": "markdown",
   "id": "4b2dfa33",
   "metadata": {},
   "source": [
    "We have a **non-liner trends** for the sum of flows in both the periods.\n",
    "\n",
    "Clearly, the water consumption is higher during the Pandemic (thus **smartworkers consume more water**).\n",
    "\n",
    "Interesting peaks, above all the one during the first two weeks of August intra-pandemic.\n",
    "\n",
    "If we look the 0 values for sum of flows we can see when the user is away from homes."
   ]
  },
  {
   "cell_type": "markdown",
   "id": "bcb2483b",
   "metadata": {},
   "source": [
    "[Return to contents](#contents)"
   ]
  },
  {
   "cell_type": "markdown",
   "id": "68d1589d",
   "metadata": {},
   "source": [
    "<a id = 'month'></a>\n",
    "# Monthly behaviour of the water consumption before and intra the pandemic "
   ]
  },
  {
   "cell_type": "code",
   "execution_count": 6,
   "id": "194a3b76",
   "metadata": {},
   "outputs": [
    {
     "data": {
      "text/html": [
       "<th style=\"text-align:center\"><td style=\"vertical-align:top\"><h2>3 Global monthly behaviour</h2><table style=\"display:inline\" border=\"1\" class=\"dataframe\">\n",
       "  <thead>\n",
       "    <tr style=\"text-align: right;\">\n",
       "      <th></th>\n",
       "      <th></th>\n",
       "      <th>Flow</th>\n",
       "    </tr>\n",
       "    <tr>\n",
       "      <th>Time</th>\n",
       "      <th>Time</th>\n",
       "      <th></th>\n",
       "    </tr>\n",
       "  </thead>\n",
       "  <tbody>\n",
       "    <tr>\n",
       "      <th rowspan=\"4\" valign=\"top\">2019</th>\n",
       "      <th>2019/07</th>\n",
       "      <td>1040577.0</td>\n",
       "    </tr>\n",
       "    <tr>\n",
       "      <th>2019/08</th>\n",
       "      <td>458102.0</td>\n",
       "    </tr>\n",
       "    <tr>\n",
       "      <th>2019/09</th>\n",
       "      <td>959555.0</td>\n",
       "    </tr>\n",
       "    <tr>\n",
       "      <th>2019/10</th>\n",
       "      <td>1411205.0</td>\n",
       "    </tr>\n",
       "    <tr>\n",
       "      <th rowspan=\"3\" valign=\"top\">2020</th>\n",
       "      <th>2020/07</th>\n",
       "      <td>1583092.0</td>\n",
       "    </tr>\n",
       "    <tr>\n",
       "      <th>2020/08</th>\n",
       "      <td>1365369.0</td>\n",
       "    </tr>\n",
       "    <tr>\n",
       "      <th>2020/09</th>\n",
       "      <td>1797370.0</td>\n",
       "    </tr>\n",
       "  </tbody>\n",
       "</table style=\"display:inline\"></td></th><th style=\"text-align:center\"><td style=\"vertical-align:top\"><h2>4 By day monthly behaviour</h2><table style=\"display:inline\" border=\"1\" class=\"dataframe\">\n",
       "  <thead>\n",
       "    <tr style=\"text-align: right;\">\n",
       "      <th></th>\n",
       "      <th></th>\n",
       "      <th>Flow</th>\n",
       "    </tr>\n",
       "    <tr>\n",
       "      <th>Time</th>\n",
       "      <th>Time</th>\n",
       "      <th></th>\n",
       "    </tr>\n",
       "  </thead>\n",
       "  <tbody>\n",
       "    <tr>\n",
       "      <th rowspan=\"5\" valign=\"top\">2019/07</th>\n",
       "      <th>07/01/2019</th>\n",
       "      <td>20690.0</td>\n",
       "    </tr>\n",
       "    <tr>\n",
       "      <th>07/02/2019</th>\n",
       "      <td>7152.0</td>\n",
       "    </tr>\n",
       "    <tr>\n",
       "      <th>07/03/2019</th>\n",
       "      <td>81401.0</td>\n",
       "    </tr>\n",
       "    <tr>\n",
       "      <th>07/04/2019</th>\n",
       "      <td>23660.0</td>\n",
       "    </tr>\n",
       "    <tr>\n",
       "      <th>07/05/2019</th>\n",
       "      <td>1232.0</td>\n",
       "    </tr>\n",
       "  </tbody>\n",
       "</table style=\"display:inline\"></td></th>"
      ]
     },
     "metadata": {},
     "output_type": "display_data"
    }
   ],
   "source": [
    "# Data manipulation\n",
    "group = df.groupby([df.index.strftime('%Y/%m'), df.index.strftime('%m/%d/%Y')]).sum() # For line plot\n",
    "group1 = df.groupby([df.index.strftime('%Y'), df.index.strftime('%Y/%m')]).sum() # For hist \n",
    "\n",
    "display_side_by_side(group1.head(7), group.head(), titles=['3 Global monthly behaviour', '4 By day monthly behaviour']) "
   ]
  },
  {
   "cell_type": "code",
   "execution_count": 7,
   "id": "9e477558",
   "metadata": {},
   "outputs": [
    {
     "data": {
      "application/vnd.plotly.v1+json": {
       "config": {
        "plotlyServerURL": "https://plot.ly"
       },
       "data": [
        {
         "hovertemplate": "Years/Months=2019/07<br>Days=%{x}<br>Sum of flows=%{y}<extra></extra>",
         "legendgroup": "2019/07",
         "line": {
          "color": "#636efa",
          "dash": "solid"
         },
         "marker": {
          "symbol": "circle"
         },
         "mode": "lines",
         "name": "2019/07",
         "orientation": "v",
         "showlegend": true,
         "type": "scatter",
         "x": [
          "07/01/2019",
          "07/02/2019",
          "07/03/2019",
          "07/04/2019",
          "07/05/2019",
          "07/06/2019",
          "07/07/2019",
          "07/08/2019",
          "07/09/2019",
          "07/10/2019",
          "07/11/2019",
          "07/12/2019",
          "07/13/2019",
          "07/14/2019",
          "07/15/2019",
          "07/16/2019",
          "07/17/2019",
          "07/18/2019",
          "07/19/2019",
          "07/20/2019",
          "07/21/2019",
          "07/22/2019",
          "07/23/2019",
          "07/24/2019",
          "07/25/2019",
          "07/26/2019",
          "07/27/2019",
          "07/28/2019",
          "07/29/2019",
          "07/30/2019",
          "07/31/2019"
         ],
         "xaxis": "x",
         "y": [
          20690,
          7152,
          81401,
          23660,
          1232,
          84573,
          28125,
          61135,
          13473,
          84220,
          28053,
          77449,
          8924,
          127152,
          8502,
          38861,
          13917,
          21833,
          8075,
          5343,
          15643,
          31467,
          30076,
          20615,
          6120,
          9236,
          15648,
          11701,
          28892,
          100552,
          26857
         ],
         "yaxis": "y"
        },
        {
         "hovertemplate": "Years/Months=2019/08<br>Days=%{x}<br>Sum of flows=%{y}<extra></extra>",
         "legendgroup": "2019/08",
         "line": {
          "color": "#EF553B",
          "dash": "solid"
         },
         "marker": {
          "symbol": "circle"
         },
         "mode": "lines",
         "name": "2019/08",
         "orientation": "v",
         "showlegend": true,
         "type": "scatter",
         "x": [
          "08/01/2019",
          "08/02/2019",
          "08/03/2019",
          "08/04/2019",
          "08/05/2019",
          "08/06/2019",
          "08/07/2019",
          "08/08/2019",
          "08/09/2019",
          "08/10/2019",
          "08/11/2019",
          "08/13/2019",
          "08/14/2019",
          "08/15/2019",
          "08/16/2019",
          "08/17/2019",
          "08/18/2019",
          "08/19/2019",
          "08/20/2019",
          "08/21/2019",
          "08/22/2019",
          "08/23/2019",
          "08/24/2019",
          "08/25/2019",
          "08/29/2019",
          "08/30/2019",
          "08/31/2019"
         ],
         "xaxis": "x",
         "y": [
          0,
          0,
          0,
          35130,
          81357,
          39175,
          2380,
          2633,
          7712,
          0,
          0,
          37317,
          992,
          29581,
          48328,
          14467,
          3281,
          29039,
          2,
          0,
          39164,
          0,
          0,
          15262,
          3378,
          32571,
          36333
         ],
         "yaxis": "y"
        },
        {
         "hovertemplate": "Years/Months=2019/09<br>Days=%{x}<br>Sum of flows=%{y}<extra></extra>",
         "legendgroup": "2019/09",
         "line": {
          "color": "#00cc96",
          "dash": "solid"
         },
         "marker": {
          "symbol": "circle"
         },
         "mode": "lines",
         "name": "2019/09",
         "orientation": "v",
         "showlegend": true,
         "type": "scatter",
         "x": [
          "09/01/2019",
          "09/02/2019",
          "09/03/2019",
          "09/04/2019",
          "09/05/2019",
          "09/06/2019",
          "09/07/2019",
          "09/08/2019",
          "09/09/2019",
          "09/10/2019",
          "09/11/2019",
          "09/12/2019",
          "09/13/2019",
          "09/14/2019",
          "09/15/2019",
          "09/16/2019",
          "09/17/2019",
          "09/18/2019",
          "09/19/2019",
          "09/20/2019",
          "09/21/2019",
          "09/22/2019",
          "09/23/2019",
          "09/24/2019",
          "09/25/2019",
          "09/26/2019",
          "09/27/2019",
          "09/28/2019",
          "09/29/2019",
          "09/30/2019"
         ],
         "xaxis": "x",
         "y": [
          10342,
          25030,
          21574,
          31048,
          28049,
          24034,
          46440,
          3885,
          20834,
          72133,
          3494,
          2,
          8266,
          31371,
          9640,
          36415,
          27180,
          77167,
          21451,
          9119,
          49737,
          32648,
          62442,
          37472,
          33202,
          59601,
          35353,
          42155,
          74933,
          24538
         ],
         "yaxis": "y"
        },
        {
         "hovertemplate": "Years/Months=2019/10<br>Days=%{x}<br>Sum of flows=%{y}<extra></extra>",
         "legendgroup": "2019/10",
         "line": {
          "color": "#ab63fa",
          "dash": "solid"
         },
         "marker": {
          "symbol": "circle"
         },
         "mode": "lines",
         "name": "2019/10",
         "orientation": "v",
         "showlegend": true,
         "type": "scatter",
         "x": [
          "10/01/2019",
          "10/02/2019",
          "10/03/2019",
          "10/04/2019",
          "10/05/2019",
          "10/06/2019",
          "10/07/2019",
          "10/08/2019",
          "10/09/2019",
          "10/10/2019",
          "10/11/2019",
          "10/12/2019",
          "10/13/2019",
          "10/14/2019",
          "10/15/2019",
          "10/16/2019",
          "10/17/2019",
          "10/18/2019",
          "10/19/2019",
          "10/20/2019",
          "10/21/2019",
          "10/22/2019",
          "10/23/2019",
          "10/24/2019",
          "10/25/2019",
          "10/26/2019",
          "10/27/2019",
          "10/28/2019"
         ],
         "xaxis": "x",
         "y": [
          42823,
          87,
          55045,
          27896,
          31453,
          79024,
          6932,
          82508,
          63225,
          41888,
          40571,
          95736,
          86971,
          40755,
          61854,
          20237,
          78527,
          28351,
          115306,
          4883,
          15775,
          82475,
          12399,
          43420,
          40839,
          41780,
          58322,
          112123
         ],
         "yaxis": "y"
        },
        {
         "hovertemplate": "Years/Months=2020/07<br>Days=%{x}<br>Sum of flows=%{y}<extra></extra>",
         "legendgroup": "2020/07",
         "line": {
          "color": "#FFA15A",
          "dash": "solid"
         },
         "marker": {
          "symbol": "circle"
         },
         "mode": "lines",
         "name": "2020/07",
         "orientation": "v",
         "showlegend": true,
         "type": "scatter",
         "x": [
          "07/02/2020",
          "07/03/2020",
          "07/04/2020",
          "07/05/2020",
          "07/06/2020",
          "07/07/2020",
          "07/08/2020",
          "07/09/2020",
          "07/10/2020",
          "07/11/2020",
          "07/12/2020",
          "07/13/2020",
          "07/14/2020",
          "07/15/2020",
          "07/16/2020",
          "07/17/2020",
          "07/18/2020",
          "07/19/2020",
          "07/20/2020",
          "07/21/2020",
          "07/22/2020",
          "07/23/2020",
          "07/24/2020",
          "07/25/2020",
          "07/26/2020",
          "07/27/2020",
          "07/28/2020",
          "07/29/2020",
          "07/30/2020",
          "07/31/2020"
         ],
         "xaxis": "x",
         "y": [
          73091,
          52166,
          69897,
          125336,
          75486,
          35867,
          104133,
          18925,
          66734,
          64618,
          78925,
          81879,
          72524,
          23374,
          52762,
          40602,
          60252,
          37262,
          19746,
          36006,
          31169,
          38248,
          22840,
          30019,
          16357,
          46129,
          61623,
          70272,
          48294,
          28556
         ],
         "yaxis": "y"
        },
        {
         "hovertemplate": "Years/Months=2020/08<br>Days=%{x}<br>Sum of flows=%{y}<extra></extra>",
         "legendgroup": "2020/08",
         "line": {
          "color": "#19d3f3",
          "dash": "solid"
         },
         "marker": {
          "symbol": "circle"
         },
         "mode": "lines",
         "name": "2020/08",
         "orientation": "v",
         "showlegend": true,
         "type": "scatter",
         "x": [
          "08/01/2020",
          "08/02/2020",
          "08/03/2020",
          "08/04/2020",
          "08/05/2020",
          "08/06/2020",
          "08/07/2020",
          "08/08/2020",
          "08/09/2020",
          "08/10/2020",
          "08/11/2020",
          "08/12/2020",
          "08/13/2020",
          "08/14/2020",
          "08/15/2020",
          "08/16/2020",
          "08/17/2020",
          "08/18/2020",
          "08/19/2020",
          "08/20/2020",
          "08/21/2020",
          "08/22/2020",
          "08/23/2020",
          "08/24/2020",
          "08/25/2020",
          "08/26/2020",
          "08/27/2020",
          "08/28/2020",
          "08/29/2020",
          "08/30/2020",
          "08/31/2020"
         ],
         "xaxis": "x",
         "y": [
          32078,
          59197,
          50274,
          88601,
          62517,
          69107,
          115521,
          160229,
          117038,
          8,
          6668,
          12519,
          5960,
          16,
          0,
          1718,
          0,
          33927,
          54341,
          45399,
          27229,
          29986,
          23115,
          18016,
          15957,
          74595,
          92035,
          36839,
          45618,
          68187,
          18674
         ],
         "yaxis": "y"
        },
        {
         "hovertemplate": "Years/Months=2020/09<br>Days=%{x}<br>Sum of flows=%{y}<extra></extra>",
         "legendgroup": "2020/09",
         "line": {
          "color": "#FF6692",
          "dash": "solid"
         },
         "marker": {
          "symbol": "circle"
         },
         "mode": "lines",
         "name": "2020/09",
         "orientation": "v",
         "showlegend": true,
         "type": "scatter",
         "x": [
          "09/01/2020",
          "09/02/2020",
          "09/03/2020",
          "09/04/2020",
          "09/05/2020",
          "09/06/2020",
          "09/07/2020",
          "09/08/2020",
          "09/09/2020",
          "09/10/2020",
          "09/11/2020",
          "09/12/2020",
          "09/13/2020",
          "09/14/2020",
          "09/15/2020",
          "09/16/2020",
          "09/17/2020",
          "09/18/2020",
          "09/19/2020",
          "09/20/2020",
          "09/21/2020",
          "09/22/2020",
          "09/23/2020",
          "09/24/2020",
          "09/25/2020",
          "09/26/2020",
          "09/27/2020",
          "09/28/2020",
          "09/29/2020",
          "09/30/2020"
         ],
         "xaxis": "x",
         "y": [
          45779,
          48646,
          61240,
          72246,
          47283,
          49639,
          0,
          49149,
          63714,
          81714,
          53968,
          84916,
          28532,
          3353,
          76173,
          66543,
          76129,
          47545,
          113843,
          52128,
          95861,
          94392,
          17167,
          74543,
          70386,
          68612,
          78786,
          27501,
          37593,
          109989
         ],
         "yaxis": "y"
        },
        {
         "hovertemplate": "Years/Months=2020/10<br>Days=%{x}<br>Sum of flows=%{y}<extra></extra>",
         "legendgroup": "2020/10",
         "line": {
          "color": "#B6E880",
          "dash": "solid"
         },
         "marker": {
          "symbol": "circle"
         },
         "mode": "lines",
         "name": "2020/10",
         "orientation": "v",
         "showlegend": true,
         "type": "scatter",
         "x": [
          "10/01/2020",
          "10/02/2020",
          "10/03/2020",
          "10/04/2020",
          "10/05/2020",
          "10/06/2020",
          "10/07/2020",
          "10/08/2020",
          "10/09/2020",
          "10/10/2020",
          "10/11/2020",
          "10/12/2020",
          "10/13/2020",
          "10/14/2020",
          "10/15/2020",
          "10/16/2020",
          "10/17/2020",
          "10/18/2020",
          "10/19/2020",
          "10/20/2020",
          "10/21/2020",
          "10/22/2020",
          "10/27/2020",
          "10/28/2020",
          "10/29/2020",
          "10/30/2020",
          "10/31/2020"
         ],
         "xaxis": "x",
         "y": [
          39667,
          80026,
          59277,
          113835,
          75141,
          59120,
          74825,
          64604,
          40326,
          66892,
          75480,
          26992,
          37193,
          45946,
          120510,
          23944,
          5729,
          7499,
          0,
          943,
          63008,
          4,
          53163,
          10145,
          0,
          6702,
          0
         ],
         "yaxis": "y"
        }
       ],
       "layout": {
        "legend": {
         "title": {
          "text": "Years/Months"
         },
         "tracegroupgap": 0
        },
        "template": {
         "data": {
          "bar": [
           {
            "error_x": {
             "color": "#2a3f5f"
            },
            "error_y": {
             "color": "#2a3f5f"
            },
            "marker": {
             "line": {
              "color": "#E5ECF6",
              "width": 0.5
             },
             "pattern": {
              "fillmode": "overlay",
              "size": 10,
              "solidity": 0.2
             }
            },
            "type": "bar"
           }
          ],
          "barpolar": [
           {
            "marker": {
             "line": {
              "color": "#E5ECF6",
              "width": 0.5
             },
             "pattern": {
              "fillmode": "overlay",
              "size": 10,
              "solidity": 0.2
             }
            },
            "type": "barpolar"
           }
          ],
          "carpet": [
           {
            "aaxis": {
             "endlinecolor": "#2a3f5f",
             "gridcolor": "white",
             "linecolor": "white",
             "minorgridcolor": "white",
             "startlinecolor": "#2a3f5f"
            },
            "baxis": {
             "endlinecolor": "#2a3f5f",
             "gridcolor": "white",
             "linecolor": "white",
             "minorgridcolor": "white",
             "startlinecolor": "#2a3f5f"
            },
            "type": "carpet"
           }
          ],
          "choropleth": [
           {
            "colorbar": {
             "outlinewidth": 0,
             "ticks": ""
            },
            "type": "choropleth"
           }
          ],
          "contour": [
           {
            "colorbar": {
             "outlinewidth": 0,
             "ticks": ""
            },
            "colorscale": [
             [
              0,
              "#0d0887"
             ],
             [
              0.1111111111111111,
              "#46039f"
             ],
             [
              0.2222222222222222,
              "#7201a8"
             ],
             [
              0.3333333333333333,
              "#9c179e"
             ],
             [
              0.4444444444444444,
              "#bd3786"
             ],
             [
              0.5555555555555556,
              "#d8576b"
             ],
             [
              0.6666666666666666,
              "#ed7953"
             ],
             [
              0.7777777777777778,
              "#fb9f3a"
             ],
             [
              0.8888888888888888,
              "#fdca26"
             ],
             [
              1,
              "#f0f921"
             ]
            ],
            "type": "contour"
           }
          ],
          "contourcarpet": [
           {
            "colorbar": {
             "outlinewidth": 0,
             "ticks": ""
            },
            "type": "contourcarpet"
           }
          ],
          "heatmap": [
           {
            "colorbar": {
             "outlinewidth": 0,
             "ticks": ""
            },
            "colorscale": [
             [
              0,
              "#0d0887"
             ],
             [
              0.1111111111111111,
              "#46039f"
             ],
             [
              0.2222222222222222,
              "#7201a8"
             ],
             [
              0.3333333333333333,
              "#9c179e"
             ],
             [
              0.4444444444444444,
              "#bd3786"
             ],
             [
              0.5555555555555556,
              "#d8576b"
             ],
             [
              0.6666666666666666,
              "#ed7953"
             ],
             [
              0.7777777777777778,
              "#fb9f3a"
             ],
             [
              0.8888888888888888,
              "#fdca26"
             ],
             [
              1,
              "#f0f921"
             ]
            ],
            "type": "heatmap"
           }
          ],
          "heatmapgl": [
           {
            "colorbar": {
             "outlinewidth": 0,
             "ticks": ""
            },
            "colorscale": [
             [
              0,
              "#0d0887"
             ],
             [
              0.1111111111111111,
              "#46039f"
             ],
             [
              0.2222222222222222,
              "#7201a8"
             ],
             [
              0.3333333333333333,
              "#9c179e"
             ],
             [
              0.4444444444444444,
              "#bd3786"
             ],
             [
              0.5555555555555556,
              "#d8576b"
             ],
             [
              0.6666666666666666,
              "#ed7953"
             ],
             [
              0.7777777777777778,
              "#fb9f3a"
             ],
             [
              0.8888888888888888,
              "#fdca26"
             ],
             [
              1,
              "#f0f921"
             ]
            ],
            "type": "heatmapgl"
           }
          ],
          "histogram": [
           {
            "marker": {
             "pattern": {
              "fillmode": "overlay",
              "size": 10,
              "solidity": 0.2
             }
            },
            "type": "histogram"
           }
          ],
          "histogram2d": [
           {
            "colorbar": {
             "outlinewidth": 0,
             "ticks": ""
            },
            "colorscale": [
             [
              0,
              "#0d0887"
             ],
             [
              0.1111111111111111,
              "#46039f"
             ],
             [
              0.2222222222222222,
              "#7201a8"
             ],
             [
              0.3333333333333333,
              "#9c179e"
             ],
             [
              0.4444444444444444,
              "#bd3786"
             ],
             [
              0.5555555555555556,
              "#d8576b"
             ],
             [
              0.6666666666666666,
              "#ed7953"
             ],
             [
              0.7777777777777778,
              "#fb9f3a"
             ],
             [
              0.8888888888888888,
              "#fdca26"
             ],
             [
              1,
              "#f0f921"
             ]
            ],
            "type": "histogram2d"
           }
          ],
          "histogram2dcontour": [
           {
            "colorbar": {
             "outlinewidth": 0,
             "ticks": ""
            },
            "colorscale": [
             [
              0,
              "#0d0887"
             ],
             [
              0.1111111111111111,
              "#46039f"
             ],
             [
              0.2222222222222222,
              "#7201a8"
             ],
             [
              0.3333333333333333,
              "#9c179e"
             ],
             [
              0.4444444444444444,
              "#bd3786"
             ],
             [
              0.5555555555555556,
              "#d8576b"
             ],
             [
              0.6666666666666666,
              "#ed7953"
             ],
             [
              0.7777777777777778,
              "#fb9f3a"
             ],
             [
              0.8888888888888888,
              "#fdca26"
             ],
             [
              1,
              "#f0f921"
             ]
            ],
            "type": "histogram2dcontour"
           }
          ],
          "mesh3d": [
           {
            "colorbar": {
             "outlinewidth": 0,
             "ticks": ""
            },
            "type": "mesh3d"
           }
          ],
          "parcoords": [
           {
            "line": {
             "colorbar": {
              "outlinewidth": 0,
              "ticks": ""
             }
            },
            "type": "parcoords"
           }
          ],
          "pie": [
           {
            "automargin": true,
            "type": "pie"
           }
          ],
          "scatter": [
           {
            "marker": {
             "colorbar": {
              "outlinewidth": 0,
              "ticks": ""
             }
            },
            "type": "scatter"
           }
          ],
          "scatter3d": [
           {
            "line": {
             "colorbar": {
              "outlinewidth": 0,
              "ticks": ""
             }
            },
            "marker": {
             "colorbar": {
              "outlinewidth": 0,
              "ticks": ""
             }
            },
            "type": "scatter3d"
           }
          ],
          "scattercarpet": [
           {
            "marker": {
             "colorbar": {
              "outlinewidth": 0,
              "ticks": ""
             }
            },
            "type": "scattercarpet"
           }
          ],
          "scattergeo": [
           {
            "marker": {
             "colorbar": {
              "outlinewidth": 0,
              "ticks": ""
             }
            },
            "type": "scattergeo"
           }
          ],
          "scattergl": [
           {
            "marker": {
             "colorbar": {
              "outlinewidth": 0,
              "ticks": ""
             }
            },
            "type": "scattergl"
           }
          ],
          "scattermapbox": [
           {
            "marker": {
             "colorbar": {
              "outlinewidth": 0,
              "ticks": ""
             }
            },
            "type": "scattermapbox"
           }
          ],
          "scatterpolar": [
           {
            "marker": {
             "colorbar": {
              "outlinewidth": 0,
              "ticks": ""
             }
            },
            "type": "scatterpolar"
           }
          ],
          "scatterpolargl": [
           {
            "marker": {
             "colorbar": {
              "outlinewidth": 0,
              "ticks": ""
             }
            },
            "type": "scatterpolargl"
           }
          ],
          "scatterternary": [
           {
            "marker": {
             "colorbar": {
              "outlinewidth": 0,
              "ticks": ""
             }
            },
            "type": "scatterternary"
           }
          ],
          "surface": [
           {
            "colorbar": {
             "outlinewidth": 0,
             "ticks": ""
            },
            "colorscale": [
             [
              0,
              "#0d0887"
             ],
             [
              0.1111111111111111,
              "#46039f"
             ],
             [
              0.2222222222222222,
              "#7201a8"
             ],
             [
              0.3333333333333333,
              "#9c179e"
             ],
             [
              0.4444444444444444,
              "#bd3786"
             ],
             [
              0.5555555555555556,
              "#d8576b"
             ],
             [
              0.6666666666666666,
              "#ed7953"
             ],
             [
              0.7777777777777778,
              "#fb9f3a"
             ],
             [
              0.8888888888888888,
              "#fdca26"
             ],
             [
              1,
              "#f0f921"
             ]
            ],
            "type": "surface"
           }
          ],
          "table": [
           {
            "cells": {
             "fill": {
              "color": "#EBF0F8"
             },
             "line": {
              "color": "white"
             }
            },
            "header": {
             "fill": {
              "color": "#C8D4E3"
             },
             "line": {
              "color": "white"
             }
            },
            "type": "table"
           }
          ]
         },
         "layout": {
          "annotationdefaults": {
           "arrowcolor": "#2a3f5f",
           "arrowhead": 0,
           "arrowwidth": 1
          },
          "autotypenumbers": "strict",
          "coloraxis": {
           "colorbar": {
            "outlinewidth": 0,
            "ticks": ""
           }
          },
          "colorscale": {
           "diverging": [
            [
             0,
             "#8e0152"
            ],
            [
             0.1,
             "#c51b7d"
            ],
            [
             0.2,
             "#de77ae"
            ],
            [
             0.3,
             "#f1b6da"
            ],
            [
             0.4,
             "#fde0ef"
            ],
            [
             0.5,
             "#f7f7f7"
            ],
            [
             0.6,
             "#e6f5d0"
            ],
            [
             0.7,
             "#b8e186"
            ],
            [
             0.8,
             "#7fbc41"
            ],
            [
             0.9,
             "#4d9221"
            ],
            [
             1,
             "#276419"
            ]
           ],
           "sequential": [
            [
             0,
             "#0d0887"
            ],
            [
             0.1111111111111111,
             "#46039f"
            ],
            [
             0.2222222222222222,
             "#7201a8"
            ],
            [
             0.3333333333333333,
             "#9c179e"
            ],
            [
             0.4444444444444444,
             "#bd3786"
            ],
            [
             0.5555555555555556,
             "#d8576b"
            ],
            [
             0.6666666666666666,
             "#ed7953"
            ],
            [
             0.7777777777777778,
             "#fb9f3a"
            ],
            [
             0.8888888888888888,
             "#fdca26"
            ],
            [
             1,
             "#f0f921"
            ]
           ],
           "sequentialminus": [
            [
             0,
             "#0d0887"
            ],
            [
             0.1111111111111111,
             "#46039f"
            ],
            [
             0.2222222222222222,
             "#7201a8"
            ],
            [
             0.3333333333333333,
             "#9c179e"
            ],
            [
             0.4444444444444444,
             "#bd3786"
            ],
            [
             0.5555555555555556,
             "#d8576b"
            ],
            [
             0.6666666666666666,
             "#ed7953"
            ],
            [
             0.7777777777777778,
             "#fb9f3a"
            ],
            [
             0.8888888888888888,
             "#fdca26"
            ],
            [
             1,
             "#f0f921"
            ]
           ]
          },
          "colorway": [
           "#636efa",
           "#EF553B",
           "#00cc96",
           "#ab63fa",
           "#FFA15A",
           "#19d3f3",
           "#FF6692",
           "#B6E880",
           "#FF97FF",
           "#FECB52"
          ],
          "font": {
           "color": "#2a3f5f"
          },
          "geo": {
           "bgcolor": "white",
           "lakecolor": "white",
           "landcolor": "#E5ECF6",
           "showlakes": true,
           "showland": true,
           "subunitcolor": "white"
          },
          "hoverlabel": {
           "align": "left"
          },
          "hovermode": "closest",
          "mapbox": {
           "style": "light"
          },
          "paper_bgcolor": "white",
          "plot_bgcolor": "#E5ECF6",
          "polar": {
           "angularaxis": {
            "gridcolor": "white",
            "linecolor": "white",
            "ticks": ""
           },
           "bgcolor": "#E5ECF6",
           "radialaxis": {
            "gridcolor": "white",
            "linecolor": "white",
            "ticks": ""
           }
          },
          "scene": {
           "xaxis": {
            "backgroundcolor": "#E5ECF6",
            "gridcolor": "white",
            "gridwidth": 2,
            "linecolor": "white",
            "showbackground": true,
            "ticks": "",
            "zerolinecolor": "white"
           },
           "yaxis": {
            "backgroundcolor": "#E5ECF6",
            "gridcolor": "white",
            "gridwidth": 2,
            "linecolor": "white",
            "showbackground": true,
            "ticks": "",
            "zerolinecolor": "white"
           },
           "zaxis": {
            "backgroundcolor": "#E5ECF6",
            "gridcolor": "white",
            "gridwidth": 2,
            "linecolor": "white",
            "showbackground": true,
            "ticks": "",
            "zerolinecolor": "white"
           }
          },
          "shapedefaults": {
           "line": {
            "color": "#2a3f5f"
           }
          },
          "ternary": {
           "aaxis": {
            "gridcolor": "white",
            "linecolor": "white",
            "ticks": ""
           },
           "baxis": {
            "gridcolor": "white",
            "linecolor": "white",
            "ticks": ""
           },
           "bgcolor": "#E5ECF6",
           "caxis": {
            "gridcolor": "white",
            "linecolor": "white",
            "ticks": ""
           }
          },
          "title": {
           "x": 0.05
          },
          "xaxis": {
           "automargin": true,
           "gridcolor": "white",
           "linecolor": "white",
           "ticks": "",
           "title": {
            "standoff": 15
           },
           "zerolinecolor": "white",
           "zerolinewidth": 2
          },
          "yaxis": {
           "automargin": true,
           "gridcolor": "white",
           "linecolor": "white",
           "ticks": "",
           "title": {
            "standoff": 15
           },
           "zerolinecolor": "white",
           "zerolinewidth": 2
          }
         }
        },
        "title": {
         "text": "MONTHLY BEHAVIOUR - Line plot"
        },
        "xaxis": {
         "anchor": "y",
         "domain": [
          0,
          1
         ],
         "title": {
          "text": "Days"
         }
        },
        "yaxis": {
         "anchor": "x",
         "domain": [
          0,
          1
         ],
         "title": {
          "text": "Sum of flows"
         }
        }
       }
      }
     },
     "metadata": {},
     "output_type": "display_data"
    },
    {
     "data": {
      "application/vnd.plotly.v1+json": {
       "config": {
        "plotlyServerURL": "https://plot.ly"
       },
       "data": [
        {
         "alignmentgroup": "True",
         "bingroup": "x",
         "histfunc": "sum",
         "hovertemplate": "Years/Months=%{x}<br>sum of Sum of flows=%{y}<extra></extra>",
         "legendgroup": "2019/07",
         "marker": {
          "color": "#636efa",
          "pattern": {
           "shape": ""
          }
         },
         "name": "2019/07",
         "offsetgroup": "2019/07",
         "orientation": "v",
         "showlegend": true,
         "type": "histogram",
         "x": [
          "2019/07"
         ],
         "xaxis": "x",
         "y": [
          1040577
         ],
         "yaxis": "y"
        },
        {
         "alignmentgroup": "True",
         "bingroup": "x",
         "histfunc": "sum",
         "hovertemplate": "Years/Months=%{x}<br>sum of Sum of flows=%{y}<extra></extra>",
         "legendgroup": "2019/08",
         "marker": {
          "color": "#EF553B",
          "pattern": {
           "shape": ""
          }
         },
         "name": "2019/08",
         "offsetgroup": "2019/08",
         "orientation": "v",
         "showlegend": true,
         "type": "histogram",
         "x": [
          "2019/08"
         ],
         "xaxis": "x",
         "y": [
          458102
         ],
         "yaxis": "y"
        },
        {
         "alignmentgroup": "True",
         "bingroup": "x",
         "histfunc": "sum",
         "hovertemplate": "Years/Months=%{x}<br>sum of Sum of flows=%{y}<extra></extra>",
         "legendgroup": "2019/09",
         "marker": {
          "color": "#00cc96",
          "pattern": {
           "shape": ""
          }
         },
         "name": "2019/09",
         "offsetgroup": "2019/09",
         "orientation": "v",
         "showlegend": true,
         "type": "histogram",
         "x": [
          "2019/09"
         ],
         "xaxis": "x",
         "y": [
          959555
         ],
         "yaxis": "y"
        },
        {
         "alignmentgroup": "True",
         "bingroup": "x",
         "histfunc": "sum",
         "hovertemplate": "Years/Months=%{x}<br>sum of Sum of flows=%{y}<extra></extra>",
         "legendgroup": "2019/10",
         "marker": {
          "color": "#ab63fa",
          "pattern": {
           "shape": ""
          }
         },
         "name": "2019/10",
         "offsetgroup": "2019/10",
         "orientation": "v",
         "showlegend": true,
         "type": "histogram",
         "x": [
          "2019/10"
         ],
         "xaxis": "x",
         "y": [
          1411205
         ],
         "yaxis": "y"
        },
        {
         "alignmentgroup": "True",
         "bingroup": "x",
         "histfunc": "sum",
         "hovertemplate": "Years/Months=%{x}<br>sum of Sum of flows=%{y}<extra></extra>",
         "legendgroup": "2020/07",
         "marker": {
          "color": "#FFA15A",
          "pattern": {
           "shape": ""
          }
         },
         "name": "2020/07",
         "offsetgroup": "2020/07",
         "orientation": "v",
         "showlegend": true,
         "type": "histogram",
         "x": [
          "2020/07"
         ],
         "xaxis": "x",
         "y": [
          1583092
         ],
         "yaxis": "y"
        },
        {
         "alignmentgroup": "True",
         "bingroup": "x",
         "histfunc": "sum",
         "hovertemplate": "Years/Months=%{x}<br>sum of Sum of flows=%{y}<extra></extra>",
         "legendgroup": "2020/08",
         "marker": {
          "color": "#19d3f3",
          "pattern": {
           "shape": ""
          }
         },
         "name": "2020/08",
         "offsetgroup": "2020/08",
         "orientation": "v",
         "showlegend": true,
         "type": "histogram",
         "x": [
          "2020/08"
         ],
         "xaxis": "x",
         "y": [
          1365369
         ],
         "yaxis": "y"
        },
        {
         "alignmentgroup": "True",
         "bingroup": "x",
         "histfunc": "sum",
         "hovertemplate": "Years/Months=%{x}<br>sum of Sum of flows=%{y}<extra></extra>",
         "legendgroup": "2020/09",
         "marker": {
          "color": "#FF6692",
          "pattern": {
           "shape": ""
          }
         },
         "name": "2020/09",
         "offsetgroup": "2020/09",
         "orientation": "v",
         "showlegend": true,
         "type": "histogram",
         "x": [
          "2020/09"
         ],
         "xaxis": "x",
         "y": [
          1797370
         ],
         "yaxis": "y"
        },
        {
         "alignmentgroup": "True",
         "bingroup": "x",
         "histfunc": "sum",
         "hovertemplate": "Years/Months=%{x}<br>sum of Sum of flows=%{y}<extra></extra>",
         "legendgroup": "2020/10",
         "marker": {
          "color": "#B6E880",
          "pattern": {
           "shape": ""
          }
         },
         "name": "2020/10",
         "offsetgroup": "2020/10",
         "orientation": "v",
         "showlegend": true,
         "type": "histogram",
         "x": [
          "2020/10"
         ],
         "xaxis": "x",
         "y": [
          1150971
         ],
         "yaxis": "y"
        }
       ],
       "layout": {
        "barmode": "relative",
        "legend": {
         "title": {
          "text": "Years/Months"
         },
         "tracegroupgap": 0
        },
        "template": {
         "data": {
          "bar": [
           {
            "error_x": {
             "color": "#2a3f5f"
            },
            "error_y": {
             "color": "#2a3f5f"
            },
            "marker": {
             "line": {
              "color": "#E5ECF6",
              "width": 0.5
             },
             "pattern": {
              "fillmode": "overlay",
              "size": 10,
              "solidity": 0.2
             }
            },
            "type": "bar"
           }
          ],
          "barpolar": [
           {
            "marker": {
             "line": {
              "color": "#E5ECF6",
              "width": 0.5
             },
             "pattern": {
              "fillmode": "overlay",
              "size": 10,
              "solidity": 0.2
             }
            },
            "type": "barpolar"
           }
          ],
          "carpet": [
           {
            "aaxis": {
             "endlinecolor": "#2a3f5f",
             "gridcolor": "white",
             "linecolor": "white",
             "minorgridcolor": "white",
             "startlinecolor": "#2a3f5f"
            },
            "baxis": {
             "endlinecolor": "#2a3f5f",
             "gridcolor": "white",
             "linecolor": "white",
             "minorgridcolor": "white",
             "startlinecolor": "#2a3f5f"
            },
            "type": "carpet"
           }
          ],
          "choropleth": [
           {
            "colorbar": {
             "outlinewidth": 0,
             "ticks": ""
            },
            "type": "choropleth"
           }
          ],
          "contour": [
           {
            "colorbar": {
             "outlinewidth": 0,
             "ticks": ""
            },
            "colorscale": [
             [
              0,
              "#0d0887"
             ],
             [
              0.1111111111111111,
              "#46039f"
             ],
             [
              0.2222222222222222,
              "#7201a8"
             ],
             [
              0.3333333333333333,
              "#9c179e"
             ],
             [
              0.4444444444444444,
              "#bd3786"
             ],
             [
              0.5555555555555556,
              "#d8576b"
             ],
             [
              0.6666666666666666,
              "#ed7953"
             ],
             [
              0.7777777777777778,
              "#fb9f3a"
             ],
             [
              0.8888888888888888,
              "#fdca26"
             ],
             [
              1,
              "#f0f921"
             ]
            ],
            "type": "contour"
           }
          ],
          "contourcarpet": [
           {
            "colorbar": {
             "outlinewidth": 0,
             "ticks": ""
            },
            "type": "contourcarpet"
           }
          ],
          "heatmap": [
           {
            "colorbar": {
             "outlinewidth": 0,
             "ticks": ""
            },
            "colorscale": [
             [
              0,
              "#0d0887"
             ],
             [
              0.1111111111111111,
              "#46039f"
             ],
             [
              0.2222222222222222,
              "#7201a8"
             ],
             [
              0.3333333333333333,
              "#9c179e"
             ],
             [
              0.4444444444444444,
              "#bd3786"
             ],
             [
              0.5555555555555556,
              "#d8576b"
             ],
             [
              0.6666666666666666,
              "#ed7953"
             ],
             [
              0.7777777777777778,
              "#fb9f3a"
             ],
             [
              0.8888888888888888,
              "#fdca26"
             ],
             [
              1,
              "#f0f921"
             ]
            ],
            "type": "heatmap"
           }
          ],
          "heatmapgl": [
           {
            "colorbar": {
             "outlinewidth": 0,
             "ticks": ""
            },
            "colorscale": [
             [
              0,
              "#0d0887"
             ],
             [
              0.1111111111111111,
              "#46039f"
             ],
             [
              0.2222222222222222,
              "#7201a8"
             ],
             [
              0.3333333333333333,
              "#9c179e"
             ],
             [
              0.4444444444444444,
              "#bd3786"
             ],
             [
              0.5555555555555556,
              "#d8576b"
             ],
             [
              0.6666666666666666,
              "#ed7953"
             ],
             [
              0.7777777777777778,
              "#fb9f3a"
             ],
             [
              0.8888888888888888,
              "#fdca26"
             ],
             [
              1,
              "#f0f921"
             ]
            ],
            "type": "heatmapgl"
           }
          ],
          "histogram": [
           {
            "marker": {
             "pattern": {
              "fillmode": "overlay",
              "size": 10,
              "solidity": 0.2
             }
            },
            "type": "histogram"
           }
          ],
          "histogram2d": [
           {
            "colorbar": {
             "outlinewidth": 0,
             "ticks": ""
            },
            "colorscale": [
             [
              0,
              "#0d0887"
             ],
             [
              0.1111111111111111,
              "#46039f"
             ],
             [
              0.2222222222222222,
              "#7201a8"
             ],
             [
              0.3333333333333333,
              "#9c179e"
             ],
             [
              0.4444444444444444,
              "#bd3786"
             ],
             [
              0.5555555555555556,
              "#d8576b"
             ],
             [
              0.6666666666666666,
              "#ed7953"
             ],
             [
              0.7777777777777778,
              "#fb9f3a"
             ],
             [
              0.8888888888888888,
              "#fdca26"
             ],
             [
              1,
              "#f0f921"
             ]
            ],
            "type": "histogram2d"
           }
          ],
          "histogram2dcontour": [
           {
            "colorbar": {
             "outlinewidth": 0,
             "ticks": ""
            },
            "colorscale": [
             [
              0,
              "#0d0887"
             ],
             [
              0.1111111111111111,
              "#46039f"
             ],
             [
              0.2222222222222222,
              "#7201a8"
             ],
             [
              0.3333333333333333,
              "#9c179e"
             ],
             [
              0.4444444444444444,
              "#bd3786"
             ],
             [
              0.5555555555555556,
              "#d8576b"
             ],
             [
              0.6666666666666666,
              "#ed7953"
             ],
             [
              0.7777777777777778,
              "#fb9f3a"
             ],
             [
              0.8888888888888888,
              "#fdca26"
             ],
             [
              1,
              "#f0f921"
             ]
            ],
            "type": "histogram2dcontour"
           }
          ],
          "mesh3d": [
           {
            "colorbar": {
             "outlinewidth": 0,
             "ticks": ""
            },
            "type": "mesh3d"
           }
          ],
          "parcoords": [
           {
            "line": {
             "colorbar": {
              "outlinewidth": 0,
              "ticks": ""
             }
            },
            "type": "parcoords"
           }
          ],
          "pie": [
           {
            "automargin": true,
            "type": "pie"
           }
          ],
          "scatter": [
           {
            "marker": {
             "colorbar": {
              "outlinewidth": 0,
              "ticks": ""
             }
            },
            "type": "scatter"
           }
          ],
          "scatter3d": [
           {
            "line": {
             "colorbar": {
              "outlinewidth": 0,
              "ticks": ""
             }
            },
            "marker": {
             "colorbar": {
              "outlinewidth": 0,
              "ticks": ""
             }
            },
            "type": "scatter3d"
           }
          ],
          "scattercarpet": [
           {
            "marker": {
             "colorbar": {
              "outlinewidth": 0,
              "ticks": ""
             }
            },
            "type": "scattercarpet"
           }
          ],
          "scattergeo": [
           {
            "marker": {
             "colorbar": {
              "outlinewidth": 0,
              "ticks": ""
             }
            },
            "type": "scattergeo"
           }
          ],
          "scattergl": [
           {
            "marker": {
             "colorbar": {
              "outlinewidth": 0,
              "ticks": ""
             }
            },
            "type": "scattergl"
           }
          ],
          "scattermapbox": [
           {
            "marker": {
             "colorbar": {
              "outlinewidth": 0,
              "ticks": ""
             }
            },
            "type": "scattermapbox"
           }
          ],
          "scatterpolar": [
           {
            "marker": {
             "colorbar": {
              "outlinewidth": 0,
              "ticks": ""
             }
            },
            "type": "scatterpolar"
           }
          ],
          "scatterpolargl": [
           {
            "marker": {
             "colorbar": {
              "outlinewidth": 0,
              "ticks": ""
             }
            },
            "type": "scatterpolargl"
           }
          ],
          "scatterternary": [
           {
            "marker": {
             "colorbar": {
              "outlinewidth": 0,
              "ticks": ""
             }
            },
            "type": "scatterternary"
           }
          ],
          "surface": [
           {
            "colorbar": {
             "outlinewidth": 0,
             "ticks": ""
            },
            "colorscale": [
             [
              0,
              "#0d0887"
             ],
             [
              0.1111111111111111,
              "#46039f"
             ],
             [
              0.2222222222222222,
              "#7201a8"
             ],
             [
              0.3333333333333333,
              "#9c179e"
             ],
             [
              0.4444444444444444,
              "#bd3786"
             ],
             [
              0.5555555555555556,
              "#d8576b"
             ],
             [
              0.6666666666666666,
              "#ed7953"
             ],
             [
              0.7777777777777778,
              "#fb9f3a"
             ],
             [
              0.8888888888888888,
              "#fdca26"
             ],
             [
              1,
              "#f0f921"
             ]
            ],
            "type": "surface"
           }
          ],
          "table": [
           {
            "cells": {
             "fill": {
              "color": "#EBF0F8"
             },
             "line": {
              "color": "white"
             }
            },
            "header": {
             "fill": {
              "color": "#C8D4E3"
             },
             "line": {
              "color": "white"
             }
            },
            "type": "table"
           }
          ]
         },
         "layout": {
          "annotationdefaults": {
           "arrowcolor": "#2a3f5f",
           "arrowhead": 0,
           "arrowwidth": 1
          },
          "autotypenumbers": "strict",
          "coloraxis": {
           "colorbar": {
            "outlinewidth": 0,
            "ticks": ""
           }
          },
          "colorscale": {
           "diverging": [
            [
             0,
             "#8e0152"
            ],
            [
             0.1,
             "#c51b7d"
            ],
            [
             0.2,
             "#de77ae"
            ],
            [
             0.3,
             "#f1b6da"
            ],
            [
             0.4,
             "#fde0ef"
            ],
            [
             0.5,
             "#f7f7f7"
            ],
            [
             0.6,
             "#e6f5d0"
            ],
            [
             0.7,
             "#b8e186"
            ],
            [
             0.8,
             "#7fbc41"
            ],
            [
             0.9,
             "#4d9221"
            ],
            [
             1,
             "#276419"
            ]
           ],
           "sequential": [
            [
             0,
             "#0d0887"
            ],
            [
             0.1111111111111111,
             "#46039f"
            ],
            [
             0.2222222222222222,
             "#7201a8"
            ],
            [
             0.3333333333333333,
             "#9c179e"
            ],
            [
             0.4444444444444444,
             "#bd3786"
            ],
            [
             0.5555555555555556,
             "#d8576b"
            ],
            [
             0.6666666666666666,
             "#ed7953"
            ],
            [
             0.7777777777777778,
             "#fb9f3a"
            ],
            [
             0.8888888888888888,
             "#fdca26"
            ],
            [
             1,
             "#f0f921"
            ]
           ],
           "sequentialminus": [
            [
             0,
             "#0d0887"
            ],
            [
             0.1111111111111111,
             "#46039f"
            ],
            [
             0.2222222222222222,
             "#7201a8"
            ],
            [
             0.3333333333333333,
             "#9c179e"
            ],
            [
             0.4444444444444444,
             "#bd3786"
            ],
            [
             0.5555555555555556,
             "#d8576b"
            ],
            [
             0.6666666666666666,
             "#ed7953"
            ],
            [
             0.7777777777777778,
             "#fb9f3a"
            ],
            [
             0.8888888888888888,
             "#fdca26"
            ],
            [
             1,
             "#f0f921"
            ]
           ]
          },
          "colorway": [
           "#636efa",
           "#EF553B",
           "#00cc96",
           "#ab63fa",
           "#FFA15A",
           "#19d3f3",
           "#FF6692",
           "#B6E880",
           "#FF97FF",
           "#FECB52"
          ],
          "font": {
           "color": "#2a3f5f"
          },
          "geo": {
           "bgcolor": "white",
           "lakecolor": "white",
           "landcolor": "#E5ECF6",
           "showlakes": true,
           "showland": true,
           "subunitcolor": "white"
          },
          "hoverlabel": {
           "align": "left"
          },
          "hovermode": "closest",
          "mapbox": {
           "style": "light"
          },
          "paper_bgcolor": "white",
          "plot_bgcolor": "#E5ECF6",
          "polar": {
           "angularaxis": {
            "gridcolor": "white",
            "linecolor": "white",
            "ticks": ""
           },
           "bgcolor": "#E5ECF6",
           "radialaxis": {
            "gridcolor": "white",
            "linecolor": "white",
            "ticks": ""
           }
          },
          "scene": {
           "xaxis": {
            "backgroundcolor": "#E5ECF6",
            "gridcolor": "white",
            "gridwidth": 2,
            "linecolor": "white",
            "showbackground": true,
            "ticks": "",
            "zerolinecolor": "white"
           },
           "yaxis": {
            "backgroundcolor": "#E5ECF6",
            "gridcolor": "white",
            "gridwidth": 2,
            "linecolor": "white",
            "showbackground": true,
            "ticks": "",
            "zerolinecolor": "white"
           },
           "zaxis": {
            "backgroundcolor": "#E5ECF6",
            "gridcolor": "white",
            "gridwidth": 2,
            "linecolor": "white",
            "showbackground": true,
            "ticks": "",
            "zerolinecolor": "white"
           }
          },
          "shapedefaults": {
           "line": {
            "color": "#2a3f5f"
           }
          },
          "ternary": {
           "aaxis": {
            "gridcolor": "white",
            "linecolor": "white",
            "ticks": ""
           },
           "baxis": {
            "gridcolor": "white",
            "linecolor": "white",
            "ticks": ""
           },
           "bgcolor": "#E5ECF6",
           "caxis": {
            "gridcolor": "white",
            "linecolor": "white",
            "ticks": ""
           }
          },
          "title": {
           "x": 0.05
          },
          "xaxis": {
           "automargin": true,
           "gridcolor": "white",
           "linecolor": "white",
           "ticks": "",
           "title": {
            "standoff": 15
           },
           "zerolinecolor": "white",
           "zerolinewidth": 2
          },
          "yaxis": {
           "automargin": true,
           "gridcolor": "white",
           "linecolor": "white",
           "ticks": "",
           "title": {
            "standoff": 15
           },
           "zerolinecolor": "white",
           "zerolinewidth": 2
          }
         }
        },
        "title": {
         "text": "MONTHLY BEHAVIOUR - Histogram"
        },
        "xaxis": {
         "anchor": "y",
         "domain": [
          0,
          1
         ],
         "title": {
          "text": "Years/Months"
         }
        },
        "yaxis": {
         "anchor": "x",
         "domain": [
          0,
          1
         ],
         "title": {
          "text": "sum of Sum of flows"
         }
        }
       }
      }
     },
     "metadata": {},
     "output_type": "display_data"
    }
   ],
   "source": [
    "# Visualizzation\n",
    "fig = px.line(group, x = group.index.get_level_values(1), y = group['Flow'], \n",
    "              color = group.index.get_level_values(0),\n",
    "              title = 'MONTHLY BEHAVIOUR - Line plot',\n",
    "              labels = {'Flow' : 'Sum of flows', 'x' : 'Days', 'color' : 'Years/Months'}\n",
    "             ) # Line plot\n",
    "\n",
    "fig1 = px.histogram(group1, \n",
    "                    x =  group1.index.get_level_values(1), \n",
    "                    y =  group1['Flow'], \n",
    "                    color = group1.index.get_level_values(1), \n",
    "                    title = 'MONTHLY BEHAVIOUR - Histogram',\n",
    "                    labels = {'Flow' : 'Sum of flows', 'x' : 'Years/Months', 'color' : 'Years/Months'}\n",
    "                   ) # Hist\n",
    "\n",
    "fig.show()\n",
    "fig1.show()"
   ]
  },
  {
   "cell_type": "markdown",
   "id": "0834635d",
   "metadata": {},
   "source": [
    "**Non-liner trends** for the sum of flows within months.\n",
    "\n",
    "August is a well-known holiday month's, in fact, within it, we have the biggest gap in water consumption between worker and smart worker(probably due to the frequent lockdowns).\n",
    "\n",
    "From the above statement we can extend it by saying that the water consumption between workers and smart workers is closer during canonical working months i.e., autumn, winter and spring, but always higher for smartworkers.\n",
    "\n",
    "Thus **month could be an useful feature in order to understand weather the water consumption is related to workers or smart workers**."
   ]
  },
  {
   "cell_type": "markdown",
   "id": "eb43629e",
   "metadata": {},
   "source": [
    "[Return to contents](#contents)"
   ]
  },
  {
   "cell_type": "markdown",
   "id": "ee8c651f",
   "metadata": {},
   "source": [
    "<a id = 'day'></a>\n",
    "# Daily water consuption patterns "
   ]
  },
  {
   "cell_type": "code",
   "execution_count": 8,
   "id": "113187a7",
   "metadata": {
    "scrolled": true
   },
   "outputs": [
    {
     "data": {
      "text/html": [
       "<th style=\"text-align:center\"><td style=\"vertical-align:top\"><h2>5 Daily water consumption patterns (for Line)</h2><table style=\"display:inline\" border=\"1\" class=\"dataframe\">\n",
       "  <thead>\n",
       "    <tr style=\"text-align: right;\">\n",
       "      <th></th>\n",
       "      <th></th>\n",
       "      <th>Flow</th>\n",
       "    </tr>\n",
       "    <tr>\n",
       "      <th>Time</th>\n",
       "      <th>Time</th>\n",
       "      <th></th>\n",
       "    </tr>\n",
       "  </thead>\n",
       "  <tbody>\n",
       "    <tr>\n",
       "      <th rowspan=\"5\" valign=\"top\">2019</th>\n",
       "      <th>0</th>\n",
       "      <td>56133.0</td>\n",
       "    </tr>\n",
       "    <tr>\n",
       "      <th>1</th>\n",
       "      <td>8417.0</td>\n",
       "    </tr>\n",
       "    <tr>\n",
       "      <th>2</th>\n",
       "      <td>11441.0</td>\n",
       "    </tr>\n",
       "    <tr>\n",
       "      <th>3</th>\n",
       "      <td>35494.0</td>\n",
       "    </tr>\n",
       "    <tr>\n",
       "      <th>4</th>\n",
       "      <td>6224.0</td>\n",
       "    </tr>\n",
       "  </tbody>\n",
       "</table style=\"display:inline\"></td></th><th style=\"text-align:center\"><td style=\"vertical-align:top\"><h2> 6 Daily water consumption patterns (for Hist)</h2><table style=\"display:inline\" border=\"1\" class=\"dataframe\">\n",
       "  <thead>\n",
       "    <tr style=\"text-align: right;\">\n",
       "      <th></th>\n",
       "      <th></th>\n",
       "      <th>Flow</th>\n",
       "    </tr>\n",
       "    <tr>\n",
       "      <th>Time</th>\n",
       "      <th>Time</th>\n",
       "      <th></th>\n",
       "    </tr>\n",
       "  </thead>\n",
       "  <tbody>\n",
       "    <tr>\n",
       "      <th rowspan=\"2\" valign=\"top\">0</th>\n",
       "      <th>2019</th>\n",
       "      <td>56133.0</td>\n",
       "    </tr>\n",
       "    <tr>\n",
       "      <th>2020</th>\n",
       "      <td>47453.0</td>\n",
       "    </tr>\n",
       "    <tr>\n",
       "      <th rowspan=\"2\" valign=\"top\">1</th>\n",
       "      <th>2019</th>\n",
       "      <td>8417.0</td>\n",
       "    </tr>\n",
       "    <tr>\n",
       "      <th>2020</th>\n",
       "      <td>41340.0</td>\n",
       "    </tr>\n",
       "    <tr>\n",
       "      <th rowspan=\"2\" valign=\"top\">2</th>\n",
       "      <th>2019</th>\n",
       "      <td>11441.0</td>\n",
       "    </tr>\n",
       "    <tr>\n",
       "      <th>2020</th>\n",
       "      <td>51480.0</td>\n",
       "    </tr>\n",
       "  </tbody>\n",
       "</table style=\"display:inline\"></td></th>"
      ]
     },
     "metadata": {},
     "output_type": "display_data"
    }
   ],
   "source": [
    "# Data manipulation \n",
    "group = df.groupby([df.index.year, df.index.hour]).sum() # For line plot \n",
    "group1 = df.groupby([df.index.hour, df.index.year]).sum() # For Hist \n",
    "\n",
    "display_side_by_side(group.head(), group1.head(6), titles=['5 Daily water consumption patterns (for Line)', \n",
    "                                            ' 6 Daily water consumption patterns (for Hist)']) "
   ]
  },
  {
   "cell_type": "code",
   "execution_count": 9,
   "id": "29053f6d",
   "metadata": {},
   "outputs": [
    {
     "data": {
      "application/vnd.plotly.v1+json": {
       "config": {
        "plotlyServerURL": "https://plot.ly"
       },
       "data": [
        {
         "hovertemplate": "Years=2019<br>Hours=%{x}<br>Sum of flows=%{y}<extra></extra>",
         "legendgroup": "2019",
         "line": {
          "color": "#636efa",
          "dash": "solid"
         },
         "marker": {
          "symbol": "circle"
         },
         "mode": "lines",
         "name": "2019",
         "orientation": "v",
         "showlegend": true,
         "type": "scatter",
         "x": [
          0,
          1,
          2,
          3,
          4,
          5,
          6,
          7,
          8,
          9,
          10,
          11,
          12,
          13,
          14,
          15,
          16,
          17,
          18,
          19,
          20,
          21,
          22,
          23
         ],
         "xaxis": "x",
         "y": [
          56133,
          8417,
          11441,
          35494,
          6224,
          339321,
          456463,
          243014,
          192427,
          155453,
          73489,
          112426,
          130069,
          194646,
          199316,
          249661,
          245167,
          207040,
          240084,
          244449,
          184750,
          65321,
          152992,
          65642
         ],
         "yaxis": "y"
        },
        {
         "hovertemplate": "Years=2020<br>Hours=%{x}<br>Sum of flows=%{y}<extra></extra>",
         "legendgroup": "2020",
         "line": {
          "color": "#EF553B",
          "dash": "solid"
         },
         "marker": {
          "symbol": "circle"
         },
         "mode": "lines",
         "name": "2020",
         "orientation": "v",
         "showlegend": true,
         "type": "scatter",
         "x": [
          0,
          1,
          2,
          3,
          4,
          5,
          6,
          7,
          8,
          9,
          10,
          11,
          12,
          13,
          14,
          15,
          16,
          17,
          18,
          19,
          20,
          21,
          22,
          23
         ],
         "xaxis": "x",
         "y": [
          47453,
          41340,
          51480,
          13079,
          25255,
          63652,
          427329,
          383132,
          338189,
          290962,
          300290,
          313738,
          256011,
          244540,
          557504,
          609929,
          613064,
          382080,
          299218,
          149030,
          227745,
          102503,
          82144,
          77135
         ],
         "yaxis": "y"
        }
       ],
       "layout": {
        "legend": {
         "title": {
          "text": "Years"
         },
         "tracegroupgap": 0
        },
        "template": {
         "data": {
          "bar": [
           {
            "error_x": {
             "color": "#2a3f5f"
            },
            "error_y": {
             "color": "#2a3f5f"
            },
            "marker": {
             "line": {
              "color": "#E5ECF6",
              "width": 0.5
             },
             "pattern": {
              "fillmode": "overlay",
              "size": 10,
              "solidity": 0.2
             }
            },
            "type": "bar"
           }
          ],
          "barpolar": [
           {
            "marker": {
             "line": {
              "color": "#E5ECF6",
              "width": 0.5
             },
             "pattern": {
              "fillmode": "overlay",
              "size": 10,
              "solidity": 0.2
             }
            },
            "type": "barpolar"
           }
          ],
          "carpet": [
           {
            "aaxis": {
             "endlinecolor": "#2a3f5f",
             "gridcolor": "white",
             "linecolor": "white",
             "minorgridcolor": "white",
             "startlinecolor": "#2a3f5f"
            },
            "baxis": {
             "endlinecolor": "#2a3f5f",
             "gridcolor": "white",
             "linecolor": "white",
             "minorgridcolor": "white",
             "startlinecolor": "#2a3f5f"
            },
            "type": "carpet"
           }
          ],
          "choropleth": [
           {
            "colorbar": {
             "outlinewidth": 0,
             "ticks": ""
            },
            "type": "choropleth"
           }
          ],
          "contour": [
           {
            "colorbar": {
             "outlinewidth": 0,
             "ticks": ""
            },
            "colorscale": [
             [
              0,
              "#0d0887"
             ],
             [
              0.1111111111111111,
              "#46039f"
             ],
             [
              0.2222222222222222,
              "#7201a8"
             ],
             [
              0.3333333333333333,
              "#9c179e"
             ],
             [
              0.4444444444444444,
              "#bd3786"
             ],
             [
              0.5555555555555556,
              "#d8576b"
             ],
             [
              0.6666666666666666,
              "#ed7953"
             ],
             [
              0.7777777777777778,
              "#fb9f3a"
             ],
             [
              0.8888888888888888,
              "#fdca26"
             ],
             [
              1,
              "#f0f921"
             ]
            ],
            "type": "contour"
           }
          ],
          "contourcarpet": [
           {
            "colorbar": {
             "outlinewidth": 0,
             "ticks": ""
            },
            "type": "contourcarpet"
           }
          ],
          "heatmap": [
           {
            "colorbar": {
             "outlinewidth": 0,
             "ticks": ""
            },
            "colorscale": [
             [
              0,
              "#0d0887"
             ],
             [
              0.1111111111111111,
              "#46039f"
             ],
             [
              0.2222222222222222,
              "#7201a8"
             ],
             [
              0.3333333333333333,
              "#9c179e"
             ],
             [
              0.4444444444444444,
              "#bd3786"
             ],
             [
              0.5555555555555556,
              "#d8576b"
             ],
             [
              0.6666666666666666,
              "#ed7953"
             ],
             [
              0.7777777777777778,
              "#fb9f3a"
             ],
             [
              0.8888888888888888,
              "#fdca26"
             ],
             [
              1,
              "#f0f921"
             ]
            ],
            "type": "heatmap"
           }
          ],
          "heatmapgl": [
           {
            "colorbar": {
             "outlinewidth": 0,
             "ticks": ""
            },
            "colorscale": [
             [
              0,
              "#0d0887"
             ],
             [
              0.1111111111111111,
              "#46039f"
             ],
             [
              0.2222222222222222,
              "#7201a8"
             ],
             [
              0.3333333333333333,
              "#9c179e"
             ],
             [
              0.4444444444444444,
              "#bd3786"
             ],
             [
              0.5555555555555556,
              "#d8576b"
             ],
             [
              0.6666666666666666,
              "#ed7953"
             ],
             [
              0.7777777777777778,
              "#fb9f3a"
             ],
             [
              0.8888888888888888,
              "#fdca26"
             ],
             [
              1,
              "#f0f921"
             ]
            ],
            "type": "heatmapgl"
           }
          ],
          "histogram": [
           {
            "marker": {
             "pattern": {
              "fillmode": "overlay",
              "size": 10,
              "solidity": 0.2
             }
            },
            "type": "histogram"
           }
          ],
          "histogram2d": [
           {
            "colorbar": {
             "outlinewidth": 0,
             "ticks": ""
            },
            "colorscale": [
             [
              0,
              "#0d0887"
             ],
             [
              0.1111111111111111,
              "#46039f"
             ],
             [
              0.2222222222222222,
              "#7201a8"
             ],
             [
              0.3333333333333333,
              "#9c179e"
             ],
             [
              0.4444444444444444,
              "#bd3786"
             ],
             [
              0.5555555555555556,
              "#d8576b"
             ],
             [
              0.6666666666666666,
              "#ed7953"
             ],
             [
              0.7777777777777778,
              "#fb9f3a"
             ],
             [
              0.8888888888888888,
              "#fdca26"
             ],
             [
              1,
              "#f0f921"
             ]
            ],
            "type": "histogram2d"
           }
          ],
          "histogram2dcontour": [
           {
            "colorbar": {
             "outlinewidth": 0,
             "ticks": ""
            },
            "colorscale": [
             [
              0,
              "#0d0887"
             ],
             [
              0.1111111111111111,
              "#46039f"
             ],
             [
              0.2222222222222222,
              "#7201a8"
             ],
             [
              0.3333333333333333,
              "#9c179e"
             ],
             [
              0.4444444444444444,
              "#bd3786"
             ],
             [
              0.5555555555555556,
              "#d8576b"
             ],
             [
              0.6666666666666666,
              "#ed7953"
             ],
             [
              0.7777777777777778,
              "#fb9f3a"
             ],
             [
              0.8888888888888888,
              "#fdca26"
             ],
             [
              1,
              "#f0f921"
             ]
            ],
            "type": "histogram2dcontour"
           }
          ],
          "mesh3d": [
           {
            "colorbar": {
             "outlinewidth": 0,
             "ticks": ""
            },
            "type": "mesh3d"
           }
          ],
          "parcoords": [
           {
            "line": {
             "colorbar": {
              "outlinewidth": 0,
              "ticks": ""
             }
            },
            "type": "parcoords"
           }
          ],
          "pie": [
           {
            "automargin": true,
            "type": "pie"
           }
          ],
          "scatter": [
           {
            "marker": {
             "colorbar": {
              "outlinewidth": 0,
              "ticks": ""
             }
            },
            "type": "scatter"
           }
          ],
          "scatter3d": [
           {
            "line": {
             "colorbar": {
              "outlinewidth": 0,
              "ticks": ""
             }
            },
            "marker": {
             "colorbar": {
              "outlinewidth": 0,
              "ticks": ""
             }
            },
            "type": "scatter3d"
           }
          ],
          "scattercarpet": [
           {
            "marker": {
             "colorbar": {
              "outlinewidth": 0,
              "ticks": ""
             }
            },
            "type": "scattercarpet"
           }
          ],
          "scattergeo": [
           {
            "marker": {
             "colorbar": {
              "outlinewidth": 0,
              "ticks": ""
             }
            },
            "type": "scattergeo"
           }
          ],
          "scattergl": [
           {
            "marker": {
             "colorbar": {
              "outlinewidth": 0,
              "ticks": ""
             }
            },
            "type": "scattergl"
           }
          ],
          "scattermapbox": [
           {
            "marker": {
             "colorbar": {
              "outlinewidth": 0,
              "ticks": ""
             }
            },
            "type": "scattermapbox"
           }
          ],
          "scatterpolar": [
           {
            "marker": {
             "colorbar": {
              "outlinewidth": 0,
              "ticks": ""
             }
            },
            "type": "scatterpolar"
           }
          ],
          "scatterpolargl": [
           {
            "marker": {
             "colorbar": {
              "outlinewidth": 0,
              "ticks": ""
             }
            },
            "type": "scatterpolargl"
           }
          ],
          "scatterternary": [
           {
            "marker": {
             "colorbar": {
              "outlinewidth": 0,
              "ticks": ""
             }
            },
            "type": "scatterternary"
           }
          ],
          "surface": [
           {
            "colorbar": {
             "outlinewidth": 0,
             "ticks": ""
            },
            "colorscale": [
             [
              0,
              "#0d0887"
             ],
             [
              0.1111111111111111,
              "#46039f"
             ],
             [
              0.2222222222222222,
              "#7201a8"
             ],
             [
              0.3333333333333333,
              "#9c179e"
             ],
             [
              0.4444444444444444,
              "#bd3786"
             ],
             [
              0.5555555555555556,
              "#d8576b"
             ],
             [
              0.6666666666666666,
              "#ed7953"
             ],
             [
              0.7777777777777778,
              "#fb9f3a"
             ],
             [
              0.8888888888888888,
              "#fdca26"
             ],
             [
              1,
              "#f0f921"
             ]
            ],
            "type": "surface"
           }
          ],
          "table": [
           {
            "cells": {
             "fill": {
              "color": "#EBF0F8"
             },
             "line": {
              "color": "white"
             }
            },
            "header": {
             "fill": {
              "color": "#C8D4E3"
             },
             "line": {
              "color": "white"
             }
            },
            "type": "table"
           }
          ]
         },
         "layout": {
          "annotationdefaults": {
           "arrowcolor": "#2a3f5f",
           "arrowhead": 0,
           "arrowwidth": 1
          },
          "autotypenumbers": "strict",
          "coloraxis": {
           "colorbar": {
            "outlinewidth": 0,
            "ticks": ""
           }
          },
          "colorscale": {
           "diverging": [
            [
             0,
             "#8e0152"
            ],
            [
             0.1,
             "#c51b7d"
            ],
            [
             0.2,
             "#de77ae"
            ],
            [
             0.3,
             "#f1b6da"
            ],
            [
             0.4,
             "#fde0ef"
            ],
            [
             0.5,
             "#f7f7f7"
            ],
            [
             0.6,
             "#e6f5d0"
            ],
            [
             0.7,
             "#b8e186"
            ],
            [
             0.8,
             "#7fbc41"
            ],
            [
             0.9,
             "#4d9221"
            ],
            [
             1,
             "#276419"
            ]
           ],
           "sequential": [
            [
             0,
             "#0d0887"
            ],
            [
             0.1111111111111111,
             "#46039f"
            ],
            [
             0.2222222222222222,
             "#7201a8"
            ],
            [
             0.3333333333333333,
             "#9c179e"
            ],
            [
             0.4444444444444444,
             "#bd3786"
            ],
            [
             0.5555555555555556,
             "#d8576b"
            ],
            [
             0.6666666666666666,
             "#ed7953"
            ],
            [
             0.7777777777777778,
             "#fb9f3a"
            ],
            [
             0.8888888888888888,
             "#fdca26"
            ],
            [
             1,
             "#f0f921"
            ]
           ],
           "sequentialminus": [
            [
             0,
             "#0d0887"
            ],
            [
             0.1111111111111111,
             "#46039f"
            ],
            [
             0.2222222222222222,
             "#7201a8"
            ],
            [
             0.3333333333333333,
             "#9c179e"
            ],
            [
             0.4444444444444444,
             "#bd3786"
            ],
            [
             0.5555555555555556,
             "#d8576b"
            ],
            [
             0.6666666666666666,
             "#ed7953"
            ],
            [
             0.7777777777777778,
             "#fb9f3a"
            ],
            [
             0.8888888888888888,
             "#fdca26"
            ],
            [
             1,
             "#f0f921"
            ]
           ]
          },
          "colorway": [
           "#636efa",
           "#EF553B",
           "#00cc96",
           "#ab63fa",
           "#FFA15A",
           "#19d3f3",
           "#FF6692",
           "#B6E880",
           "#FF97FF",
           "#FECB52"
          ],
          "font": {
           "color": "#2a3f5f"
          },
          "geo": {
           "bgcolor": "white",
           "lakecolor": "white",
           "landcolor": "#E5ECF6",
           "showlakes": true,
           "showland": true,
           "subunitcolor": "white"
          },
          "hoverlabel": {
           "align": "left"
          },
          "hovermode": "closest",
          "mapbox": {
           "style": "light"
          },
          "paper_bgcolor": "white",
          "plot_bgcolor": "#E5ECF6",
          "polar": {
           "angularaxis": {
            "gridcolor": "white",
            "linecolor": "white",
            "ticks": ""
           },
           "bgcolor": "#E5ECF6",
           "radialaxis": {
            "gridcolor": "white",
            "linecolor": "white",
            "ticks": ""
           }
          },
          "scene": {
           "xaxis": {
            "backgroundcolor": "#E5ECF6",
            "gridcolor": "white",
            "gridwidth": 2,
            "linecolor": "white",
            "showbackground": true,
            "ticks": "",
            "zerolinecolor": "white"
           },
           "yaxis": {
            "backgroundcolor": "#E5ECF6",
            "gridcolor": "white",
            "gridwidth": 2,
            "linecolor": "white",
            "showbackground": true,
            "ticks": "",
            "zerolinecolor": "white"
           },
           "zaxis": {
            "backgroundcolor": "#E5ECF6",
            "gridcolor": "white",
            "gridwidth": 2,
            "linecolor": "white",
            "showbackground": true,
            "ticks": "",
            "zerolinecolor": "white"
           }
          },
          "shapedefaults": {
           "line": {
            "color": "#2a3f5f"
           }
          },
          "ternary": {
           "aaxis": {
            "gridcolor": "white",
            "linecolor": "white",
            "ticks": ""
           },
           "baxis": {
            "gridcolor": "white",
            "linecolor": "white",
            "ticks": ""
           },
           "bgcolor": "#E5ECF6",
           "caxis": {
            "gridcolor": "white",
            "linecolor": "white",
            "ticks": ""
           }
          },
          "title": {
           "x": 0.05
          },
          "xaxis": {
           "automargin": true,
           "gridcolor": "white",
           "linecolor": "white",
           "ticks": "",
           "title": {
            "standoff": 15
           },
           "zerolinecolor": "white",
           "zerolinewidth": 2
          },
          "yaxis": {
           "automargin": true,
           "gridcolor": "white",
           "linecolor": "white",
           "ticks": "",
           "title": {
            "standoff": 15
           },
           "zerolinecolor": "white",
           "zerolinewidth": 2
          }
         }
        },
        "title": {
         "text": "DAILY WATER CONSUPTION PATTERNS - Line plot"
        },
        "xaxis": {
         "anchor": "y",
         "domain": [
          0,
          1
         ],
         "title": {
          "text": "Hours"
         }
        },
        "yaxis": {
         "anchor": "x",
         "domain": [
          0,
          1
         ],
         "title": {
          "text": "Sum of flows"
         }
        }
       }
      }
     },
     "metadata": {},
     "output_type": "display_data"
    },
    {
     "data": {
      "application/vnd.plotly.v1+json": {
       "config": {
        "plotlyServerURL": "https://plot.ly"
       },
       "data": [
        {
         "alignmentgroup": "True",
         "bingroup": "x",
         "histfunc": "sum",
         "hovertemplate": "Years=2019<br>Hours=%{x}<br>sum of Flow=%{y}<extra></extra>",
         "legendgroup": "2019",
         "marker": {
          "color": "#636efa",
          "pattern": {
           "shape": ""
          }
         },
         "name": "2019",
         "nbinsx": 46,
         "offsetgroup": "2019",
         "orientation": "v",
         "showlegend": true,
         "type": "histogram",
         "x": [
          0,
          1,
          2,
          3,
          4,
          5,
          6,
          7,
          8,
          9,
          10,
          11,
          12,
          13,
          14,
          15,
          16,
          17,
          18,
          19,
          20,
          21,
          22,
          23
         ],
         "xaxis": "x",
         "y": [
          56133,
          8417,
          11441,
          35494,
          6224,
          339321,
          456463,
          243014,
          192427,
          155453,
          73489,
          112426,
          130069,
          194646,
          199316,
          249661,
          245167,
          207040,
          240084,
          244449,
          184750,
          65321,
          152992,
          65642
         ],
         "yaxis": "y"
        },
        {
         "alignmentgroup": "True",
         "bingroup": "x",
         "histfunc": "sum",
         "hovertemplate": "Years=2020<br>Hours=%{x}<br>sum of Flow=%{y}<extra></extra>",
         "legendgroup": "2020",
         "marker": {
          "color": "#EF553B",
          "pattern": {
           "shape": ""
          }
         },
         "name": "2020",
         "nbinsx": 46,
         "offsetgroup": "2020",
         "orientation": "v",
         "showlegend": true,
         "type": "histogram",
         "x": [
          0,
          1,
          2,
          3,
          4,
          5,
          6,
          7,
          8,
          9,
          10,
          11,
          12,
          13,
          14,
          15,
          16,
          17,
          18,
          19,
          20,
          21,
          22,
          23
         ],
         "xaxis": "x",
         "y": [
          47453,
          41340,
          51480,
          13079,
          25255,
          63652,
          427329,
          383132,
          338189,
          290962,
          300290,
          313738,
          256011,
          244540,
          557504,
          609929,
          613064,
          382080,
          299218,
          149030,
          227745,
          102503,
          82144,
          77135
         ],
         "yaxis": "y"
        }
       ],
       "layout": {
        "barmode": "group",
        "legend": {
         "title": {
          "text": "Years"
         },
         "tracegroupgap": 0
        },
        "template": {
         "data": {
          "bar": [
           {
            "error_x": {
             "color": "#2a3f5f"
            },
            "error_y": {
             "color": "#2a3f5f"
            },
            "marker": {
             "line": {
              "color": "#E5ECF6",
              "width": 0.5
             },
             "pattern": {
              "fillmode": "overlay",
              "size": 10,
              "solidity": 0.2
             }
            },
            "type": "bar"
           }
          ],
          "barpolar": [
           {
            "marker": {
             "line": {
              "color": "#E5ECF6",
              "width": 0.5
             },
             "pattern": {
              "fillmode": "overlay",
              "size": 10,
              "solidity": 0.2
             }
            },
            "type": "barpolar"
           }
          ],
          "carpet": [
           {
            "aaxis": {
             "endlinecolor": "#2a3f5f",
             "gridcolor": "white",
             "linecolor": "white",
             "minorgridcolor": "white",
             "startlinecolor": "#2a3f5f"
            },
            "baxis": {
             "endlinecolor": "#2a3f5f",
             "gridcolor": "white",
             "linecolor": "white",
             "minorgridcolor": "white",
             "startlinecolor": "#2a3f5f"
            },
            "type": "carpet"
           }
          ],
          "choropleth": [
           {
            "colorbar": {
             "outlinewidth": 0,
             "ticks": ""
            },
            "type": "choropleth"
           }
          ],
          "contour": [
           {
            "colorbar": {
             "outlinewidth": 0,
             "ticks": ""
            },
            "colorscale": [
             [
              0,
              "#0d0887"
             ],
             [
              0.1111111111111111,
              "#46039f"
             ],
             [
              0.2222222222222222,
              "#7201a8"
             ],
             [
              0.3333333333333333,
              "#9c179e"
             ],
             [
              0.4444444444444444,
              "#bd3786"
             ],
             [
              0.5555555555555556,
              "#d8576b"
             ],
             [
              0.6666666666666666,
              "#ed7953"
             ],
             [
              0.7777777777777778,
              "#fb9f3a"
             ],
             [
              0.8888888888888888,
              "#fdca26"
             ],
             [
              1,
              "#f0f921"
             ]
            ],
            "type": "contour"
           }
          ],
          "contourcarpet": [
           {
            "colorbar": {
             "outlinewidth": 0,
             "ticks": ""
            },
            "type": "contourcarpet"
           }
          ],
          "heatmap": [
           {
            "colorbar": {
             "outlinewidth": 0,
             "ticks": ""
            },
            "colorscale": [
             [
              0,
              "#0d0887"
             ],
             [
              0.1111111111111111,
              "#46039f"
             ],
             [
              0.2222222222222222,
              "#7201a8"
             ],
             [
              0.3333333333333333,
              "#9c179e"
             ],
             [
              0.4444444444444444,
              "#bd3786"
             ],
             [
              0.5555555555555556,
              "#d8576b"
             ],
             [
              0.6666666666666666,
              "#ed7953"
             ],
             [
              0.7777777777777778,
              "#fb9f3a"
             ],
             [
              0.8888888888888888,
              "#fdca26"
             ],
             [
              1,
              "#f0f921"
             ]
            ],
            "type": "heatmap"
           }
          ],
          "heatmapgl": [
           {
            "colorbar": {
             "outlinewidth": 0,
             "ticks": ""
            },
            "colorscale": [
             [
              0,
              "#0d0887"
             ],
             [
              0.1111111111111111,
              "#46039f"
             ],
             [
              0.2222222222222222,
              "#7201a8"
             ],
             [
              0.3333333333333333,
              "#9c179e"
             ],
             [
              0.4444444444444444,
              "#bd3786"
             ],
             [
              0.5555555555555556,
              "#d8576b"
             ],
             [
              0.6666666666666666,
              "#ed7953"
             ],
             [
              0.7777777777777778,
              "#fb9f3a"
             ],
             [
              0.8888888888888888,
              "#fdca26"
             ],
             [
              1,
              "#f0f921"
             ]
            ],
            "type": "heatmapgl"
           }
          ],
          "histogram": [
           {
            "marker": {
             "pattern": {
              "fillmode": "overlay",
              "size": 10,
              "solidity": 0.2
             }
            },
            "type": "histogram"
           }
          ],
          "histogram2d": [
           {
            "colorbar": {
             "outlinewidth": 0,
             "ticks": ""
            },
            "colorscale": [
             [
              0,
              "#0d0887"
             ],
             [
              0.1111111111111111,
              "#46039f"
             ],
             [
              0.2222222222222222,
              "#7201a8"
             ],
             [
              0.3333333333333333,
              "#9c179e"
             ],
             [
              0.4444444444444444,
              "#bd3786"
             ],
             [
              0.5555555555555556,
              "#d8576b"
             ],
             [
              0.6666666666666666,
              "#ed7953"
             ],
             [
              0.7777777777777778,
              "#fb9f3a"
             ],
             [
              0.8888888888888888,
              "#fdca26"
             ],
             [
              1,
              "#f0f921"
             ]
            ],
            "type": "histogram2d"
           }
          ],
          "histogram2dcontour": [
           {
            "colorbar": {
             "outlinewidth": 0,
             "ticks": ""
            },
            "colorscale": [
             [
              0,
              "#0d0887"
             ],
             [
              0.1111111111111111,
              "#46039f"
             ],
             [
              0.2222222222222222,
              "#7201a8"
             ],
             [
              0.3333333333333333,
              "#9c179e"
             ],
             [
              0.4444444444444444,
              "#bd3786"
             ],
             [
              0.5555555555555556,
              "#d8576b"
             ],
             [
              0.6666666666666666,
              "#ed7953"
             ],
             [
              0.7777777777777778,
              "#fb9f3a"
             ],
             [
              0.8888888888888888,
              "#fdca26"
             ],
             [
              1,
              "#f0f921"
             ]
            ],
            "type": "histogram2dcontour"
           }
          ],
          "mesh3d": [
           {
            "colorbar": {
             "outlinewidth": 0,
             "ticks": ""
            },
            "type": "mesh3d"
           }
          ],
          "parcoords": [
           {
            "line": {
             "colorbar": {
              "outlinewidth": 0,
              "ticks": ""
             }
            },
            "type": "parcoords"
           }
          ],
          "pie": [
           {
            "automargin": true,
            "type": "pie"
           }
          ],
          "scatter": [
           {
            "marker": {
             "colorbar": {
              "outlinewidth": 0,
              "ticks": ""
             }
            },
            "type": "scatter"
           }
          ],
          "scatter3d": [
           {
            "line": {
             "colorbar": {
              "outlinewidth": 0,
              "ticks": ""
             }
            },
            "marker": {
             "colorbar": {
              "outlinewidth": 0,
              "ticks": ""
             }
            },
            "type": "scatter3d"
           }
          ],
          "scattercarpet": [
           {
            "marker": {
             "colorbar": {
              "outlinewidth": 0,
              "ticks": ""
             }
            },
            "type": "scattercarpet"
           }
          ],
          "scattergeo": [
           {
            "marker": {
             "colorbar": {
              "outlinewidth": 0,
              "ticks": ""
             }
            },
            "type": "scattergeo"
           }
          ],
          "scattergl": [
           {
            "marker": {
             "colorbar": {
              "outlinewidth": 0,
              "ticks": ""
             }
            },
            "type": "scattergl"
           }
          ],
          "scattermapbox": [
           {
            "marker": {
             "colorbar": {
              "outlinewidth": 0,
              "ticks": ""
             }
            },
            "type": "scattermapbox"
           }
          ],
          "scatterpolar": [
           {
            "marker": {
             "colorbar": {
              "outlinewidth": 0,
              "ticks": ""
             }
            },
            "type": "scatterpolar"
           }
          ],
          "scatterpolargl": [
           {
            "marker": {
             "colorbar": {
              "outlinewidth": 0,
              "ticks": ""
             }
            },
            "type": "scatterpolargl"
           }
          ],
          "scatterternary": [
           {
            "marker": {
             "colorbar": {
              "outlinewidth": 0,
              "ticks": ""
             }
            },
            "type": "scatterternary"
           }
          ],
          "surface": [
           {
            "colorbar": {
             "outlinewidth": 0,
             "ticks": ""
            },
            "colorscale": [
             [
              0,
              "#0d0887"
             ],
             [
              0.1111111111111111,
              "#46039f"
             ],
             [
              0.2222222222222222,
              "#7201a8"
             ],
             [
              0.3333333333333333,
              "#9c179e"
             ],
             [
              0.4444444444444444,
              "#bd3786"
             ],
             [
              0.5555555555555556,
              "#d8576b"
             ],
             [
              0.6666666666666666,
              "#ed7953"
             ],
             [
              0.7777777777777778,
              "#fb9f3a"
             ],
             [
              0.8888888888888888,
              "#fdca26"
             ],
             [
              1,
              "#f0f921"
             ]
            ],
            "type": "surface"
           }
          ],
          "table": [
           {
            "cells": {
             "fill": {
              "color": "#EBF0F8"
             },
             "line": {
              "color": "white"
             }
            },
            "header": {
             "fill": {
              "color": "#C8D4E3"
             },
             "line": {
              "color": "white"
             }
            },
            "type": "table"
           }
          ]
         },
         "layout": {
          "annotationdefaults": {
           "arrowcolor": "#2a3f5f",
           "arrowhead": 0,
           "arrowwidth": 1
          },
          "autotypenumbers": "strict",
          "coloraxis": {
           "colorbar": {
            "outlinewidth": 0,
            "ticks": ""
           }
          },
          "colorscale": {
           "diverging": [
            [
             0,
             "#8e0152"
            ],
            [
             0.1,
             "#c51b7d"
            ],
            [
             0.2,
             "#de77ae"
            ],
            [
             0.3,
             "#f1b6da"
            ],
            [
             0.4,
             "#fde0ef"
            ],
            [
             0.5,
             "#f7f7f7"
            ],
            [
             0.6,
             "#e6f5d0"
            ],
            [
             0.7,
             "#b8e186"
            ],
            [
             0.8,
             "#7fbc41"
            ],
            [
             0.9,
             "#4d9221"
            ],
            [
             1,
             "#276419"
            ]
           ],
           "sequential": [
            [
             0,
             "#0d0887"
            ],
            [
             0.1111111111111111,
             "#46039f"
            ],
            [
             0.2222222222222222,
             "#7201a8"
            ],
            [
             0.3333333333333333,
             "#9c179e"
            ],
            [
             0.4444444444444444,
             "#bd3786"
            ],
            [
             0.5555555555555556,
             "#d8576b"
            ],
            [
             0.6666666666666666,
             "#ed7953"
            ],
            [
             0.7777777777777778,
             "#fb9f3a"
            ],
            [
             0.8888888888888888,
             "#fdca26"
            ],
            [
             1,
             "#f0f921"
            ]
           ],
           "sequentialminus": [
            [
             0,
             "#0d0887"
            ],
            [
             0.1111111111111111,
             "#46039f"
            ],
            [
             0.2222222222222222,
             "#7201a8"
            ],
            [
             0.3333333333333333,
             "#9c179e"
            ],
            [
             0.4444444444444444,
             "#bd3786"
            ],
            [
             0.5555555555555556,
             "#d8576b"
            ],
            [
             0.6666666666666666,
             "#ed7953"
            ],
            [
             0.7777777777777778,
             "#fb9f3a"
            ],
            [
             0.8888888888888888,
             "#fdca26"
            ],
            [
             1,
             "#f0f921"
            ]
           ]
          },
          "colorway": [
           "#636efa",
           "#EF553B",
           "#00cc96",
           "#ab63fa",
           "#FFA15A",
           "#19d3f3",
           "#FF6692",
           "#B6E880",
           "#FF97FF",
           "#FECB52"
          ],
          "font": {
           "color": "#2a3f5f"
          },
          "geo": {
           "bgcolor": "white",
           "lakecolor": "white",
           "landcolor": "#E5ECF6",
           "showlakes": true,
           "showland": true,
           "subunitcolor": "white"
          },
          "hoverlabel": {
           "align": "left"
          },
          "hovermode": "closest",
          "mapbox": {
           "style": "light"
          },
          "paper_bgcolor": "white",
          "plot_bgcolor": "#E5ECF6",
          "polar": {
           "angularaxis": {
            "gridcolor": "white",
            "linecolor": "white",
            "ticks": ""
           },
           "bgcolor": "#E5ECF6",
           "radialaxis": {
            "gridcolor": "white",
            "linecolor": "white",
            "ticks": ""
           }
          },
          "scene": {
           "xaxis": {
            "backgroundcolor": "#E5ECF6",
            "gridcolor": "white",
            "gridwidth": 2,
            "linecolor": "white",
            "showbackground": true,
            "ticks": "",
            "zerolinecolor": "white"
           },
           "yaxis": {
            "backgroundcolor": "#E5ECF6",
            "gridcolor": "white",
            "gridwidth": 2,
            "linecolor": "white",
            "showbackground": true,
            "ticks": "",
            "zerolinecolor": "white"
           },
           "zaxis": {
            "backgroundcolor": "#E5ECF6",
            "gridcolor": "white",
            "gridwidth": 2,
            "linecolor": "white",
            "showbackground": true,
            "ticks": "",
            "zerolinecolor": "white"
           }
          },
          "shapedefaults": {
           "line": {
            "color": "#2a3f5f"
           }
          },
          "ternary": {
           "aaxis": {
            "gridcolor": "white",
            "linecolor": "white",
            "ticks": ""
           },
           "baxis": {
            "gridcolor": "white",
            "linecolor": "white",
            "ticks": ""
           },
           "bgcolor": "#E5ECF6",
           "caxis": {
            "gridcolor": "white",
            "linecolor": "white",
            "ticks": ""
           }
          },
          "title": {
           "x": 0.05
          },
          "xaxis": {
           "automargin": true,
           "gridcolor": "white",
           "linecolor": "white",
           "ticks": "",
           "title": {
            "standoff": 15
           },
           "zerolinecolor": "white",
           "zerolinewidth": 2
          },
          "yaxis": {
           "automargin": true,
           "gridcolor": "white",
           "linecolor": "white",
           "ticks": "",
           "title": {
            "standoff": 15
           },
           "zerolinecolor": "white",
           "zerolinewidth": 2
          }
         }
        },
        "title": {
         "text": "DAILY WATER CONSUPTION PATTERNS - Histogram"
        },
        "xaxis": {
         "anchor": "y",
         "domain": [
          0,
          1
         ],
         "title": {
          "text": "Hours"
         }
        },
        "yaxis": {
         "anchor": "x",
         "domain": [
          0,
          1
         ],
         "title": {
          "text": "sum of Flow"
         }
        }
       }
      }
     },
     "metadata": {},
     "output_type": "display_data"
    }
   ],
   "source": [
    "# Plotting \n",
    "fig = px.line(group, x = group.index.get_level_values(1), y = group['Flow'], \n",
    "              color = group.index.get_level_values(0),\n",
    "              title = 'DAILY WATER CONSUPTION PATTERNS - Line plot',\n",
    "              labels = {'Flow' : 'Sum of flows', 'x' : 'Hours', 'color' : 'Years'}\n",
    "             ) # Line plot\n",
    "\n",
    "fig1 = px.histogram(group1, \n",
    "                    x =  group1.index.get_level_values(0), \n",
    "                    y =  group1['Flow'], \n",
    "                    color = group1.index.get_level_values(1), \n",
    "                    nbins = 46,\n",
    "                    barmode = 'group',\n",
    "                    title = 'DAILY WATER CONSUPTION PATTERNS - Histogram',\n",
    "                    labels = {'x' : 'Hours', 'color' : 'Years'}\n",
    "                   ) # Hist\n",
    "\n",
    "fig.show()\n",
    "fig1.show()"
   ]
  },
  {
   "cell_type": "markdown",
   "id": "dbabb90e",
   "metadata": {},
   "source": [
    "**Non linear** daily trends for the water consumption.\n",
    "\n",
    "Water consumption peaks for smart worker between 14:00 and 16:00.\n",
    "\n",
    "The water consumption from workers to smart workers switch from early morning to afternoon hours (Since workers do showers, cook meals ... before going to work).\n",
    "\n",
    "Clearly **daily hours are useful features in order to understand weather the water consumption is related to workers or smart workers**."
   ]
  },
  {
   "cell_type": "markdown",
   "id": "9846c293",
   "metadata": {},
   "source": [
    "[Return to contents](#contents)"
   ]
  },
  {
   "cell_type": "markdown",
   "id": "a879881f",
   "metadata": {},
   "source": [
    "<a id = 'fix'></a>\n",
    "# Fixtures analysis"
   ]
  },
  {
   "cell_type": "code",
   "execution_count": 10,
   "id": "694da348",
   "metadata": {
    "scrolled": true
   },
   "outputs": [
    {
     "data": {
      "text/html": [
       "<th style=\"text-align:center\"><td style=\"vertical-align:top\"><h2>Fixture analysis - Overall</h2><table style=\"display:inline\" border=\"1\" class=\"dataframe\">\n",
       "  <thead>\n",
       "    <tr style=\"text-align: right;\">\n",
       "      <th></th>\n",
       "      <th></th>\n",
       "      <th>Flow</th>\n",
       "    </tr>\n",
       "    <tr>\n",
       "      <th>Fixture</th>\n",
       "      <th>Time</th>\n",
       "      <th></th>\n",
       "    </tr>\n",
       "  </thead>\n",
       "  <tbody>\n",
       "    <tr>\n",
       "      <th rowspan=\"2\" valign=\"top\">Bidet</th>\n",
       "      <th>2019</th>\n",
       "      <td>380416.0</td>\n",
       "    </tr>\n",
       "    <tr>\n",
       "      <th>2020</th>\n",
       "      <td>398617.0</td>\n",
       "    </tr>\n",
       "    <tr>\n",
       "      <th rowspan=\"2\" valign=\"top\">Kitchenfaucet</th>\n",
       "      <th>2019</th>\n",
       "      <td>802757.0</td>\n",
       "    </tr>\n",
       "    <tr>\n",
       "      <th>2020</th>\n",
       "      <td>1631032.0</td>\n",
       "    </tr>\n",
       "    <tr>\n",
       "      <th rowspan=\"2\" valign=\"top\">Shower</th>\n",
       "      <th>2019</th>\n",
       "      <td>1876084.0</td>\n",
       "    </tr>\n",
       "    <tr>\n",
       "      <th>2020</th>\n",
       "      <td>2820991.0</td>\n",
       "    </tr>\n",
       "    <tr>\n",
       "      <th rowspan=\"2\" valign=\"top\">Washbasin</th>\n",
       "      <th>2019</th>\n",
       "      <td>810182.0</td>\n",
       "    </tr>\n",
       "    <tr>\n",
       "      <th>2020</th>\n",
       "      <td>1046162.0</td>\n",
       "    </tr>\n",
       "  </tbody>\n",
       "</table style=\"display:inline\"></td></th><th style=\"text-align:center\"><td style=\"vertical-align:top\"><h2>Fixture analysis - Monthly</h2><table style=\"display:inline\" border=\"1\" class=\"dataframe\">\n",
       "  <thead>\n",
       "    <tr style=\"text-align: right;\">\n",
       "      <th></th>\n",
       "      <th></th>\n",
       "      <th>Flow</th>\n",
       "    </tr>\n",
       "    <tr>\n",
       "      <th>Fixture</th>\n",
       "      <th>Time</th>\n",
       "      <th></th>\n",
       "    </tr>\n",
       "  </thead>\n",
       "  <tbody>\n",
       "    <tr>\n",
       "      <th rowspan=\"6\" valign=\"top\">Bidet</th>\n",
       "      <th>2019/07</th>\n",
       "      <td>115663.0</td>\n",
       "    </tr>\n",
       "    <tr>\n",
       "      <th>2019/08</th>\n",
       "      <td>32354.0</td>\n",
       "    </tr>\n",
       "    <tr>\n",
       "      <th>2019/09</th>\n",
       "      <td>96779.0</td>\n",
       "    </tr>\n",
       "    <tr>\n",
       "      <th>2019/10</th>\n",
       "      <td>135620.0</td>\n",
       "    </tr>\n",
       "    <tr>\n",
       "      <th>2020/07</th>\n",
       "      <td>160868.0</td>\n",
       "    </tr>\n",
       "    <tr>\n",
       "      <th>2020/08</th>\n",
       "      <td>89251.0</td>\n",
       "    </tr>\n",
       "  </tbody>\n",
       "</table style=\"display:inline\"></td></th>"
      ]
     },
     "metadata": {},
     "output_type": "display_data"
    }
   ],
   "source": [
    "# Data manipulation\n",
    "group = df.groupby([df['Fixture'], df.index.strftime('%Y')]).sum()  \n",
    "group1 = df.groupby([df['Fixture'], df.index.strftime('%Y/%m')]).sum() \n",
    "\n",
    "display_side_by_side(group, group1.head(6), titles=['Fixture analysis - Overall', 'Fixture analysis - Monthly']) "
   ]
  },
  {
   "cell_type": "code",
   "execution_count": 11,
   "id": "595420a2",
   "metadata": {},
   "outputs": [
    {
     "data": {
      "application/vnd.plotly.v1+json": {
       "config": {
        "plotlyServerURL": "https://plot.ly"
       },
       "data": [
        {
         "alignmentgroup": "True",
         "bingroup": "x",
         "histfunc": "sum",
         "hovertemplate": "Fixtures=Bidet<br>Years=%{x}<br>sum of Flow=%{y}<extra></extra>",
         "legendgroup": "Bidet",
         "marker": {
          "color": "#636efa",
          "pattern": {
           "shape": ""
          }
         },
         "name": "Bidet",
         "offsetgroup": "Bidet",
         "orientation": "v",
         "showlegend": true,
         "type": "histogram",
         "x": [
          "2019",
          "2020"
         ],
         "xaxis": "x",
         "y": [
          380416,
          398617
         ],
         "yaxis": "y"
        },
        {
         "alignmentgroup": "True",
         "bingroup": "x",
         "histfunc": "sum",
         "hovertemplate": "Fixtures=Kitchenfaucet<br>Years=%{x}<br>sum of Flow=%{y}<extra></extra>",
         "legendgroup": "Kitchenfaucet",
         "marker": {
          "color": "#EF553B",
          "pattern": {
           "shape": ""
          }
         },
         "name": "Kitchenfaucet",
         "offsetgroup": "Kitchenfaucet",
         "orientation": "v",
         "showlegend": true,
         "type": "histogram",
         "x": [
          "2019",
          "2020"
         ],
         "xaxis": "x",
         "y": [
          802757,
          1631032
         ],
         "yaxis": "y"
        },
        {
         "alignmentgroup": "True",
         "bingroup": "x",
         "histfunc": "sum",
         "hovertemplate": "Fixtures=Shower<br>Years=%{x}<br>sum of Flow=%{y}<extra></extra>",
         "legendgroup": "Shower",
         "marker": {
          "color": "#00cc96",
          "pattern": {
           "shape": ""
          }
         },
         "name": "Shower",
         "offsetgroup": "Shower",
         "orientation": "v",
         "showlegend": true,
         "type": "histogram",
         "x": [
          "2019",
          "2020"
         ],
         "xaxis": "x",
         "y": [
          1876084,
          2820991
         ],
         "yaxis": "y"
        },
        {
         "alignmentgroup": "True",
         "bingroup": "x",
         "histfunc": "sum",
         "hovertemplate": "Fixtures=Washbasin<br>Years=%{x}<br>sum of Flow=%{y}<extra></extra>",
         "legendgroup": "Washbasin",
         "marker": {
          "color": "#ab63fa",
          "pattern": {
           "shape": ""
          }
         },
         "name": "Washbasin",
         "offsetgroup": "Washbasin",
         "orientation": "v",
         "showlegend": true,
         "type": "histogram",
         "x": [
          "2019",
          "2020"
         ],
         "xaxis": "x",
         "y": [
          810182,
          1046162
         ],
         "yaxis": "y"
        }
       ],
       "layout": {
        "barmode": "group",
        "legend": {
         "title": {
          "text": "Fixtures"
         },
         "tracegroupgap": 0
        },
        "template": {
         "data": {
          "bar": [
           {
            "error_x": {
             "color": "#2a3f5f"
            },
            "error_y": {
             "color": "#2a3f5f"
            },
            "marker": {
             "line": {
              "color": "#E5ECF6",
              "width": 0.5
             },
             "pattern": {
              "fillmode": "overlay",
              "size": 10,
              "solidity": 0.2
             }
            },
            "type": "bar"
           }
          ],
          "barpolar": [
           {
            "marker": {
             "line": {
              "color": "#E5ECF6",
              "width": 0.5
             },
             "pattern": {
              "fillmode": "overlay",
              "size": 10,
              "solidity": 0.2
             }
            },
            "type": "barpolar"
           }
          ],
          "carpet": [
           {
            "aaxis": {
             "endlinecolor": "#2a3f5f",
             "gridcolor": "white",
             "linecolor": "white",
             "minorgridcolor": "white",
             "startlinecolor": "#2a3f5f"
            },
            "baxis": {
             "endlinecolor": "#2a3f5f",
             "gridcolor": "white",
             "linecolor": "white",
             "minorgridcolor": "white",
             "startlinecolor": "#2a3f5f"
            },
            "type": "carpet"
           }
          ],
          "choropleth": [
           {
            "colorbar": {
             "outlinewidth": 0,
             "ticks": ""
            },
            "type": "choropleth"
           }
          ],
          "contour": [
           {
            "colorbar": {
             "outlinewidth": 0,
             "ticks": ""
            },
            "colorscale": [
             [
              0,
              "#0d0887"
             ],
             [
              0.1111111111111111,
              "#46039f"
             ],
             [
              0.2222222222222222,
              "#7201a8"
             ],
             [
              0.3333333333333333,
              "#9c179e"
             ],
             [
              0.4444444444444444,
              "#bd3786"
             ],
             [
              0.5555555555555556,
              "#d8576b"
             ],
             [
              0.6666666666666666,
              "#ed7953"
             ],
             [
              0.7777777777777778,
              "#fb9f3a"
             ],
             [
              0.8888888888888888,
              "#fdca26"
             ],
             [
              1,
              "#f0f921"
             ]
            ],
            "type": "contour"
           }
          ],
          "contourcarpet": [
           {
            "colorbar": {
             "outlinewidth": 0,
             "ticks": ""
            },
            "type": "contourcarpet"
           }
          ],
          "heatmap": [
           {
            "colorbar": {
             "outlinewidth": 0,
             "ticks": ""
            },
            "colorscale": [
             [
              0,
              "#0d0887"
             ],
             [
              0.1111111111111111,
              "#46039f"
             ],
             [
              0.2222222222222222,
              "#7201a8"
             ],
             [
              0.3333333333333333,
              "#9c179e"
             ],
             [
              0.4444444444444444,
              "#bd3786"
             ],
             [
              0.5555555555555556,
              "#d8576b"
             ],
             [
              0.6666666666666666,
              "#ed7953"
             ],
             [
              0.7777777777777778,
              "#fb9f3a"
             ],
             [
              0.8888888888888888,
              "#fdca26"
             ],
             [
              1,
              "#f0f921"
             ]
            ],
            "type": "heatmap"
           }
          ],
          "heatmapgl": [
           {
            "colorbar": {
             "outlinewidth": 0,
             "ticks": ""
            },
            "colorscale": [
             [
              0,
              "#0d0887"
             ],
             [
              0.1111111111111111,
              "#46039f"
             ],
             [
              0.2222222222222222,
              "#7201a8"
             ],
             [
              0.3333333333333333,
              "#9c179e"
             ],
             [
              0.4444444444444444,
              "#bd3786"
             ],
             [
              0.5555555555555556,
              "#d8576b"
             ],
             [
              0.6666666666666666,
              "#ed7953"
             ],
             [
              0.7777777777777778,
              "#fb9f3a"
             ],
             [
              0.8888888888888888,
              "#fdca26"
             ],
             [
              1,
              "#f0f921"
             ]
            ],
            "type": "heatmapgl"
           }
          ],
          "histogram": [
           {
            "marker": {
             "pattern": {
              "fillmode": "overlay",
              "size": 10,
              "solidity": 0.2
             }
            },
            "type": "histogram"
           }
          ],
          "histogram2d": [
           {
            "colorbar": {
             "outlinewidth": 0,
             "ticks": ""
            },
            "colorscale": [
             [
              0,
              "#0d0887"
             ],
             [
              0.1111111111111111,
              "#46039f"
             ],
             [
              0.2222222222222222,
              "#7201a8"
             ],
             [
              0.3333333333333333,
              "#9c179e"
             ],
             [
              0.4444444444444444,
              "#bd3786"
             ],
             [
              0.5555555555555556,
              "#d8576b"
             ],
             [
              0.6666666666666666,
              "#ed7953"
             ],
             [
              0.7777777777777778,
              "#fb9f3a"
             ],
             [
              0.8888888888888888,
              "#fdca26"
             ],
             [
              1,
              "#f0f921"
             ]
            ],
            "type": "histogram2d"
           }
          ],
          "histogram2dcontour": [
           {
            "colorbar": {
             "outlinewidth": 0,
             "ticks": ""
            },
            "colorscale": [
             [
              0,
              "#0d0887"
             ],
             [
              0.1111111111111111,
              "#46039f"
             ],
             [
              0.2222222222222222,
              "#7201a8"
             ],
             [
              0.3333333333333333,
              "#9c179e"
             ],
             [
              0.4444444444444444,
              "#bd3786"
             ],
             [
              0.5555555555555556,
              "#d8576b"
             ],
             [
              0.6666666666666666,
              "#ed7953"
             ],
             [
              0.7777777777777778,
              "#fb9f3a"
             ],
             [
              0.8888888888888888,
              "#fdca26"
             ],
             [
              1,
              "#f0f921"
             ]
            ],
            "type": "histogram2dcontour"
           }
          ],
          "mesh3d": [
           {
            "colorbar": {
             "outlinewidth": 0,
             "ticks": ""
            },
            "type": "mesh3d"
           }
          ],
          "parcoords": [
           {
            "line": {
             "colorbar": {
              "outlinewidth": 0,
              "ticks": ""
             }
            },
            "type": "parcoords"
           }
          ],
          "pie": [
           {
            "automargin": true,
            "type": "pie"
           }
          ],
          "scatter": [
           {
            "marker": {
             "colorbar": {
              "outlinewidth": 0,
              "ticks": ""
             }
            },
            "type": "scatter"
           }
          ],
          "scatter3d": [
           {
            "line": {
             "colorbar": {
              "outlinewidth": 0,
              "ticks": ""
             }
            },
            "marker": {
             "colorbar": {
              "outlinewidth": 0,
              "ticks": ""
             }
            },
            "type": "scatter3d"
           }
          ],
          "scattercarpet": [
           {
            "marker": {
             "colorbar": {
              "outlinewidth": 0,
              "ticks": ""
             }
            },
            "type": "scattercarpet"
           }
          ],
          "scattergeo": [
           {
            "marker": {
             "colorbar": {
              "outlinewidth": 0,
              "ticks": ""
             }
            },
            "type": "scattergeo"
           }
          ],
          "scattergl": [
           {
            "marker": {
             "colorbar": {
              "outlinewidth": 0,
              "ticks": ""
             }
            },
            "type": "scattergl"
           }
          ],
          "scattermapbox": [
           {
            "marker": {
             "colorbar": {
              "outlinewidth": 0,
              "ticks": ""
             }
            },
            "type": "scattermapbox"
           }
          ],
          "scatterpolar": [
           {
            "marker": {
             "colorbar": {
              "outlinewidth": 0,
              "ticks": ""
             }
            },
            "type": "scatterpolar"
           }
          ],
          "scatterpolargl": [
           {
            "marker": {
             "colorbar": {
              "outlinewidth": 0,
              "ticks": ""
             }
            },
            "type": "scatterpolargl"
           }
          ],
          "scatterternary": [
           {
            "marker": {
             "colorbar": {
              "outlinewidth": 0,
              "ticks": ""
             }
            },
            "type": "scatterternary"
           }
          ],
          "surface": [
           {
            "colorbar": {
             "outlinewidth": 0,
             "ticks": ""
            },
            "colorscale": [
             [
              0,
              "#0d0887"
             ],
             [
              0.1111111111111111,
              "#46039f"
             ],
             [
              0.2222222222222222,
              "#7201a8"
             ],
             [
              0.3333333333333333,
              "#9c179e"
             ],
             [
              0.4444444444444444,
              "#bd3786"
             ],
             [
              0.5555555555555556,
              "#d8576b"
             ],
             [
              0.6666666666666666,
              "#ed7953"
             ],
             [
              0.7777777777777778,
              "#fb9f3a"
             ],
             [
              0.8888888888888888,
              "#fdca26"
             ],
             [
              1,
              "#f0f921"
             ]
            ],
            "type": "surface"
           }
          ],
          "table": [
           {
            "cells": {
             "fill": {
              "color": "#EBF0F8"
             },
             "line": {
              "color": "white"
             }
            },
            "header": {
             "fill": {
              "color": "#C8D4E3"
             },
             "line": {
              "color": "white"
             }
            },
            "type": "table"
           }
          ]
         },
         "layout": {
          "annotationdefaults": {
           "arrowcolor": "#2a3f5f",
           "arrowhead": 0,
           "arrowwidth": 1
          },
          "autotypenumbers": "strict",
          "coloraxis": {
           "colorbar": {
            "outlinewidth": 0,
            "ticks": ""
           }
          },
          "colorscale": {
           "diverging": [
            [
             0,
             "#8e0152"
            ],
            [
             0.1,
             "#c51b7d"
            ],
            [
             0.2,
             "#de77ae"
            ],
            [
             0.3,
             "#f1b6da"
            ],
            [
             0.4,
             "#fde0ef"
            ],
            [
             0.5,
             "#f7f7f7"
            ],
            [
             0.6,
             "#e6f5d0"
            ],
            [
             0.7,
             "#b8e186"
            ],
            [
             0.8,
             "#7fbc41"
            ],
            [
             0.9,
             "#4d9221"
            ],
            [
             1,
             "#276419"
            ]
           ],
           "sequential": [
            [
             0,
             "#0d0887"
            ],
            [
             0.1111111111111111,
             "#46039f"
            ],
            [
             0.2222222222222222,
             "#7201a8"
            ],
            [
             0.3333333333333333,
             "#9c179e"
            ],
            [
             0.4444444444444444,
             "#bd3786"
            ],
            [
             0.5555555555555556,
             "#d8576b"
            ],
            [
             0.6666666666666666,
             "#ed7953"
            ],
            [
             0.7777777777777778,
             "#fb9f3a"
            ],
            [
             0.8888888888888888,
             "#fdca26"
            ],
            [
             1,
             "#f0f921"
            ]
           ],
           "sequentialminus": [
            [
             0,
             "#0d0887"
            ],
            [
             0.1111111111111111,
             "#46039f"
            ],
            [
             0.2222222222222222,
             "#7201a8"
            ],
            [
             0.3333333333333333,
             "#9c179e"
            ],
            [
             0.4444444444444444,
             "#bd3786"
            ],
            [
             0.5555555555555556,
             "#d8576b"
            ],
            [
             0.6666666666666666,
             "#ed7953"
            ],
            [
             0.7777777777777778,
             "#fb9f3a"
            ],
            [
             0.8888888888888888,
             "#fdca26"
            ],
            [
             1,
             "#f0f921"
            ]
           ]
          },
          "colorway": [
           "#636efa",
           "#EF553B",
           "#00cc96",
           "#ab63fa",
           "#FFA15A",
           "#19d3f3",
           "#FF6692",
           "#B6E880",
           "#FF97FF",
           "#FECB52"
          ],
          "font": {
           "color": "#2a3f5f"
          },
          "geo": {
           "bgcolor": "white",
           "lakecolor": "white",
           "landcolor": "#E5ECF6",
           "showlakes": true,
           "showland": true,
           "subunitcolor": "white"
          },
          "hoverlabel": {
           "align": "left"
          },
          "hovermode": "closest",
          "mapbox": {
           "style": "light"
          },
          "paper_bgcolor": "white",
          "plot_bgcolor": "#E5ECF6",
          "polar": {
           "angularaxis": {
            "gridcolor": "white",
            "linecolor": "white",
            "ticks": ""
           },
           "bgcolor": "#E5ECF6",
           "radialaxis": {
            "gridcolor": "white",
            "linecolor": "white",
            "ticks": ""
           }
          },
          "scene": {
           "xaxis": {
            "backgroundcolor": "#E5ECF6",
            "gridcolor": "white",
            "gridwidth": 2,
            "linecolor": "white",
            "showbackground": true,
            "ticks": "",
            "zerolinecolor": "white"
           },
           "yaxis": {
            "backgroundcolor": "#E5ECF6",
            "gridcolor": "white",
            "gridwidth": 2,
            "linecolor": "white",
            "showbackground": true,
            "ticks": "",
            "zerolinecolor": "white"
           },
           "zaxis": {
            "backgroundcolor": "#E5ECF6",
            "gridcolor": "white",
            "gridwidth": 2,
            "linecolor": "white",
            "showbackground": true,
            "ticks": "",
            "zerolinecolor": "white"
           }
          },
          "shapedefaults": {
           "line": {
            "color": "#2a3f5f"
           }
          },
          "ternary": {
           "aaxis": {
            "gridcolor": "white",
            "linecolor": "white",
            "ticks": ""
           },
           "baxis": {
            "gridcolor": "white",
            "linecolor": "white",
            "ticks": ""
           },
           "bgcolor": "#E5ECF6",
           "caxis": {
            "gridcolor": "white",
            "linecolor": "white",
            "ticks": ""
           }
          },
          "title": {
           "x": 0.05
          },
          "xaxis": {
           "automargin": true,
           "gridcolor": "white",
           "linecolor": "white",
           "ticks": "",
           "title": {
            "standoff": 15
           },
           "zerolinecolor": "white",
           "zerolinewidth": 2
          },
          "yaxis": {
           "automargin": true,
           "gridcolor": "white",
           "linecolor": "white",
           "ticks": "",
           "title": {
            "standoff": 15
           },
           "zerolinecolor": "white",
           "zerolinewidth": 2
          }
         }
        },
        "title": {
         "text": "FIXTURES ANALYSIS - Overall"
        },
        "xaxis": {
         "anchor": "y",
         "domain": [
          0,
          1
         ],
         "title": {
          "text": "Years"
         }
        },
        "yaxis": {
         "anchor": "x",
         "domain": [
          0,
          1
         ],
         "title": {
          "text": "sum of Flow"
         }
        }
       }
      }
     },
     "metadata": {},
     "output_type": "display_data"
    },
    {
     "data": {
      "application/vnd.plotly.v1+json": {
       "config": {
        "plotlyServerURL": "https://plot.ly"
       },
       "data": [
        {
         "alignmentgroup": "True",
         "bingroup": "x",
         "histfunc": "sum",
         "hovertemplate": "Fixtures=Bidet<br>Years/Months=%{x}<br>sum of Flow=%{y}<extra></extra>",
         "legendgroup": "Bidet",
         "marker": {
          "color": "#636efa",
          "pattern": {
           "shape": ""
          }
         },
         "name": "Bidet",
         "offsetgroup": "Bidet",
         "orientation": "v",
         "showlegend": true,
         "type": "histogram",
         "x": [
          "2019/07",
          "2019/08",
          "2019/09",
          "2019/10",
          "2020/07",
          "2020/08",
          "2020/09",
          "2020/10"
         ],
         "xaxis": "x",
         "y": [
          115663,
          32354,
          96779,
          135620,
          160868,
          89251,
          98233,
          50265
         ],
         "yaxis": "y"
        },
        {
         "alignmentgroup": "True",
         "bingroup": "x",
         "histfunc": "sum",
         "hovertemplate": "Fixtures=Kitchenfaucet<br>Years/Months=%{x}<br>sum of Flow=%{y}<extra></extra>",
         "legendgroup": "Kitchenfaucet",
         "marker": {
          "color": "#EF553B",
          "pattern": {
           "shape": ""
          }
         },
         "name": "Kitchenfaucet",
         "offsetgroup": "Kitchenfaucet",
         "orientation": "v",
         "showlegend": true,
         "type": "histogram",
         "x": [
          "2019/07",
          "2019/08",
          "2019/09",
          "2019/10",
          "2020/07",
          "2020/08",
          "2020/09",
          "2020/10"
         ],
         "xaxis": "x",
         "y": [
          216510,
          138038,
          187113,
          261096,
          438041,
          436947,
          501328,
          254716
         ],
         "yaxis": "y"
        },
        {
         "alignmentgroup": "True",
         "bingroup": "x",
         "histfunc": "sum",
         "hovertemplate": "Fixtures=Shower<br>Years/Months=%{x}<br>sum of Flow=%{y}<extra></extra>",
         "legendgroup": "Shower",
         "marker": {
          "color": "#00cc96",
          "pattern": {
           "shape": ""
          }
         },
         "name": "Shower",
         "offsetgroup": "Shower",
         "orientation": "v",
         "showlegend": true,
         "type": "histogram",
         "x": [
          "2019/07",
          "2019/08",
          "2019/09",
          "2019/10",
          "2020/07",
          "2020/08",
          "2020/09",
          "2020/10"
         ],
         "xaxis": "x",
         "y": [
          517599,
          199621,
          461125,
          697739,
          552103,
          629717,
          946898,
          692273
         ],
         "yaxis": "y"
        },
        {
         "alignmentgroup": "True",
         "bingroup": "x",
         "histfunc": "sum",
         "hovertemplate": "Fixtures=Washbasin<br>Years/Months=%{x}<br>sum of Flow=%{y}<extra></extra>",
         "legendgroup": "Washbasin",
         "marker": {
          "color": "#ab63fa",
          "pattern": {
           "shape": ""
          }
         },
         "name": "Washbasin",
         "offsetgroup": "Washbasin",
         "orientation": "v",
         "showlegend": true,
         "type": "histogram",
         "x": [
          "2019/07",
          "2019/08",
          "2019/09",
          "2019/10",
          "2020/07",
          "2020/08",
          "2020/09",
          "2020/10"
         ],
         "xaxis": "x",
         "y": [
          190805,
          88089,
          214538,
          316750,
          432080,
          209454,
          250911,
          153717
         ],
         "yaxis": "y"
        }
       ],
       "layout": {
        "barmode": "group",
        "legend": {
         "title": {
          "text": "Fixtures"
         },
         "tracegroupgap": 0
        },
        "template": {
         "data": {
          "bar": [
           {
            "error_x": {
             "color": "#2a3f5f"
            },
            "error_y": {
             "color": "#2a3f5f"
            },
            "marker": {
             "line": {
              "color": "#E5ECF6",
              "width": 0.5
             },
             "pattern": {
              "fillmode": "overlay",
              "size": 10,
              "solidity": 0.2
             }
            },
            "type": "bar"
           }
          ],
          "barpolar": [
           {
            "marker": {
             "line": {
              "color": "#E5ECF6",
              "width": 0.5
             },
             "pattern": {
              "fillmode": "overlay",
              "size": 10,
              "solidity": 0.2
             }
            },
            "type": "barpolar"
           }
          ],
          "carpet": [
           {
            "aaxis": {
             "endlinecolor": "#2a3f5f",
             "gridcolor": "white",
             "linecolor": "white",
             "minorgridcolor": "white",
             "startlinecolor": "#2a3f5f"
            },
            "baxis": {
             "endlinecolor": "#2a3f5f",
             "gridcolor": "white",
             "linecolor": "white",
             "minorgridcolor": "white",
             "startlinecolor": "#2a3f5f"
            },
            "type": "carpet"
           }
          ],
          "choropleth": [
           {
            "colorbar": {
             "outlinewidth": 0,
             "ticks": ""
            },
            "type": "choropleth"
           }
          ],
          "contour": [
           {
            "colorbar": {
             "outlinewidth": 0,
             "ticks": ""
            },
            "colorscale": [
             [
              0,
              "#0d0887"
             ],
             [
              0.1111111111111111,
              "#46039f"
             ],
             [
              0.2222222222222222,
              "#7201a8"
             ],
             [
              0.3333333333333333,
              "#9c179e"
             ],
             [
              0.4444444444444444,
              "#bd3786"
             ],
             [
              0.5555555555555556,
              "#d8576b"
             ],
             [
              0.6666666666666666,
              "#ed7953"
             ],
             [
              0.7777777777777778,
              "#fb9f3a"
             ],
             [
              0.8888888888888888,
              "#fdca26"
             ],
             [
              1,
              "#f0f921"
             ]
            ],
            "type": "contour"
           }
          ],
          "contourcarpet": [
           {
            "colorbar": {
             "outlinewidth": 0,
             "ticks": ""
            },
            "type": "contourcarpet"
           }
          ],
          "heatmap": [
           {
            "colorbar": {
             "outlinewidth": 0,
             "ticks": ""
            },
            "colorscale": [
             [
              0,
              "#0d0887"
             ],
             [
              0.1111111111111111,
              "#46039f"
             ],
             [
              0.2222222222222222,
              "#7201a8"
             ],
             [
              0.3333333333333333,
              "#9c179e"
             ],
             [
              0.4444444444444444,
              "#bd3786"
             ],
             [
              0.5555555555555556,
              "#d8576b"
             ],
             [
              0.6666666666666666,
              "#ed7953"
             ],
             [
              0.7777777777777778,
              "#fb9f3a"
             ],
             [
              0.8888888888888888,
              "#fdca26"
             ],
             [
              1,
              "#f0f921"
             ]
            ],
            "type": "heatmap"
           }
          ],
          "heatmapgl": [
           {
            "colorbar": {
             "outlinewidth": 0,
             "ticks": ""
            },
            "colorscale": [
             [
              0,
              "#0d0887"
             ],
             [
              0.1111111111111111,
              "#46039f"
             ],
             [
              0.2222222222222222,
              "#7201a8"
             ],
             [
              0.3333333333333333,
              "#9c179e"
             ],
             [
              0.4444444444444444,
              "#bd3786"
             ],
             [
              0.5555555555555556,
              "#d8576b"
             ],
             [
              0.6666666666666666,
              "#ed7953"
             ],
             [
              0.7777777777777778,
              "#fb9f3a"
             ],
             [
              0.8888888888888888,
              "#fdca26"
             ],
             [
              1,
              "#f0f921"
             ]
            ],
            "type": "heatmapgl"
           }
          ],
          "histogram": [
           {
            "marker": {
             "pattern": {
              "fillmode": "overlay",
              "size": 10,
              "solidity": 0.2
             }
            },
            "type": "histogram"
           }
          ],
          "histogram2d": [
           {
            "colorbar": {
             "outlinewidth": 0,
             "ticks": ""
            },
            "colorscale": [
             [
              0,
              "#0d0887"
             ],
             [
              0.1111111111111111,
              "#46039f"
             ],
             [
              0.2222222222222222,
              "#7201a8"
             ],
             [
              0.3333333333333333,
              "#9c179e"
             ],
             [
              0.4444444444444444,
              "#bd3786"
             ],
             [
              0.5555555555555556,
              "#d8576b"
             ],
             [
              0.6666666666666666,
              "#ed7953"
             ],
             [
              0.7777777777777778,
              "#fb9f3a"
             ],
             [
              0.8888888888888888,
              "#fdca26"
             ],
             [
              1,
              "#f0f921"
             ]
            ],
            "type": "histogram2d"
           }
          ],
          "histogram2dcontour": [
           {
            "colorbar": {
             "outlinewidth": 0,
             "ticks": ""
            },
            "colorscale": [
             [
              0,
              "#0d0887"
             ],
             [
              0.1111111111111111,
              "#46039f"
             ],
             [
              0.2222222222222222,
              "#7201a8"
             ],
             [
              0.3333333333333333,
              "#9c179e"
             ],
             [
              0.4444444444444444,
              "#bd3786"
             ],
             [
              0.5555555555555556,
              "#d8576b"
             ],
             [
              0.6666666666666666,
              "#ed7953"
             ],
             [
              0.7777777777777778,
              "#fb9f3a"
             ],
             [
              0.8888888888888888,
              "#fdca26"
             ],
             [
              1,
              "#f0f921"
             ]
            ],
            "type": "histogram2dcontour"
           }
          ],
          "mesh3d": [
           {
            "colorbar": {
             "outlinewidth": 0,
             "ticks": ""
            },
            "type": "mesh3d"
           }
          ],
          "parcoords": [
           {
            "line": {
             "colorbar": {
              "outlinewidth": 0,
              "ticks": ""
             }
            },
            "type": "parcoords"
           }
          ],
          "pie": [
           {
            "automargin": true,
            "type": "pie"
           }
          ],
          "scatter": [
           {
            "marker": {
             "colorbar": {
              "outlinewidth": 0,
              "ticks": ""
             }
            },
            "type": "scatter"
           }
          ],
          "scatter3d": [
           {
            "line": {
             "colorbar": {
              "outlinewidth": 0,
              "ticks": ""
             }
            },
            "marker": {
             "colorbar": {
              "outlinewidth": 0,
              "ticks": ""
             }
            },
            "type": "scatter3d"
           }
          ],
          "scattercarpet": [
           {
            "marker": {
             "colorbar": {
              "outlinewidth": 0,
              "ticks": ""
             }
            },
            "type": "scattercarpet"
           }
          ],
          "scattergeo": [
           {
            "marker": {
             "colorbar": {
              "outlinewidth": 0,
              "ticks": ""
             }
            },
            "type": "scattergeo"
           }
          ],
          "scattergl": [
           {
            "marker": {
             "colorbar": {
              "outlinewidth": 0,
              "ticks": ""
             }
            },
            "type": "scattergl"
           }
          ],
          "scattermapbox": [
           {
            "marker": {
             "colorbar": {
              "outlinewidth": 0,
              "ticks": ""
             }
            },
            "type": "scattermapbox"
           }
          ],
          "scatterpolar": [
           {
            "marker": {
             "colorbar": {
              "outlinewidth": 0,
              "ticks": ""
             }
            },
            "type": "scatterpolar"
           }
          ],
          "scatterpolargl": [
           {
            "marker": {
             "colorbar": {
              "outlinewidth": 0,
              "ticks": ""
             }
            },
            "type": "scatterpolargl"
           }
          ],
          "scatterternary": [
           {
            "marker": {
             "colorbar": {
              "outlinewidth": 0,
              "ticks": ""
             }
            },
            "type": "scatterternary"
           }
          ],
          "surface": [
           {
            "colorbar": {
             "outlinewidth": 0,
             "ticks": ""
            },
            "colorscale": [
             [
              0,
              "#0d0887"
             ],
             [
              0.1111111111111111,
              "#46039f"
             ],
             [
              0.2222222222222222,
              "#7201a8"
             ],
             [
              0.3333333333333333,
              "#9c179e"
             ],
             [
              0.4444444444444444,
              "#bd3786"
             ],
             [
              0.5555555555555556,
              "#d8576b"
             ],
             [
              0.6666666666666666,
              "#ed7953"
             ],
             [
              0.7777777777777778,
              "#fb9f3a"
             ],
             [
              0.8888888888888888,
              "#fdca26"
             ],
             [
              1,
              "#f0f921"
             ]
            ],
            "type": "surface"
           }
          ],
          "table": [
           {
            "cells": {
             "fill": {
              "color": "#EBF0F8"
             },
             "line": {
              "color": "white"
             }
            },
            "header": {
             "fill": {
              "color": "#C8D4E3"
             },
             "line": {
              "color": "white"
             }
            },
            "type": "table"
           }
          ]
         },
         "layout": {
          "annotationdefaults": {
           "arrowcolor": "#2a3f5f",
           "arrowhead": 0,
           "arrowwidth": 1
          },
          "autotypenumbers": "strict",
          "coloraxis": {
           "colorbar": {
            "outlinewidth": 0,
            "ticks": ""
           }
          },
          "colorscale": {
           "diverging": [
            [
             0,
             "#8e0152"
            ],
            [
             0.1,
             "#c51b7d"
            ],
            [
             0.2,
             "#de77ae"
            ],
            [
             0.3,
             "#f1b6da"
            ],
            [
             0.4,
             "#fde0ef"
            ],
            [
             0.5,
             "#f7f7f7"
            ],
            [
             0.6,
             "#e6f5d0"
            ],
            [
             0.7,
             "#b8e186"
            ],
            [
             0.8,
             "#7fbc41"
            ],
            [
             0.9,
             "#4d9221"
            ],
            [
             1,
             "#276419"
            ]
           ],
           "sequential": [
            [
             0,
             "#0d0887"
            ],
            [
             0.1111111111111111,
             "#46039f"
            ],
            [
             0.2222222222222222,
             "#7201a8"
            ],
            [
             0.3333333333333333,
             "#9c179e"
            ],
            [
             0.4444444444444444,
             "#bd3786"
            ],
            [
             0.5555555555555556,
             "#d8576b"
            ],
            [
             0.6666666666666666,
             "#ed7953"
            ],
            [
             0.7777777777777778,
             "#fb9f3a"
            ],
            [
             0.8888888888888888,
             "#fdca26"
            ],
            [
             1,
             "#f0f921"
            ]
           ],
           "sequentialminus": [
            [
             0,
             "#0d0887"
            ],
            [
             0.1111111111111111,
             "#46039f"
            ],
            [
             0.2222222222222222,
             "#7201a8"
            ],
            [
             0.3333333333333333,
             "#9c179e"
            ],
            [
             0.4444444444444444,
             "#bd3786"
            ],
            [
             0.5555555555555556,
             "#d8576b"
            ],
            [
             0.6666666666666666,
             "#ed7953"
            ],
            [
             0.7777777777777778,
             "#fb9f3a"
            ],
            [
             0.8888888888888888,
             "#fdca26"
            ],
            [
             1,
             "#f0f921"
            ]
           ]
          },
          "colorway": [
           "#636efa",
           "#EF553B",
           "#00cc96",
           "#ab63fa",
           "#FFA15A",
           "#19d3f3",
           "#FF6692",
           "#B6E880",
           "#FF97FF",
           "#FECB52"
          ],
          "font": {
           "color": "#2a3f5f"
          },
          "geo": {
           "bgcolor": "white",
           "lakecolor": "white",
           "landcolor": "#E5ECF6",
           "showlakes": true,
           "showland": true,
           "subunitcolor": "white"
          },
          "hoverlabel": {
           "align": "left"
          },
          "hovermode": "closest",
          "mapbox": {
           "style": "light"
          },
          "paper_bgcolor": "white",
          "plot_bgcolor": "#E5ECF6",
          "polar": {
           "angularaxis": {
            "gridcolor": "white",
            "linecolor": "white",
            "ticks": ""
           },
           "bgcolor": "#E5ECF6",
           "radialaxis": {
            "gridcolor": "white",
            "linecolor": "white",
            "ticks": ""
           }
          },
          "scene": {
           "xaxis": {
            "backgroundcolor": "#E5ECF6",
            "gridcolor": "white",
            "gridwidth": 2,
            "linecolor": "white",
            "showbackground": true,
            "ticks": "",
            "zerolinecolor": "white"
           },
           "yaxis": {
            "backgroundcolor": "#E5ECF6",
            "gridcolor": "white",
            "gridwidth": 2,
            "linecolor": "white",
            "showbackground": true,
            "ticks": "",
            "zerolinecolor": "white"
           },
           "zaxis": {
            "backgroundcolor": "#E5ECF6",
            "gridcolor": "white",
            "gridwidth": 2,
            "linecolor": "white",
            "showbackground": true,
            "ticks": "",
            "zerolinecolor": "white"
           }
          },
          "shapedefaults": {
           "line": {
            "color": "#2a3f5f"
           }
          },
          "ternary": {
           "aaxis": {
            "gridcolor": "white",
            "linecolor": "white",
            "ticks": ""
           },
           "baxis": {
            "gridcolor": "white",
            "linecolor": "white",
            "ticks": ""
           },
           "bgcolor": "#E5ECF6",
           "caxis": {
            "gridcolor": "white",
            "linecolor": "white",
            "ticks": ""
           }
          },
          "title": {
           "x": 0.05
          },
          "xaxis": {
           "automargin": true,
           "gridcolor": "white",
           "linecolor": "white",
           "ticks": "",
           "title": {
            "standoff": 15
           },
           "zerolinecolor": "white",
           "zerolinewidth": 2
          },
          "yaxis": {
           "automargin": true,
           "gridcolor": "white",
           "linecolor": "white",
           "ticks": "",
           "title": {
            "standoff": 15
           },
           "zerolinecolor": "white",
           "zerolinewidth": 2
          }
         }
        },
        "title": {
         "text": "FIXTURES ANALYSIS - Monthly"
        },
        "xaxis": {
         "anchor": "y",
         "domain": [
          0,
          1
         ],
         "title": {
          "text": "Years/Months"
         }
        },
        "yaxis": {
         "anchor": "x",
         "domain": [
          0,
          1
         ],
         "title": {
          "text": "sum of Flow"
         }
        }
       }
      }
     },
     "metadata": {},
     "output_type": "display_data"
    }
   ],
   "source": [
    "# Plotting \n",
    "fig = px.histogram(group, \n",
    "                    x =  group.index.get_level_values(1), \n",
    "                    y =  group['Flow'], \n",
    "                    color = group.index.get_level_values(0), \n",
    "                    barmode = 'group',\n",
    "                    title = 'FIXTURES ANALYSIS - Overall',\n",
    "                    labels = {'x' : 'Years', 'color' : 'Fixtures'}\n",
    "                   ) \n",
    "\n",
    "fig1 = px.histogram(group1, \n",
    "                    x =  group1.index.get_level_values(1), \n",
    "                    y =  group1['Flow'], \n",
    "                    color = group1.index.get_level_values(0), \n",
    "                    barmode = 'group',\n",
    "                    title = 'FIXTURES ANALYSIS - Monthly',\n",
    "                    labels = {'x' : 'Years/Months', 'color' : 'Fixtures'}\n",
    "                   ) \n",
    "\n",
    "fig.show()\n",
    "fig1.show()"
   ]
  },
  {
   "cell_type": "markdown",
   "id": "6616f437",
   "metadata": {},
   "source": [
    "**Bidet** shows no evident differencies among Pre and intra pandemic.\n",
    "\n",
    "**Kitchenfaucet** water consumptions, from worker to smart worker, significally increases(smart worker cooks their meals at home).\n",
    "\n",
    "**Shower** water consumptions, from worker to smart worker, increases. Notice the peak in intra-Pandemic August(2020/08), the summer heat leads smartworker to take frequent showers at home. Vicersa, workers during August(2019/08), probably go on holiday thus the shower water consumptions drastically decreases.\n",
    "\n",
    "**Washbasin** water consumptions, from worker to smart worker, increases (cleaning hands before meals, fill water bottles, ...).\n",
    "\n",
    "Overall **Fixtures are useful features in order to understand weather the water consumption is related to workers or smart workers**."
   ]
  },
  {
   "cell_type": "markdown",
   "id": "c8502af4",
   "metadata": {},
   "source": [
    "[Return to contents](#contents)"
   ]
  },
  {
   "cell_type": "markdown",
   "id": "baedf5d1",
   "metadata": {},
   "source": [
    "<a id = 'class'></a>\n",
    "# A supervised learning problem\n",
    "\n",
    "Supervised learning algorithms are employed when the **training data has output variables corresponding to the input variables.**\n",
    "\n",
    "The algorithm analyses the input data and learns a function to map the relationship between the input and output variables.\n",
    "\n",
    "Supervised learning can be classified mainly into regression and **classification**.\n",
    "\n",
    "Suppose that a company is interested to discover if its employees was on smart or normal working in the past days.\n",
    "\n",
    "Throught our water consumption `dataframe` we can train a supervised classification model to solve the task.\n",
    "\n",
    "Since our training data have categorical output variables _(Years: 2019 worker, 2020 smart worker)_ corresponding to the input variables, this is clearly a **supervised learning problem** of **classification**."
   ]
  },
  {
   "cell_type": "markdown",
   "id": "790bdc5d",
   "metadata": {},
   "source": [
    "<a id = 'pre'></a>\n",
    "# Preprocessing "
   ]
  },
  {
   "cell_type": "markdown",
   "id": "746b198d",
   "metadata": {},
   "source": [
    "<a id = 'new'></a>\n",
    "## New working dataframe "
   ]
  },
  {
   "cell_type": "code",
   "execution_count": 12,
   "id": "1f67d5c3",
   "metadata": {},
   "outputs": [
    {
     "data": {
      "text/html": [
       "<div>\n",
       "<style scoped>\n",
       "    .dataframe tbody tr th:only-of-type {\n",
       "        vertical-align: middle;\n",
       "    }\n",
       "\n",
       "    .dataframe tbody tr th {\n",
       "        vertical-align: top;\n",
       "    }\n",
       "\n",
       "    .dataframe thead th {\n",
       "        text-align: right;\n",
       "    }\n",
       "</style>\n",
       "<table border=\"1\" class=\"dataframe\">\n",
       "  <thead>\n",
       "    <tr style=\"text-align: right;\">\n",
       "      <th></th>\n",
       "      <th>Month</th>\n",
       "      <th>Day</th>\n",
       "      <th>Fixture</th>\n",
       "      <th>Worker</th>\n",
       "      <th>Flow</th>\n",
       "    </tr>\n",
       "  </thead>\n",
       "  <tbody>\n",
       "    <tr>\n",
       "      <th>0</th>\n",
       "      <td>August</td>\n",
       "      <td>Friday</td>\n",
       "      <td>Bidet</td>\n",
       "      <td>0</td>\n",
       "      <td>7411.0</td>\n",
       "    </tr>\n",
       "    <tr>\n",
       "      <th>1</th>\n",
       "      <td>August</td>\n",
       "      <td>Friday</td>\n",
       "      <td>Bidet</td>\n",
       "      <td>1</td>\n",
       "      <td>10327.0</td>\n",
       "    </tr>\n",
       "    <tr>\n",
       "      <th>2</th>\n",
       "      <td>August</td>\n",
       "      <td>Friday</td>\n",
       "      <td>Kitchenfaucet</td>\n",
       "      <td>0</td>\n",
       "      <td>24179.0</td>\n",
       "    </tr>\n",
       "    <tr>\n",
       "      <th>3</th>\n",
       "      <td>August</td>\n",
       "      <td>Friday</td>\n",
       "      <td>Kitchenfaucet</td>\n",
       "      <td>1</td>\n",
       "      <td>65748.0</td>\n",
       "    </tr>\n",
       "    <tr>\n",
       "      <th>4</th>\n",
       "      <td>August</td>\n",
       "      <td>Friday</td>\n",
       "      <td>Shower</td>\n",
       "      <td>0</td>\n",
       "      <td>44753.0</td>\n",
       "    </tr>\n",
       "    <tr>\n",
       "      <th>...</th>\n",
       "      <td>...</td>\n",
       "      <td>...</td>\n",
       "      <td>...</td>\n",
       "      <td>...</td>\n",
       "      <td>...</td>\n",
       "    </tr>\n",
       "    <tr>\n",
       "      <th>219</th>\n",
       "      <td>September</td>\n",
       "      <td>Wednesday</td>\n",
       "      <td>Kitchenfaucet</td>\n",
       "      <td>1</td>\n",
       "      <td>46128.0</td>\n",
       "    </tr>\n",
       "    <tr>\n",
       "      <th>220</th>\n",
       "      <td>September</td>\n",
       "      <td>Wednesday</td>\n",
       "      <td>Shower</td>\n",
       "      <td>0</td>\n",
       "      <td>74448.0</td>\n",
       "    </tr>\n",
       "    <tr>\n",
       "      <th>221</th>\n",
       "      <td>September</td>\n",
       "      <td>Wednesday</td>\n",
       "      <td>Shower</td>\n",
       "      <td>1</td>\n",
       "      <td>197153.0</td>\n",
       "    </tr>\n",
       "    <tr>\n",
       "      <th>222</th>\n",
       "      <td>September</td>\n",
       "      <td>Wednesday</td>\n",
       "      <td>Washbasin</td>\n",
       "      <td>0</td>\n",
       "      <td>29646.0</td>\n",
       "    </tr>\n",
       "    <tr>\n",
       "      <th>223</th>\n",
       "      <td>September</td>\n",
       "      <td>Wednesday</td>\n",
       "      <td>Washbasin</td>\n",
       "      <td>1</td>\n",
       "      <td>46405.0</td>\n",
       "    </tr>\n",
       "  </tbody>\n",
       "</table>\n",
       "<p>224 rows × 5 columns</p>\n",
       "</div>"
      ],
      "text/plain": [
       "         Month        Day        Fixture  Worker      Flow\n",
       "0       August     Friday          Bidet       0    7411.0\n",
       "1       August     Friday          Bidet       1   10327.0\n",
       "2       August     Friday  Kitchenfaucet       0   24179.0\n",
       "3       August     Friday  Kitchenfaucet       1   65748.0\n",
       "4       August     Friday         Shower       0   44753.0\n",
       "..         ...        ...            ...     ...       ...\n",
       "219  September  Wednesday  Kitchenfaucet       1   46128.0\n",
       "220  September  Wednesday         Shower       0   74448.0\n",
       "221  September  Wednesday         Shower       1  197153.0\n",
       "222  September  Wednesday      Washbasin       0   29646.0\n",
       "223  September  Wednesday      Washbasin       1   46405.0\n",
       "\n",
       "[224 rows x 5 columns]"
      ]
     },
     "execution_count": 12,
     "metadata": {},
     "output_type": "execute_result"
    }
   ],
   "source": [
    "df_super = df.copy()\n",
    "df_super['Month'] = df_super.index.strftime(\"%B\") # .strftime(\"%B\"): Extract from a datetime the months as strings\n",
    "df_super['Day'] = df_super.index.strftime(\"%A\") # .strftime(\"%A\"): Extract from a datetime the days as strings\n",
    "df_super['Worker'] = np.where(df_super.index.year == 2020, 1, 0)\n",
    "df_super.reset_index(drop = True, inplace = True) # inplace datetime index \n",
    "df_super = df_super.groupby([df_super['Month'], df_super['Day'], df_super['Fixture'], df_super['Worker']], as_index = False).sum()\n",
    "df_super"
   ]
  },
  {
   "cell_type": "markdown",
   "id": "81d1c994",
   "metadata": {},
   "source": [
    "To predict by daily water measurement the workers behaviour I consider as predictors ( **X** `input variables`):\n",
    "\n",
    "- **Flow**: daily sum of flows.\n",
    "\n",
    "\n",
    "- **Month** of the correspondent **Flow**.\n",
    "\n",
    "\n",
    "- **Fixture** of the correspondent **Flow**.\n",
    "\n",
    "\n",
    "By looking exploratory plots, I don't consider **Day** since those aren't meaningful for determine smart or normal workers (will reduce model **accuracy**/ dropped in **pipeline**).\n",
    "\n",
    "**Day** used only in `groupby` for generate daily sum of flows.\n",
    "\n",
    "**Worker** will be our **Y** `output variables`:\n",
    "\n",
    "\n",
    "- **0** normal workers.\n",
    "\n",
    "\n",
    "- **1** smart workers.\n",
    "\n",
    "In classification field we need to **bin** continuos variables(Flow)."
   ]
  },
  {
   "cell_type": "code",
   "execution_count": 13,
   "id": "ae6e351e",
   "metadata": {},
   "outputs": [
    {
     "data": {
      "text/html": [
       "<div>\n",
       "<style scoped>\n",
       "    .dataframe tbody tr th:only-of-type {\n",
       "        vertical-align: middle;\n",
       "    }\n",
       "\n",
       "    .dataframe tbody tr th {\n",
       "        vertical-align: top;\n",
       "    }\n",
       "\n",
       "    .dataframe thead th {\n",
       "        text-align: right;\n",
       "    }\n",
       "</style>\n",
       "<table border=\"1\" class=\"dataframe\">\n",
       "  <thead>\n",
       "    <tr style=\"text-align: right;\">\n",
       "      <th></th>\n",
       "      <th>Month</th>\n",
       "      <th>Day</th>\n",
       "      <th>Fixture</th>\n",
       "      <th>Worker</th>\n",
       "      <th>Flow</th>\n",
       "    </tr>\n",
       "  </thead>\n",
       "  <tbody>\n",
       "    <tr>\n",
       "      <th>0</th>\n",
       "      <td>August</td>\n",
       "      <td>Friday</td>\n",
       "      <td>Bidet</td>\n",
       "      <td>0</td>\n",
       "      <td>(66.999, 8348.4]</td>\n",
       "    </tr>\n",
       "    <tr>\n",
       "      <th>1</th>\n",
       "      <td>August</td>\n",
       "      <td>Friday</td>\n",
       "      <td>Bidet</td>\n",
       "      <td>1</td>\n",
       "      <td>(8348.4, 13440.2]</td>\n",
       "    </tr>\n",
       "    <tr>\n",
       "      <th>2</th>\n",
       "      <td>August</td>\n",
       "      <td>Friday</td>\n",
       "      <td>Kitchenfaucet</td>\n",
       "      <td>0</td>\n",
       "      <td>(18289.4, 24180.2]</td>\n",
       "    </tr>\n",
       "    <tr>\n",
       "      <th>3</th>\n",
       "      <td>August</td>\n",
       "      <td>Friday</td>\n",
       "      <td>Kitchenfaucet</td>\n",
       "      <td>1</td>\n",
       "      <td>(53747.8, 68376.4]</td>\n",
       "    </tr>\n",
       "    <tr>\n",
       "      <th>4</th>\n",
       "      <td>August</td>\n",
       "      <td>Friday</td>\n",
       "      <td>Shower</td>\n",
       "      <td>0</td>\n",
       "      <td>(41667.2, 53747.8]</td>\n",
       "    </tr>\n",
       "  </tbody>\n",
       "</table>\n",
       "</div>"
      ],
      "text/plain": [
       "    Month     Day        Fixture  Worker                Flow\n",
       "0  August  Friday          Bidet       0    (66.999, 8348.4]\n",
       "1  August  Friday          Bidet       1   (8348.4, 13440.2]\n",
       "2  August  Friday  Kitchenfaucet       0  (18289.4, 24180.2]\n",
       "3  August  Friday  Kitchenfaucet       1  (53747.8, 68376.4]\n",
       "4  August  Friday         Shower       0  (41667.2, 53747.8]"
      ]
     },
     "execution_count": 13,
     "metadata": {},
     "output_type": "execute_result"
    }
   ],
   "source": [
    "df_super['Flow'] = pd.qcut(df_super['Flow'], q = 10, duplicates = 'drop') # Binning by decile\n",
    "df_super.head()"
   ]
  },
  {
   "cell_type": "code",
   "execution_count": 14,
   "id": "d0b6b3b9",
   "metadata": {},
   "outputs": [
    {
     "data": {
      "text/html": [
       "<div>\n",
       "<style scoped>\n",
       "    .dataframe tbody tr th:only-of-type {\n",
       "        vertical-align: middle;\n",
       "    }\n",
       "\n",
       "    .dataframe tbody tr th {\n",
       "        vertical-align: top;\n",
       "    }\n",
       "\n",
       "    .dataframe thead th {\n",
       "        text-align: right;\n",
       "    }\n",
       "</style>\n",
       "<table border=\"1\" class=\"dataframe\">\n",
       "  <thead>\n",
       "    <tr style=\"text-align: right;\">\n",
       "      <th></th>\n",
       "      <th>Month</th>\n",
       "      <th>Day</th>\n",
       "      <th>Fixture</th>\n",
       "      <th>Worker</th>\n",
       "      <th>Flow</th>\n",
       "    </tr>\n",
       "  </thead>\n",
       "  <tbody>\n",
       "    <tr>\n",
       "      <th>0</th>\n",
       "      <td>August</td>\n",
       "      <td>Friday</td>\n",
       "      <td>Bidet</td>\n",
       "      <td>0</td>\n",
       "      <td>(66.999, 8348.4]</td>\n",
       "    </tr>\n",
       "    <tr>\n",
       "      <th>1</th>\n",
       "      <td>August</td>\n",
       "      <td>Friday</td>\n",
       "      <td>Bidet</td>\n",
       "      <td>1</td>\n",
       "      <td>(8348.4, 13440.2]</td>\n",
       "    </tr>\n",
       "    <tr>\n",
       "      <th>2</th>\n",
       "      <td>August</td>\n",
       "      <td>Friday</td>\n",
       "      <td>Kitchenfaucet</td>\n",
       "      <td>0</td>\n",
       "      <td>(18289.4, 24180.2]</td>\n",
       "    </tr>\n",
       "    <tr>\n",
       "      <th>3</th>\n",
       "      <td>August</td>\n",
       "      <td>Friday</td>\n",
       "      <td>Kitchenfaucet</td>\n",
       "      <td>1</td>\n",
       "      <td>(53747.8, 68376.4]</td>\n",
       "    </tr>\n",
       "    <tr>\n",
       "      <th>4</th>\n",
       "      <td>August</td>\n",
       "      <td>Friday</td>\n",
       "      <td>Shower</td>\n",
       "      <td>0</td>\n",
       "      <td>(41667.2, 53747.8]</td>\n",
       "    </tr>\n",
       "    <tr>\n",
       "      <th>...</th>\n",
       "      <td>...</td>\n",
       "      <td>...</td>\n",
       "      <td>...</td>\n",
       "      <td>...</td>\n",
       "      <td>...</td>\n",
       "    </tr>\n",
       "    <tr>\n",
       "      <th>219</th>\n",
       "      <td>September</td>\n",
       "      <td>Wednesday</td>\n",
       "      <td>Kitchenfaucet</td>\n",
       "      <td>1</td>\n",
       "      <td>(41667.2, 53747.8]</td>\n",
       "    </tr>\n",
       "    <tr>\n",
       "      <th>220</th>\n",
       "      <td>September</td>\n",
       "      <td>Wednesday</td>\n",
       "      <td>Shower</td>\n",
       "      <td>0</td>\n",
       "      <td>(68376.4, 93713.2]</td>\n",
       "    </tr>\n",
       "    <tr>\n",
       "      <th>221</th>\n",
       "      <td>September</td>\n",
       "      <td>Wednesday</td>\n",
       "      <td>Shower</td>\n",
       "      <td>1</td>\n",
       "      <td>(93713.2, 197153.0]</td>\n",
       "    </tr>\n",
       "    <tr>\n",
       "      <th>222</th>\n",
       "      <td>September</td>\n",
       "      <td>Wednesday</td>\n",
       "      <td>Washbasin</td>\n",
       "      <td>0</td>\n",
       "      <td>(24180.2, 31333.0]</td>\n",
       "    </tr>\n",
       "    <tr>\n",
       "      <th>223</th>\n",
       "      <td>September</td>\n",
       "      <td>Wednesday</td>\n",
       "      <td>Washbasin</td>\n",
       "      <td>1</td>\n",
       "      <td>(41667.2, 53747.8]</td>\n",
       "    </tr>\n",
       "  </tbody>\n",
       "</table>\n",
       "<p>224 rows × 5 columns</p>\n",
       "</div>"
      ],
      "text/plain": [
       "         Month        Day        Fixture  Worker                 Flow\n",
       "0       August     Friday          Bidet       0     (66.999, 8348.4]\n",
       "1       August     Friday          Bidet       1    (8348.4, 13440.2]\n",
       "2       August     Friday  Kitchenfaucet       0   (18289.4, 24180.2]\n",
       "3       August     Friday  Kitchenfaucet       1   (53747.8, 68376.4]\n",
       "4       August     Friday         Shower       0   (41667.2, 53747.8]\n",
       "..         ...        ...            ...     ...                  ...\n",
       "219  September  Wednesday  Kitchenfaucet       1   (41667.2, 53747.8]\n",
       "220  September  Wednesday         Shower       0   (68376.4, 93713.2]\n",
       "221  September  Wednesday         Shower       1  (93713.2, 197153.0]\n",
       "222  September  Wednesday      Washbasin       0   (24180.2, 31333.0]\n",
       "223  September  Wednesday      Washbasin       1   (41667.2, 53747.8]\n",
       "\n",
       "[224 rows x 5 columns]"
      ]
     },
     "execution_count": 14,
     "metadata": {},
     "output_type": "execute_result"
    }
   ],
   "source": [
    "df_super"
   ]
  },
  {
   "cell_type": "markdown",
   "id": "0aa84969",
   "metadata": {},
   "source": [
    "Not to many (**overfitting**) or viceversa (**underfitting**), **decile** are a fair trade-off."
   ]
  },
  {
   "cell_type": "markdown",
   "id": "2cd02741",
   "metadata": {},
   "source": [
    "[Return to contents](#contents)"
   ]
  },
  {
   "cell_type": "markdown",
   "id": "c32f6e17",
   "metadata": {},
   "source": [
    "<a id = 'pip'></a>\n",
    "# Pipeline\n",
    "\n",
    "`Pipeline` assemble several steps to apply on data for improve ML models.\n",
    "\n",
    "Classification algorithms works better with discrete numeric values."
   ]
  },
  {
   "cell_type": "code",
   "execution_count": 15,
   "id": "e1a50d02",
   "metadata": {},
   "outputs": [],
   "source": [
    "# Required tools\n",
    "from sklearn.pipeline import Pipeline\n",
    "from sklearn.compose import ColumnTransformer\n",
    "from sklearn.preprocessing import OrdinalEncoder, OneHotEncoder\n",
    "\n",
    "\n",
    "pipeline = Pipeline(steps = [(\"ordinal_encoder\", OrdinalEncoder()), (\"cat_encoder\", OneHotEncoder(sparse=False))]) \n",
    "# \"ordinal_encoder\", \"cat_encoder\" encoders id's/Names  \n",
    "# sparse = False for array return\n",
    "\n",
    "attribs = ['Month', 'Fixture', 'Flow'] # Object varibles, 'Day' not specyfied, dropped by default \n",
    "\n",
    "preprocess_pipeline = ColumnTransformer(transformers = [(\"cat\", pipeline, attribs)]) "
   ]
  },
  {
   "cell_type": "markdown",
   "id": "3cdd0ada",
   "metadata": {},
   "source": [
    "`OrdinalEncoder` maps categorical values with discrete integer values.\n",
    "\n",
    "`OneHotEncoder` creates boolean columns for each class(OrdinalEncoder integers) of each categorical variable. \n",
    "\n",
    "`ColumnTransformer` applies transformers (triplets: Name, Object, Columns) to columns of a pandas DataFrame."
   ]
  },
  {
   "cell_type": "code",
   "execution_count": 16,
   "id": "7937bb59",
   "metadata": {},
   "outputs": [],
   "source": [
    "# Splitting input X and output Y variables \n",
    "X = df_super.drop('Worker', axis = 1)\n",
    "Y = df_super['Worker']"
   ]
  },
  {
   "cell_type": "code",
   "execution_count": 17,
   "id": "4f424913",
   "metadata": {
    "scrolled": true
   },
   "outputs": [],
   "source": [
    "# Pipeline application \n",
    "X = preprocess_pipeline.fit_transform(X)\n",
    "\n",
    "# Directly on input var. since we will generate many random training set"
   ]
  },
  {
   "cell_type": "markdown",
   "id": "45b8ac4c",
   "metadata": {},
   "source": [
    "[Return to contents](#contents)"
   ]
  },
  {
   "cell_type": "markdown",
   "id": "055c5f72",
   "metadata": {},
   "source": [
    "<a id = 'svm'></a>\n",
    "# Support Vector Machine SVM\n",
    "\n",
    "Supervised machine learning algorithm used for both **classification** or regression.\n",
    "\n",
    "Plots each observation _(water measuraments)_ as point in p-dimensional space _(p features: Month, Day, Flow)_ where values of each feature will be values of particular coordinates(so called, Support Vectors).\n",
    "\n",
    "Performs classification by finding the hyper-plane in the p-dimensional space that best differentiates classes _(2, Workers)_ for the observations. \n",
    "\n",
    "(In case of multiclass classification it breaks down the multiclassification problem into multiple binary classification(as OneHotEncoders))"
   ]
  },
  {
   "cell_type": "markdown",
   "id": "c2ca9593",
   "metadata": {},
   "source": [
    "<a id = 'why'></a>\n",
    "# Why SVM?\n",
    "\n",
    "1. **Size of the training data** small, SVM suggested.\n",
    "\n",
    "\n",
    "2. **Accuracy and/or Interpretability** trade-off state, accuracy is our goal, SVMs prioritize accuracy.\n",
    "\n",
    "\n",
    "3. **Speed/Training time**: Higher accuracy means higher training time, small training data size means lower training time, SVM fits the desidered properties.\n",
    "\n",
    "\n",
    "**Accuracy** : number of correctly predicted data points out of all the data points.\n",
    "\n",
    "`train_test_split` splits arrays into random train and test subsets."
   ]
  },
  {
   "cell_type": "code",
   "execution_count": 18,
   "id": "a4e657f1",
   "metadata": {},
   "outputs": [
    {
     "data": {
      "text/plain": [
       "(179, 18)"
      ]
     },
     "execution_count": 18,
     "metadata": {},
     "output_type": "execute_result"
    }
   ],
   "source": [
    "from sklearn.model_selection import train_test_split\n",
    "\n",
    "X_train, X_test, Y_train, Y_test = train_test_split(X, Y, test_size = 0.2) # test_size = 0.2 --> 80% train, 20% test\n",
    "X_train.shape"
   ]
  },
  {
   "cell_type": "markdown",
   "id": "f2285aa7",
   "metadata": {},
   "source": [
    "Small size of the training data."
   ]
  },
  {
   "cell_type": "markdown",
   "id": "4e41bd97",
   "metadata": {},
   "source": [
    "[Return to contents](#contents)"
   ]
  },
  {
   "cell_type": "markdown",
   "id": "c02a88f3",
   "metadata": {},
   "source": [
    "<a id = 'tun'></a>\n",
    "# Tuning \n",
    "\n",
    "Parameters:\n",
    "\n",
    "- **kernel**: function that takes low dimensional input spaces and transforms it to higher dimensional spaces. Converts not separable to separable problems by data transformations for find out which process is able to separate our data based on our defined labels/ outputs. Defines the shape of the hyperplane(Linear **/** non). Optimizes linear (`linear`) **/** non-linear(`rbf`, `poly`, `sigmoid`) separation problem depending on the option choices. Options: `linear`, `rbf`, `poly`, `sigmoid`.\n",
    "\n",
    "\n",
    "- **gamma**: Kernel coefficient for non linear hyperplanes. With higher gamma values it tries to exactly fit the training data set, care for **overfitting**, looking for the **trade-off**.\n",
    "\n",
    "\n",
    "- **C** penalty parameter of the error term. Controls the trade-off between smooth decision boundary and classifying the training points correctly. Increasing C values may prone to **overfitting** training data.\n",
    "\n",
    "\n",
    "- **degree**: used only when kernel = `poly`(ignored otherwise). Degree of the polynomial used to find the hyperplane (higher degrees, higher training time)"
   ]
  },
  {
   "cell_type": "code",
   "execution_count": 19,
   "id": "c832c024",
   "metadata": {},
   "outputs": [],
   "source": [
    "# Loop setup\n",
    "\n",
    "# For pretty load bar (since long loop)\n",
    "from tqdm import tqdm\n",
    "\n",
    "# SVM tools\n",
    "from sklearn import svm, datasets\n",
    "from sklearn.model_selection import cross_val_score\n",
    "\n",
    "# Options\n",
    "kernels = ['linear', 'rbf', 'poly', 'sigmoid']\n",
    "gammas = [0.1, 1, 10, 100, 'auto' ,'scale'] # floats, 'scale' = 1 / (n_features * X.var()), ‘auto’ = 1 / n_features.\n",
    "cs = [0.1, 1, 10, 100, 1000] # strictly positive float values\n",
    "# degrees = [0, 1, 2, 3, 4, 5, 6] if tune also those training time drastically increases, I leave only the default one\n",
    "#                                 degree = 3\n",
    "\n",
    "score = []\n",
    "param = []"
   ]
  },
  {
   "cell_type": "code",
   "execution_count": 20,
   "id": "4f02c063",
   "metadata": {},
   "outputs": [
    {
     "name": "stderr",
     "output_type": "stream",
     "text": [
      "100%|██████████| 120/120 [00:05<00:00, 20.03it/s]\n"
     ]
    }
   ],
   "source": [
    "# Loop\n",
    "with tqdm(total = len(kernels)* len(gammas)* len(cs)) as pbar: \n",
    "    # total = overall loop iterations\n",
    "    for kernel in kernels:\n",
    "        for gamma in gammas:\n",
    "            for c in cs:\n",
    "                svc = svm.SVC(kernel = kernel, gamma = gamma, C = c)\n",
    "                single_score = cross_val_score(svc, X, Y, cv = 10, scoring = 'accuracy')\n",
    "                score.append(single_score.mean())\n",
    "                param.append([kernel, gamma, c])\n",
    "                pbar.update(1)\n",
    "                # update the bar for each single iteration"
   ]
  },
  {
   "cell_type": "markdown",
   "id": "3ea084b7",
   "metadata": {},
   "source": [
    "`sklearn.svm.SVC` defines our Support Vector Classification model.\n",
    "\n",
    "### I tune parameters exploiting cross_validation procedures by choosing those that maximize the model skill on new data.\n",
    "\n",
    "Good Models are those which give good predictions on new data and avoid **overfitting** and **underfitting**.\n",
    "\n",
    "**Cross validation** procedure is used to avoid overfitting and evaluate skills of models on new data.\n",
    "\n",
    "**Overfitting**: ML models capture also noises from the data i.e., fit the data too well. Results in good training accuracy but poor results on new data(Testing).\n",
    "\n",
    "**Underfitting**: ML models cannot capture the trend of the data i.e, do not fit the data well enough. Results of too simple models.\n",
    "\n",
    "`cross_val_score` evaluate a score _(`scoring` = 'accuracy')_ of an `estimator` (object used to fit the data: _(SVC)_ ) by cross-validation. `cv` sets the number of folds(k).\n",
    "\n",
    "For knowing how well our model will perform on new data we split our dataset into separate training and test subsets, **K-Fold Cross Validation** adempt this task.\n",
    "\n",
    "Has a single parameter **k(fold)** number of groups that a given data sample is to be split into.\n",
    "\n",
    "**Steps** (performed by `cross_val_score`):\n",
    "\n",
    "    1. 1 group as test data set\n",
    "    \n",
    "    2. remaining groups as a training data set\n",
    "    \n",
    "    3. Fit a model on the training set and evaluate it on the test set\n",
    "    \n",
    "    4. Retain the evaluation score and discard the model\n",
    "    \n",
    "    5. Repeat until each group has been the test one\n",
    "\n",
    "    6. At the end Summarize the skill of the model (cross_val_score.mean).\n",
    "\n",
    "k is chosen such that each train/test group is large enough to be statistically representative. **k=10** is a very common trade-off.\n",
    "\n",
    "_Cross validation retrive relaiable model skill on new data, since the \"new data\" changes iteratively during the procedure depending on k param._\n",
    "\n",
    "_Due to the amount of different \"testing\" avoid also overfitting._"
   ]
  },
  {
   "cell_type": "code",
   "execution_count": 21,
   "id": "26fc84d8",
   "metadata": {},
   "outputs": [
    {
     "name": "stdout",
     "output_type": "stream",
     "text": [
      "Best param: ['rbf', 'scale', 10]\n"
     ]
    }
   ],
   "source": [
    "best_par = param[score.index(max(score))] # Saving best parameter for the model\n",
    "print('Best param:', param[score.index(max(score))])"
   ]
  },
  {
   "cell_type": "code",
   "execution_count": 23,
   "id": "df3faa63",
   "metadata": {},
   "outputs": [
    {
     "name": "stdout",
     "output_type": "stream",
     "text": [
      "Best accuracy: 0.6365612648221344 at index: 57\n"
     ]
    },
    {
     "data": {
      "image/png": "[encoded data removed]",
      "text/plain": [
       "<Figure size 432x288 with 1 Axes>"
      ]
     },
     "metadata": {
      "needs_background": "light"
     },
     "output_type": "display_data"
    }
   ],
   "source": [
    "# Accuracy trend \n",
    "best_acc = max(score) # Saving best accuracy for comparisons\n",
    "print('Best accuracy:', best_acc,'at index:', score.index(best_acc))\n",
    "plt.plot(range(len(score)), score)  \n",
    "plt.xlabel('Iteration')\n",
    "plt.ylabel('Accuracy') \n",
    "plt.title('Perfomance Plot')\n",
    "plt.show()"
   ]
  },
  {
   "cell_type": "markdown",
   "id": "191309d5",
   "metadata": {},
   "source": [
    "[Return to contents](#contents)"
   ]
  },
  {
   "cell_type": "markdown",
   "id": "9a1e0023",
   "metadata": {},
   "source": [
    "<a id = 'bag'></a>\n",
    "# Bagging\n",
    "\n",
    "Bagging is an **Ensemble Learning technique**.\n",
    "\n",
    "Ensemble techniques use multiple learning algorithms on different datasets to obtain better predictive performance and realiable results.\n",
    "\n",
    "In **Bagging** same models are trained on different dataset i.e., different train **/** test from the origial one _(bootstrapping: random sampling with replacement)_.\n",
    "\n",
    "At classification step, each model will vote on the prediction outcome and the overall output will be the class that has received  most votes."
   ]
  },
  {
   "cell_type": "code",
   "execution_count": 24,
   "id": "cbf83c1b",
   "metadata": {},
   "outputs": [],
   "source": [
    "# Bootstrapping and Training \n",
    "\n",
    "mod = []\n",
    "\n",
    "# 100 bagging size\n",
    "for i in range(100):\n",
    "    X_train, X_test, Y_train, Y_test = train_test_split(X, Y, test_size = 0.2)\n",
    "    mod.append(svm.SVC(kernel = best_par[0], gamma = best_par[1], C = best_par[2]).fit(X_train, Y_train))    "
   ]
  },
  {
   "cell_type": "markdown",
   "id": "8793f3a7",
   "metadata": {},
   "source": [
    "`train_test_split` within loop for different datasets train **/** test since generation is random.\n",
    "\n",
    "`svm.SVC().fit(X_train, Y_train)` training step.\n",
    "\n",
    "List **mod** will contains 100 models trained on different dataset."
   ]
  },
  {
   "cell_type": "code",
   "execution_count": 25,
   "id": "eee2d61b",
   "metadata": {},
   "outputs": [],
   "source": [
    "# Single accuracy evaluations\n",
    "\n",
    "scores = []\n",
    "X_train, X_test, Y_train, Y_test = train_test_split(X, Y, test_size = 0.2) # this train and test split will be\n",
    "                                                                           # used also in the next step\n",
    "for m in mod: \n",
    "    score = m.score(X_test, Y_test)\n",
    "    scores.append(score)"
   ]
  },
  {
   "cell_type": "markdown",
   "id": "40e0d471",
   "metadata": {},
   "source": [
    "List **scores** will contains the scoring of models that I will use as weights during the voting phase for the overall output.\n",
    "\n",
    "\n",
    "`.score(X_test, Y_test)` makes predictions using X_test and uses those predictions with Y_test to evaluate the accuracy of the model.\n",
    "\n",
    "\n",
    "`svm.SVC().predict(X_test)` Classification step, prediction outcome."
   ]
  },
  {
   "cell_type": "code",
   "execution_count": 26,
   "id": "046474fc",
   "metadata": {},
   "outputs": [],
   "source": [
    "# Classification steps, prediction outcome, voting phase\n",
    "\n",
    "# For boundary votes\n",
    "import random \n",
    "l = [0, 1]\n",
    "\n",
    "pred1 = [] # Final predictions list\n",
    "correct = 0 # Correct predictions with respect to Y_test\n",
    "\n",
    "\n",
    "for x, y in zip(X_test, Y_test): \n",
    "    # X_test, Y_test defined in previous step\n",
    "    count0 = 0\n",
    "    count1 = 0\n",
    "    # count0 count the 0 predictions (Normal workers), count1 vicerversa Smart Workers\n",
    "    \n",
    "    # Summing and weighting votes\n",
    "    for m, s in zip(mod, scores):\n",
    "        pred = m.predict(x.reshape(1, -1)) # .reshape(1, -1) since we are predicting on single sample dataset\n",
    "                                           # (otherwis doesn't works)\n",
    "        if pred == 1:\n",
    "            count1 += 1 * s \n",
    "        if pred == 0:\n",
    "            count0 += 1 * s\n",
    "            # s = weigthing accuracy score\n",
    "    \n",
    "    # Voting phase \n",
    "    if count1 > count0:\n",
    "        pred1.append(1)\n",
    "    if count1 < count0:\n",
    "        pred1.append(0)\n",
    "    if count1 == count0:\n",
    "        pred1.append(random.choice(l))\n",
    "        # boundary decisions\n",
    "    \n",
    "    # Checking respect to Y_test\n",
    "    if pred1[-1] == y:\n",
    "        correct += 1"
   ]
  },
  {
   "cell_type": "code",
   "execution_count": 27,
   "id": "aad019e3",
   "metadata": {},
   "outputs": [
    {
     "name": "stdout",
     "output_type": "stream",
     "text": [
      "Accuracy without bagging: 0.6365612648221344\n",
      "Accuracy with bagging: 0.8444444444444444\n"
     ]
    }
   ],
   "source": [
    "# Manually accuracy evaluation with bagging\n",
    "bag_acc = correct/len(Y_test)\n",
    "\n",
    "print('Accuracy without bagging:', best_acc)\n",
    "print('Accuracy with bagging:', bag_acc)"
   ]
  },
  {
   "cell_type": "markdown",
   "id": "1ce5674a",
   "metadata": {},
   "source": [
    "**Bagging technique drastically increase our accuracy** due to the powerful union of different models (Classification/voting phase) trained on different dataset (Bootstrapping)."
   ]
  },
  {
   "cell_type": "code",
   "execution_count": 28,
   "id": "46b8f6ab",
   "metadata": {},
   "outputs": [
    {
     "data": {
      "image/png": "[encoded data removed]",
      "text/plain": [
       "<Figure size 432x288 with 1 Axes>"
      ]
     },
     "metadata": {
      "needs_background": "light"
     },
     "output_type": "display_data"
    }
   ],
   "source": [
    "# Graphical rappresentation of the bagging test results\n",
    "\n",
    "x = range(len(Y_test)) # Measuraments indexes\n",
    "y_pred = pred1 # Our predictions\n",
    "y_test = list(Y_test) # Test values\n",
    "\n",
    "fig = plt.figure() # Create new figure\n",
    "ax1 = fig.add_subplot(111) # 111 --> subplot location\n",
    "\n",
    "# Adding multiple object in the the same subplot\n",
    "ax1.scatter(x, y_test, s=50, c='b', marker=\"s\", label= 'Test values')\n",
    "ax1.scatter(x, y_pred, s=35, c='r', marker=\"o\", label = 'Predictions')\n",
    "plt.title('Bagging test results')\n",
    "plt.legend()\n",
    "plt.show()"
   ]
  },
  {
   "cell_type": "markdown",
   "id": "f1765f38",
   "metadata": {},
   "source": [
    "When a red circle point overlap a blu squared one our prediction is correct."
   ]
  },
  {
   "cell_type": "markdown",
   "id": "4bca9f4a",
   "metadata": {},
   "source": [
    "[Return to contents](#contents)"
   ]
  },
  {
   "cell_type": "markdown",
   "id": "bcdf6605",
   "metadata": {},
   "source": [
    "<a id = 'real'></a>\n",
    "# Real case application\n",
    "\n",
    "Suppose now that our company wants to know where one of its employees worked in the past 3 days."
   ]
  },
  {
   "cell_type": "code",
   "execution_count": 29,
   "id": "76828cd4",
   "metadata": {},
   "outputs": [
    {
     "data": {
      "text/plain": [
       "array([[1., 0., 0., 0., 0., 1., 0., 0., 0., 0., 0., 0., 0., 0., 0., 1.,\n",
       "        0., 0.],\n",
       "       [1., 0., 0., 0., 0., 0., 1., 0., 0., 0., 0., 0., 0., 0., 1., 0.,\n",
       "        0., 0.],\n",
       "       [1., 0., 0., 0., 0., 0., 1., 0., 0., 0., 0., 0., 0., 0., 0., 0.,\n",
       "        1., 0.]])"
      ]
     },
     "execution_count": 29,
     "metadata": {},
     "output_type": "execute_result"
    }
   ],
   "source": [
    "x_real = X[3:6] \n",
    "x_real"
   ]
  },
  {
   "cell_type": "markdown",
   "id": "02723304",
   "metadata": {},
   "source": [
    "Suppose also that the above array x_real contains already the 3 pre-processed(with our pipeline) correspondent water measuraments of the employee."
   ]
  },
  {
   "cell_type": "code",
   "execution_count": 30,
   "id": "923d9418",
   "metadata": {},
   "outputs": [],
   "source": [
    "solutions = Y[3:6] # Saving classification solutions for comparison"
   ]
  },
  {
   "cell_type": "markdown",
   "id": "3652f350",
   "metadata": {},
   "source": [
    "# Model usage \n",
    "\n",
    "Lets implement `x_real` in our bagging classifier."
   ]
  },
  {
   "cell_type": "code",
   "execution_count": 31,
   "id": "a12b04ec",
   "metadata": {},
   "outputs": [],
   "source": [
    "y = [] # Our results\n",
    "\n",
    "for x in x_real:\n",
    "    count0 = 0\n",
    "    count1 = 0\n",
    "    for m, s in zip(mod, scores):\n",
    "        pred = m.predict(x.reshape(1, -1))\n",
    "        if pred == 1:\n",
    "            count1 += 1 * s\n",
    "        if pred == 0:\n",
    "            count0 += 1 * s\n",
    "    if count1 > count0:\n",
    "        y.append(1)\n",
    "    if count1 < count0:\n",
    "        y.append(0)\n",
    "    if count1 == count0:\n",
    "        y.append(random.choice(l))"
   ]
  },
  {
   "cell_type": "code",
   "execution_count": 32,
   "id": "6bae4488",
   "metadata": {},
   "outputs": [
    {
     "name": "stdout",
     "output_type": "stream",
     "text": [
      "Model output: ['Smartworker', 'Worker', 'Smartworker']\n",
      "Real solutions: ['Smartworker', 'Worker', 'Smartworker']\n"
     ]
    }
   ],
   "source": [
    "# interpreter --> see user defined functions in the setup notebook\n",
    "\n",
    "print('Model output:', interpreter(y))\n",
    "print('Real solutions:', interpreter(solutions))"
   ]
  },
  {
   "cell_type": "markdown",
   "id": "2da880d8",
   "metadata": {},
   "source": [
    "[Return to contents](#contents)"
   ]
  },
  {
   "cell_type": "markdown",
   "id": "5585ea1e",
   "metadata": {},
   "source": [
    "<a id = 'end'></a>\n",
    "# Conclusion \n",
    "\n",
    "During the exploratory analysis I have discover water consumption patterns of user's behaviour for fixtures, daily, monthly and among years pre and within Covid19, focusing mainly on the distinctions between workers and smartworkers as benchmarks.\n",
    "\n",
    "In the second part, I asked myself a Machine learning problem and I try to solve it as best as I could."
   ]
  },
  {
   "cell_type": "markdown",
   "id": "acd36e14",
   "metadata": {},
   "source": [
    "[Return to contents](#contents)"
   ]
  }
 ],
 "metadata": {
  "kernelspec": {
   "display_name": "Python 3",
   "language": "python",
   "name": "python3"
  },
  "language_info": {
   "codemirror_mode": {
    "name": "ipython",
    "version": 3
   },
   "file_extension": ".py",
   "mimetype": "text/x-python",
   "name": "python",
   "nbconvert_exporter": "python",
   "pygments_lexer": "ipython3",
   "version": "3.10.4"
  }
 },
 "nbformat": 4,
 "nbformat_minor": 5
}
