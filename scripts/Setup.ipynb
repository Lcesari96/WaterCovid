{
 "cells": [
  {
   "cell_type": "markdown",
   "id": "e78e4e71",
   "metadata": {},
   "source": [
    "<a id = 'contents'></a>\n",
    "# Setup\n",
    "\n",
    "## Table of contents\n",
    "\n",
    "- [Sys library](#sys)\n",
    "- [Scikit-Learn library](#sk)\n",
    "- [NumPy library](#np)\n",
    "- [Os library](#os)\n",
    "- [Pandas library](#pd)\n",
    "- [Matplotlib library](#mt)\n",
    "- [Plotly library](#pl)\n",
    "- [Path definitions](#path)\n",
    "- [User defined functions](#user)"
   ]
  },
  {
   "cell_type": "code",
   "execution_count": 2,
   "id": "5aa85022",
   "metadata": {},
   "outputs": [
    {
     "name": "stdout",
     "output_type": "stream",
     "text": [
      "Collecting tqdm\n",
      "  Downloading tqdm-4.63.1-py2.py3-none-any.whl (76 kB)\n",
      "Requirement already satisfied: colorama in c:\\users\\loren\\miniconda3\\envs\\watercovid\\lib\\site-packages (from tqdm) (0.4.4)\n",
      "Installing collected packages: tqdm\n",
      "Successfully installed tqdm-4.63.1\n"
     ]
    }
   ],
   "source": [
    "# If you need some packages uncomment\n",
    "# !pip install sklearn\n",
    "# !pip install numpy \n",
    "# !pip install pandas \n",
    "# !pip install matplotlib \n",
    "# !pip install plotly\n",
    "# !pip install -U kaleido\n",
    "# !pip install tqdm"
   ]
  },
  {
   "cell_type": "code",
   "execution_count": 1,
   "id": "4c7d26a3",
   "metadata": {},
   "outputs": [],
   "source": [
    "# Suppress future warnings for visualizzation\n",
    "import warnings\n",
    "warnings.simplefilter(action='ignore', category=FutureWarning)"
   ]
  },
  {
   "cell_type": "markdown",
   "id": "b54ee11d",
   "metadata": {},
   "source": [
    "<a id = 'sys'></a>\n",
    "# Sys library \n",
    "\n",
    "`Sys` provides various functions and variables that are used to manipulate different parts of the Python runtime environment. \n",
    "\n",
    "I use `sys` to ensure that the python version of the user is the 3.5 or greater."
   ]
  },
  {
   "cell_type": "code",
   "execution_count": 2,
   "id": "0d6c58a1",
   "metadata": {
    "scrolled": true
   },
   "outputs": [],
   "source": [
    "import sys\n",
    "assert sys.version_info >= (3, 5)"
   ]
  },
  {
   "cell_type": "markdown",
   "id": "67218e5b",
   "metadata": {},
   "source": [
    "[Return to contents](#contents)"
   ]
  },
  {
   "cell_type": "markdown",
   "id": "9508f32a",
   "metadata": {},
   "source": [
    "<a id = 'sk'></a>\n",
    "# Scikit-Learn\n",
    "\n",
    "`Scikit-Learn` library provides functions to compute large part of the common clustering algortihms and machine learnig tecniques.\n",
    "\n",
    "`Scikit-Learn` interoperate with `NumPy`.\n",
    "\n",
    "Also here we ensure about the required version."
   ]
  },
  {
   "cell_type": "code",
   "execution_count": 3,
   "id": "ea8e5d48",
   "metadata": {},
   "outputs": [],
   "source": [
    "import sklearn\n",
    "assert sklearn.__version__ >= \"0.20\""
   ]
  },
  {
   "cell_type": "markdown",
   "id": "8d3d7123",
   "metadata": {},
   "source": [
    "[Return to contents](#contents)"
   ]
  },
  {
   "cell_type": "markdown",
   "id": "fa363297",
   "metadata": {},
   "source": [
    "<a id = 'np'></a>\n",
    "# NumPy library\n",
    "\n",
    "`NumPy` is a numerical and scientific library that simplyfies a lot all the linear algebra computations.\n",
    "\n",
    "It provides computationally efficient foundations for computing with arrays to a large number of other popular libraries, including `Pandas`, `Matplotlib` and `Scikit-Learn`."
   ]
  },
  {
   "cell_type": "code",
   "execution_count": 4,
   "id": "4f25ca33",
   "metadata": {},
   "outputs": [],
   "source": [
    "import numpy as np"
   ]
  },
  {
   "cell_type": "markdown",
   "id": "f4a9cb1e",
   "metadata": {},
   "source": [
    "[Return to contents](#contents)"
   ]
  },
  {
   "cell_type": "markdown",
   "id": "4c975890",
   "metadata": {},
   "source": [
    "<a id = 'os'></a>\n",
    "# Os library\n",
    "\n",
    "The `Os` library is used to deal with files and path objects."
   ]
  },
  {
   "cell_type": "code",
   "execution_count": 5,
   "id": "727b5c5a",
   "metadata": {},
   "outputs": [],
   "source": [
    "import os"
   ]
  },
  {
   "cell_type": "markdown",
   "id": "d4ccb412",
   "metadata": {},
   "source": [
    "[Return to contents](#contents)"
   ]
  },
  {
   "cell_type": "markdown",
   "id": "d54668c0",
   "metadata": {},
   "source": [
    "<a id = 'pd'></a>\n",
    "# Pandas\n",
    "\n",
    "`Pandas` is a library for data manipulation and analysis.\n",
    "\n",
    "The main classes in `Pandas` are `Series` and `DataFrame`.\n",
    "\n",
    "The `series` are sequences with user-defined indexes while `dataframes` are analogous to relational tables.\n",
    "\n",
    "We can think `dataframes` as dictionaries of `series`."
   ]
  },
  {
   "cell_type": "code",
   "execution_count": 6,
   "id": "ee9092d3",
   "metadata": {},
   "outputs": [],
   "source": [
    "import pandas as pd"
   ]
  },
  {
   "cell_type": "markdown",
   "id": "095c2afc",
   "metadata": {},
   "source": [
    "[Return to contents](#contents)"
   ]
  },
  {
   "cell_type": "markdown",
   "id": "fd687c42",
   "metadata": {},
   "source": [
    "<a id = 'mt'></a>\n",
    "# Matplotlib\n",
    "\n",
    "`Matplotlib` library allow us to draw bidimensional graphic representations called plots, like:\n",
    "- Scatter \n",
    "- Line \n",
    "- And export those to various file formats, including PDF, PNG, JPEG.\n",
    "\n",
    "`%matplotLib inline` allow us to show resulting plots below the code cell in the notebook.\n",
    "\n",
    "`matplotlib.pyplot` is a collection of functions that make matplotlib work like MATLAB. Each pyplot function makes some change to a figure: e.g., creates a figure, creates a plotting area in a figure, plots some lines in a plotting area, decorates the plot with labels, and so on.\n",
    "\n",
    "With `matplotlib.rc` we set our default styles for every plot element that we create."
   ]
  },
  {
   "cell_type": "code",
   "execution_count": 7,
   "id": "e6f54d90",
   "metadata": {},
   "outputs": [],
   "source": [
    "%matplotlib inline \n",
    "import matplotlib as mpl \n",
    "import matplotlib.pyplot as plt\n",
    "\n",
    "# matplotlib.rc\n",
    "mpl.rc('axes', labelsize=14)\n",
    "mpl.rc('xtick', labelsize=12)\n",
    "mpl.rc('ytick', labelsize=12)"
   ]
  },
  {
   "cell_type": "markdown",
   "id": "fe6ada07",
   "metadata": {},
   "source": [
    "[Return to contents](#contents)"
   ]
  },
  {
   "cell_type": "markdown",
   "id": "2eefda87",
   "metadata": {},
   "source": [
    "<a id = 'pl'></a>\n",
    "# Plotly library \n",
    "\n",
    "`Plotly` is an interactive, open-source plotting library.\n",
    "\n",
    "`plotly.express` module contain functions that can create entire figures at once."
   ]
  },
  {
   "cell_type": "code",
   "execution_count": 8,
   "id": "2db63673",
   "metadata": {},
   "outputs": [],
   "source": [
    "import plotly.express as px"
   ]
  },
  {
   "cell_type": "markdown",
   "id": "091fd34f",
   "metadata": {},
   "source": [
    "[Return to contents](#contents)"
   ]
  },
  {
   "cell_type": "markdown",
   "id": "c577f33c",
   "metadata": {},
   "source": [
    "<a id = 'path'></a>\n",
    "# Path definitions\n",
    "\n",
    "Here I define the path object for storing data.\n",
    "\n",
    "`PROJECT_ROOT_DIR = \"../\"` is a variable setted in order to tell us to do a \"step back\" from our current path i.e., from script to the general folder project.\n",
    "\n",
    "With the other `os.path.join` functions I create the paths for store configurations, data, results and images by  concatenate the general folder project path `PROJECT_ROOT_DIR` with respectively: data, results and images strings.\n",
    "\n",
    "`os.path.join` put between the concatenation strings `\"/\"` for respect the path objects syntax.\n",
    "\n",
    "`os.makedirs` function is used to create directories recursively. If the target directory already exist, `exist_ok=True` parameter leaves the directory unaltered."
   ]
  },
  {
   "cell_type": "code",
   "execution_count": 9,
   "id": "06a45b58",
   "metadata": {},
   "outputs": [],
   "source": [
    "PROJECT_ROOT_DIR = \"../\"\n",
    "\n",
    "DATA_PATH = os.path.join(PROJECT_ROOT_DIR, \"data\")\n",
    "os.makedirs(DATA_PATH, exist_ok=True)"
   ]
  },
  {
   "cell_type": "markdown",
   "id": "29fbab3d",
   "metadata": {},
   "source": [
    "[Return to contents](#contents)"
   ]
  },
  {
   "cell_type": "markdown",
   "id": "598819f3",
   "metadata": {},
   "source": [
    "<a id = 'user'></a>\n",
    "# User defined functions"
   ]
  },
  {
   "cell_type": "markdown",
   "id": "971b3e5b",
   "metadata": {},
   "source": [
    "## Display_side_by_side\n",
    "\n",
    "For visualize, side by side, two or more dataframes.\n",
    "\n",
    "`IPython.display` module for display tools in IPython.\n",
    "\n",
    "`display_html` display the HTML representation of an object.\n",
    "\n",
    "`itertools` library that contains functions that create iterators for looping.\n",
    "\n",
    "`chain` joins iterators e.g _chain('ABC', 'DEF') --> A B C D E F_\n",
    "\n",
    "`cycle` generate an infinite iterator e.g _cycle('ABCD') --> A B C D A B C D ..._\n",
    "\n",
    "Parameters:\n",
    "\n",
    "- **args**: desidered dataframes.\n",
    "\n",
    "- **titles**: desidered `list` of `string` titles.\n",
    "\n",
    "In `html_str` are defined style, position and format of our titles and dataframes: `<br>`produces a line break in text, `<th style=\"text-align:center\">` sets the horizontal alignment of a text, `<td style=\"vertical-align:top\">` sets the content to top-align(these 2 are used for positioning), `<h2>` sets text as heading(used for titles), `df.to_html()` render a DataFrame as an HTML table."
   ]
  },
  {
   "cell_type": "code",
   "execution_count": 13,
   "id": "31f100cc",
   "metadata": {},
   "outputs": [],
   "source": [
    "from IPython.display import display_html\n",
    "from itertools import chain,cycle\n",
    "\n",
    "def display_side_by_side(*args,titles=cycle([''])):\n",
    "    html_str=''\n",
    "    for df,title in zip(args, chain(titles,cycle(['</br>'])) ):\n",
    "        html_str+='<th style=\"text-align:center\"><td style=\"vertical-align:top\">'\n",
    "        html_str+=f'<h2>{title}</h2>'\n",
    "        html_str+=df.to_html().replace('table','table style=\"display:inline\"')\n",
    "        html_str+='</td></th>'\n",
    "    display_html(html_str,raw=True)"
   ]
  },
  {
   "cell_type": "markdown",
   "id": "54088708",
   "metadata": {},
   "source": [
    "# Interpreter \n",
    "\n",
    "Since doesn't make sense create a json file dictionary to convert just one binary variable in strings for result interpretation, I implement a short function."
   ]
  },
  {
   "cell_type": "code",
   "execution_count": 14,
   "id": "5647f2a2",
   "metadata": {},
   "outputs": [],
   "source": [
    "def interpreter(b):\n",
    "    b = list(b)\n",
    "    obj = []\n",
    "    for a in b:\n",
    "        if a == 0:\n",
    "            obj.append('Worker')\n",
    "        if a == 1:\n",
    "            obj.append('Smartworker')\n",
    "    return(obj)"
   ]
  },
  {
   "cell_type": "markdown",
   "id": "705d6875",
   "metadata": {},
   "source": [
    "[Return to contents](#contents)"
   ]
  }
 ],
 "metadata": {
  "kernelspec": {
   "display_name": "Python 3",
   "language": "python",
   "name": "python3"
  },
  "language_info": {
   "codemirror_mode": {
    "name": "ipython",
    "version": 3
   },
   "file_extension": ".py",
   "mimetype": "text/x-python",
   "name": "python",
   "nbconvert_exporter": "python",
   "pygments_lexer": "ipython3",
   "version": "3.10.4"
  }
 },
 "nbformat": 4,
 "nbformat_minor": 5
}
