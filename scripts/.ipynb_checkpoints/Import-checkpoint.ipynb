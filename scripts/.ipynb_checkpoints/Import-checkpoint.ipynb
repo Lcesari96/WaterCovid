{
 "cells": [
  {
   "cell_type": "markdown",
   "id": "1375b3e5",
   "metadata": {},
   "source": [
    "# Import \n",
    "\n",
    "Data are contained in different `.csv` files according to the type fixture. \n",
    "\n",
    "**files** is a `list` that contains all the complete path objects for each `.csv`.\n",
    "\n",
    "`os.path.splitext()` split the path name into a pair root and extension.\n",
    "\n",
    "`os.path.join()` joins strings according to the path object syntax.\n",
    "\n",
    "`os.listdir()` retrives all the file names contained in a folder by specifying its path as argument.\n",
    "\n",
    "In the second `for loop`:\n",
    "\n",
    "1. For each path object with `.split()` I extract the string that contains the name of the fixture and I save it iteratively in the variable **name**.\n",
    "\n",
    "\n",
    "2. For each path object with `pd.read_csv` I convert the `.csv` files to `dataframes` and I save those iteratively in the variable **df**.\n",
    "\n",
    "    - I implement also `conditional statements` since the `.csv` files, according to each fixture, have different headers and separators (Bidet, kitchenfaucet: ',' separators and ['Time', 'Flow'] headers; Shower, Washbasin: 'blank space' separators and None headers)\n",
    "    \n",
    "\n",
    "3. For each fixture `dataframe` I add the correspondent fixture as column.\n",
    "\n",
    "\n",
    "4. I append each generated dataframe to a an empty `list` **df_list**.\n",
    "\n",
    "\n",
    "5. I stack all the `dataframes` with `pd.concat`.\n",
    "\n",
    "I set the parameter `ignore_index=True` since the concatenation axis does not have meaningful indexing information for our analysis (Ignore and reset the previous indexes)."
   ]
  },
  {
   "cell_type": "code",
   "execution_count": 1,
   "id": "91463946",
   "metadata": {},
   "outputs": [],
   "source": [
    "%run setup.ipynb # Python config"
   ]
  },
  {
   "cell_type": "code",
   "execution_count": 2,
   "id": "fd790ce6",
   "metadata": {},
   "outputs": [
    {
     "data": {
      "text/plain": [
       "['../data\\\\feed_Bidet.MYD.csv',\n",
       " '../data\\\\feed_Kitchenfaucet.MYD.csv',\n",
       " '../data\\\\feed_Shower.MYD.csv',\n",
       " '../data\\\\feed_Washbasin.MYD.csv']"
      ]
     },
     "execution_count": 2,
     "metadata": {},
     "output_type": "execute_result"
    }
   ],
   "source": [
    "# For take only '.csv' files inside the folder\n",
    "\n",
    "files = []\n",
    "extensions = ('.csv') # accepted extension\n",
    "\n",
    "for file in os.listdir(DATA_PATH):\n",
    "    if os.path.splitext(file)[-1] in extensions:\n",
    "        files.append(os.path.join(DATA_PATH, file))\n",
    "        \n",
    "files"
   ]
  },
  {
   "cell_type": "code",
   "execution_count": 3,
   "id": "9d616290",
   "metadata": {},
   "outputs": [
    {
     "data": {
      "text/html": [
       "<div>\n",
       "<style scoped>\n",
       "    .dataframe tbody tr th:only-of-type {\n",
       "        vertical-align: middle;\n",
       "    }\n",
       "\n",
       "    .dataframe tbody tr th {\n",
       "        vertical-align: top;\n",
       "    }\n",
       "\n",
       "    .dataframe thead th {\n",
       "        text-align: right;\n",
       "    }\n",
       "</style>\n",
       "<table border=\"1\" class=\"dataframe\">\n",
       "  <thead>\n",
       "    <tr style=\"text-align: right;\">\n",
       "      <th></th>\n",
       "      <th>Time</th>\n",
       "      <th>Flow</th>\n",
       "      <th>Fixture</th>\n",
       "    </tr>\n",
       "  </thead>\n",
       "  <tbody>\n",
       "    <tr>\n",
       "      <th>0</th>\n",
       "      <td>1550334979</td>\n",
       "      <td>92.0</td>\n",
       "      <td>Bidet</td>\n",
       "    </tr>\n",
       "    <tr>\n",
       "      <th>1</th>\n",
       "      <td>1550334980</td>\n",
       "      <td>6.0</td>\n",
       "      <td>Bidet</td>\n",
       "    </tr>\n",
       "    <tr>\n",
       "      <th>2</th>\n",
       "      <td>1550335912</td>\n",
       "      <td>38.0</td>\n",
       "      <td>Bidet</td>\n",
       "    </tr>\n",
       "    <tr>\n",
       "      <th>3</th>\n",
       "      <td>1550335914</td>\n",
       "      <td>58.0</td>\n",
       "      <td>Bidet</td>\n",
       "    </tr>\n",
       "    <tr>\n",
       "      <th>4</th>\n",
       "      <td>1550335915</td>\n",
       "      <td>56.0</td>\n",
       "      <td>Bidet</td>\n",
       "    </tr>\n",
       "  </tbody>\n",
       "</table>\n",
       "</div>"
      ],
      "text/plain": [
       "         Time  Flow Fixture\n",
       "0  1550334979  92.0   Bidet\n",
       "1  1550334980   6.0   Bidet\n",
       "2  1550335912  38.0   Bidet\n",
       "3  1550335914  58.0   Bidet\n",
       "4  1550335915  56.0   Bidet"
      ]
     },
     "execution_count": 3,
     "metadata": {},
     "output_type": "execute_result"
    }
   ],
   "source": [
    "df_list = []\n",
    "for f in files:\n",
    "    \n",
    "    name = f.split('_')[1]\n",
    "    name = name.split('.')[0]\n",
    "    \n",
    "    if name == 'Shower' or name == 'Washbasin':\n",
    "        df = pd.read_csv(f, sep = ' ', header = None)\n",
    "        df.columns = ['Time', 'Flow']\n",
    "    else:\n",
    "        df = pd.read_csv(f, sep = ',')\n",
    "    \n",
    "    df['Fixture'] = name\n",
    "    \n",
    "    df_list.append(df)\n",
    "      \n",
    "df = pd.concat(df_list, ignore_index=True, axis = 0) # axis = 0 for stacking (axis = 1 for binding)\n",
    "df.head()"
   ]
  },
  {
   "cell_type": "markdown",
   "id": "6172c49e",
   "metadata": {},
   "source": [
    "The resulting dataframe has a `timestamps` column **Time**, thus i decide to convert it in `datetime` and set it as index."
   ]
  },
  {
   "cell_type": "code",
   "execution_count": 4,
   "id": "120e9577",
   "metadata": {},
   "outputs": [
    {
     "data": {
      "text/html": [
       "<div>\n",
       "<style scoped>\n",
       "    .dataframe tbody tr th:only-of-type {\n",
       "        vertical-align: middle;\n",
       "    }\n",
       "\n",
       "    .dataframe tbody tr th {\n",
       "        vertical-align: top;\n",
       "    }\n",
       "\n",
       "    .dataframe thead th {\n",
       "        text-align: right;\n",
       "    }\n",
       "</style>\n",
       "<table border=\"1\" class=\"dataframe\">\n",
       "  <thead>\n",
       "    <tr style=\"text-align: right;\">\n",
       "      <th></th>\n",
       "      <th>Flow</th>\n",
       "      <th>Fixture</th>\n",
       "    </tr>\n",
       "    <tr>\n",
       "      <th>Time</th>\n",
       "      <th></th>\n",
       "      <th></th>\n",
       "    </tr>\n",
       "  </thead>\n",
       "  <tbody>\n",
       "    <tr>\n",
       "      <th>2019-02-16 16:36:19</th>\n",
       "      <td>92.0</td>\n",
       "      <td>Bidet</td>\n",
       "    </tr>\n",
       "    <tr>\n",
       "      <th>2019-02-16 16:36:20</th>\n",
       "      <td>6.0</td>\n",
       "      <td>Bidet</td>\n",
       "    </tr>\n",
       "    <tr>\n",
       "      <th>2019-02-16 16:51:52</th>\n",
       "      <td>38.0</td>\n",
       "      <td>Bidet</td>\n",
       "    </tr>\n",
       "    <tr>\n",
       "      <th>2019-02-16 16:51:54</th>\n",
       "      <td>58.0</td>\n",
       "      <td>Bidet</td>\n",
       "    </tr>\n",
       "    <tr>\n",
       "      <th>2019-02-16 16:51:55</th>\n",
       "      <td>56.0</td>\n",
       "      <td>Bidet</td>\n",
       "    </tr>\n",
       "  </tbody>\n",
       "</table>\n",
       "</div>"
      ],
      "text/plain": [
       "                     Flow Fixture\n",
       "Time                             \n",
       "2019-02-16 16:36:19  92.0   Bidet\n",
       "2019-02-16 16:36:20   6.0   Bidet\n",
       "2019-02-16 16:51:52  38.0   Bidet\n",
       "2019-02-16 16:51:54  58.0   Bidet\n",
       "2019-02-16 16:51:55  56.0   Bidet"
      ]
     },
     "execution_count": 4,
     "metadata": {},
     "output_type": "execute_result"
    }
   ],
   "source": [
    "df['Time'] = pd.to_datetime(df['Time'], unit='s') # Datetime conversion\n",
    "df.set_index('Time', inplace = True) # Datetime as index\n",
    "df.head()"
   ]
  }
 ],
 "metadata": {
  "kernelspec": {
   "display_name": "Python 3",
   "language": "python",
   "name": "python3"
  },
  "language_info": {
   "codemirror_mode": {
    "name": "ipython",
    "version": 3
   },
   "file_extension": ".py",
   "mimetype": "text/x-python",
   "name": "python",
   "nbconvert_exporter": "python",
   "pygments_lexer": "ipython3",
   "version": "3.8.8"
  }
 },
 "nbformat": 4,
 "nbformat_minor": 5
}
